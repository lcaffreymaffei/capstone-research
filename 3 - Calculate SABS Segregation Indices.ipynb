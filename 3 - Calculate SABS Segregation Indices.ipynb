{
 "cells": [
  {
   "cell_type": "markdown",
   "id": "397ad6ca",
   "metadata": {},
   "source": [
    "# SET UP"
   ]
  },
  {
   "cell_type": "code",
   "execution_count": 1,
   "id": "6b70b6a6",
   "metadata": {},
   "outputs": [],
   "source": [
    "import numpy as np\n",
    "import pandas as pd\n",
    "from osgeo import ogr, gdal, osr\n",
    "import geopandas as gpd\n",
    "import os\n",
    "import fiona\n",
    "from shapely.validation import make_valid, explain_validity\n",
    "pd.options.mode.chained_assignment = None  # default='warn'\n"
   ]
  },
  {
   "cell_type": "markdown",
   "id": "b0e4e7a0",
   "metadata": {},
   "source": [
    "# COMPARING ROAD VS. AREA PROPORTIONING APPROACHES"
   ]
  },
  {
   "cell_type": "code",
   "execution_count": 159,
   "id": "b654215f",
   "metadata": {},
   "outputs": [],
   "source": [
    "road_test = gpd.read_file('/Users/lacm/Documents/Stanford/*Capstone Research/Data/SY 2011-12/Census Data/2012 Census Block Groups with Demographics and Road Lengths/road test.shp')"
   ]
  },
  {
   "cell_type": "code",
   "execution_count": 160,
   "id": "966e68c1",
   "metadata": {},
   "outputs": [],
   "source": [
    "road_test = road_test[(road_test['SDUNIA_g'].notna()) & (road_test['count_hisp'].notna())]"
   ]
  },
  {
   "cell_type": "code",
   "execution_count": 161,
   "id": "357575b6",
   "metadata": {},
   "outputs": [],
   "source": [
    "road_test['weight'] = road_test['LENGTH']/road_test['length_cen']"
   ]
  },
  {
   "cell_type": "code",
   "execution_count": 162,
   "id": "bc4ff873",
   "metadata": {},
   "outputs": [],
   "source": [
    "road_test['count_blac'] = road_test['count_blac'].astype('float')\n",
    "road_test['count_nati'] = road_test['count_nati'].astype('float')\n",
    "road_test['count_asia'] = road_test['count_asia'].astype('float')\n",
    "road_test['count_hawa'] = road_test['count_hawa'].astype('float')\n",
    "road_test['count_othe'] = road_test['count_othe'].astype('float')\n",
    "road_test['count_mult'] = road_test['count_mult'].astype('float')\n",
    "road_test['count_whit'] = road_test['count_whit'].astype('float')\n",
    "road_test['count_hisp'] = road_test['count_hisp'].astype('float')\n",
    "road_test['count_tota'] = road_test['count_tota'].astype('float')"
   ]
  },
  {
   "cell_type": "code",
   "execution_count": 163,
   "id": "e0034a19",
   "metadata": {},
   "outputs": [],
   "source": [
    "road_test['count_black_weighted'] = road_test['count_blac'] * road_test['weight']\n",
    "road_test['count_native_weighted'] = road_test['count_nati'] * road_test['weight']\n",
    "road_test['count_asian_weighted'] = road_test['count_asia'] * road_test['weight']\n",
    "road_test['count_hawaiian_weighted'] = road_test['count_hawa'] * road_test['weight']\n",
    "road_test['count_other_weighted'] = road_test['count_othe'] * road_test['weight']\n",
    "road_test['count_multiracial_weighted'] = road_test['count_mult'] * road_test['weight']\n",
    "road_test['count_white_weighted'] = road_test['count_whit'] * road_test['weight']\n",
    "road_test['count_hispanic_weighted'] = road_test['count_hisp'] * road_test['weight']\n",
    "road_test['count_total_weighted'] = road_test['count_tota'] * road_test['weight']"
   ]
  },
  {
   "cell_type": "code",
   "execution_count": 164,
   "id": "efb19996",
   "metadata": {},
   "outputs": [],
   "source": [
    "road_test = road_test.groupby('GISJOIN')[['count_black_weighted', 'count_native_weighted', 'count_asian_weighted', \n",
    "                                                            'count_hawaiian_weighted', 'count_other_weighted', \n",
    "                                                            'count_multiracial_weighted', 'count_white_weighted',\n",
    "                                                            'count_hispanic_weighted', 'count_total_weighted']].sum()"
   ]
  },
  {
   "cell_type": "code",
   "execution_count": 165,
   "id": "fcb34257",
   "metadata": {},
   "outputs": [],
   "source": [
    "road_test.reset_index(inplace=True)"
   ]
  },
  {
   "cell_type": "markdown",
   "id": "6b1a1180",
   "metadata": {},
   "source": [
    "____"
   ]
  },
  {
   "cell_type": "code",
   "execution_count": 148,
   "id": "c513f47d",
   "metadata": {},
   "outputs": [],
   "source": [
    "area_test = gpd.read_file('/Users/lacm/Documents/Stanford/*Capstone Research/Data/SY 2011-12/Census Data/2012 Census Block Groups with Demographics and Road Lengths/area test.shp')"
   ]
  },
  {
   "cell_type": "code",
   "execution_count": 150,
   "id": "3bbf1294",
   "metadata": {},
   "outputs": [],
   "source": [
    "area_test = area_test[(area_test['SDUNIA_g'].notna()) & (area_test['count_hisp'].notna())]"
   ]
  },
  {
   "cell_type": "code",
   "execution_count": 151,
   "id": "acfd1f0c",
   "metadata": {},
   "outputs": [],
   "source": [
    "area_test['weight'] = area_test['area']/area_test['area_censu']"
   ]
  },
  {
   "cell_type": "code",
   "execution_count": 152,
   "id": "d1bb1e9d",
   "metadata": {},
   "outputs": [],
   "source": [
    "area_test['count_blac'] = area_test['count_blac'].astype('float')\n",
    "area_test['count_nati'] = area_test['count_nati'].astype('float')\n",
    "area_test['count_asia'] = area_test['count_asia'].astype('float')\n",
    "area_test['count_hawa'] = area_test['count_hawa'].astype('float')\n",
    "area_test['count_othe'] = area_test['count_othe'].astype('float')\n",
    "area_test['count_mult'] = area_test['count_mult'].astype('float')\n",
    "area_test['count_whit'] = area_test['count_whit'].astype('float')\n",
    "area_test['count_hisp'] = area_test['count_hisp'].astype('float')\n",
    "area_test['count_tota'] = area_test['count_tota'].astype('float')"
   ]
  },
  {
   "cell_type": "code",
   "execution_count": 153,
   "id": "d85f38c9",
   "metadata": {},
   "outputs": [],
   "source": [
    "area_test['count_black_weighted'] = area_test['count_blac'] * area_test['weight']\n",
    "area_test['count_native_weighted'] = area_test['count_nati'] * area_test['weight']\n",
    "area_test['count_asian_weighted'] = area_test['count_asia'] * area_test['weight']\n",
    "area_test['count_hawaiian_weighted'] = area_test['count_hawa'] * area_test['weight']\n",
    "area_test['count_other_weighted'] = area_test['count_othe'] * area_test['weight']\n",
    "area_test['count_multiracial_weighted'] = area_test['count_mult'] * area_test['weight']\n",
    "area_test['count_white_weighted'] = area_test['count_whit'] * area_test['weight']\n",
    "area_test['count_hispanic_weighted'] = area_test['count_hisp'] * area_test['weight']\n",
    "area_test['count_total_weighted'] = area_test['count_tota'] * area_test['weight']"
   ]
  },
  {
   "cell_type": "code",
   "execution_count": 156,
   "id": "54af7406",
   "metadata": {},
   "outputs": [],
   "source": [
    "area_test = area_test.groupby('GISJOIN')[['count_black_weighted', 'count_native_weighted', 'count_asian_weighted', \n",
    "                                                            'count_hawaiian_weighted', 'count_other_weighted', \n",
    "                                                            'count_multiracial_weighted', 'count_white_weighted',\n",
    "                                                            'count_hispanic_weighted', 'count_total_weighted']].sum()"
   ]
  },
  {
   "cell_type": "code",
   "execution_count": 157,
   "id": "c1679317",
   "metadata": {},
   "outputs": [],
   "source": [
    "area_test.reset_index(inplace=True)\n"
   ]
  },
  {
   "cell_type": "markdown",
   "id": "3cbbf6d4",
   "metadata": {},
   "source": [
    "_____"
   ]
  },
  {
   "cell_type": "code",
   "execution_count": null,
   "id": "09a0e99d",
   "metadata": {},
   "outputs": [],
   "source": [
    "# COMPARING ESTIMATES BETWEEN THE TWO APPROACHES"
   ]
  },
  {
   "cell_type": "code",
   "execution_count": 166,
   "id": "1aeabad7",
   "metadata": {},
   "outputs": [],
   "source": [
    "comparison = pd.merge(area_test, road_test, how='left', on='GISJOIN')"
   ]
  },
  {
   "cell_type": "code",
   "execution_count": 167,
   "id": "a4e3633b",
   "metadata": {},
   "outputs": [
    {
     "data": {
      "text/html": [
       "<div>\n",
       "<style scoped>\n",
       "    .dataframe tbody tr th:only-of-type {\n",
       "        vertical-align: middle;\n",
       "    }\n",
       "\n",
       "    .dataframe tbody tr th {\n",
       "        vertical-align: top;\n",
       "    }\n",
       "\n",
       "    .dataframe thead th {\n",
       "        text-align: right;\n",
       "    }\n",
       "</style>\n",
       "<table border=\"1\" class=\"dataframe\">\n",
       "  <thead>\n",
       "    <tr style=\"text-align: right;\">\n",
       "      <th></th>\n",
       "      <th>GISJOIN</th>\n",
       "      <th>count_black_weighted_x</th>\n",
       "      <th>count_native_weighted_x</th>\n",
       "      <th>count_asian_weighted_x</th>\n",
       "      <th>count_hawaiian_weighted_x</th>\n",
       "      <th>count_other_weighted_x</th>\n",
       "      <th>count_multiracial_weighted_x</th>\n",
       "      <th>count_white_weighted_x</th>\n",
       "      <th>count_hispanic_weighted_x</th>\n",
       "      <th>count_total_weighted_x</th>\n",
       "      <th>count_black_weighted_y</th>\n",
       "      <th>count_native_weighted_y</th>\n",
       "      <th>count_asian_weighted_y</th>\n",
       "      <th>count_hawaiian_weighted_y</th>\n",
       "      <th>count_other_weighted_y</th>\n",
       "      <th>count_multiracial_weighted_y</th>\n",
       "      <th>count_white_weighted_y</th>\n",
       "      <th>count_hispanic_weighted_y</th>\n",
       "      <th>count_total_weighted_y</th>\n",
       "    </tr>\n",
       "  </thead>\n",
       "  <tbody>\n",
       "    <tr>\n",
       "      <th>0</th>\n",
       "      <td>G2700001000103</td>\n",
       "      <td>0.000000</td>\n",
       "      <td>0.000000</td>\n",
       "      <td>2.004598</td>\n",
       "      <td>0.0</td>\n",
       "      <td>0.000000</td>\n",
       "      <td>0.000000</td>\n",
       "      <td>58.125584</td>\n",
       "      <td>0.000000e+00</td>\n",
       "      <td>60.130182</td>\n",
       "      <td>0.000000</td>\n",
       "      <td>0.000000</td>\n",
       "      <td>1.615212e+00</td>\n",
       "      <td>0.0</td>\n",
       "      <td>0.000000</td>\n",
       "      <td>0.000000e+00</td>\n",
       "      <td>56.724760</td>\n",
       "      <td>0.000000</td>\n",
       "      <td>58.339972</td>\n",
       "    </tr>\n",
       "    <tr>\n",
       "      <th>1</th>\n",
       "      <td>G2700005000103</td>\n",
       "      <td>0.000000</td>\n",
       "      <td>0.000000</td>\n",
       "      <td>0.000000</td>\n",
       "      <td>0.0</td>\n",
       "      <td>0.989016</td>\n",
       "      <td>2.597457</td>\n",
       "      <td>70.745037</td>\n",
       "      <td>3.090368e+01</td>\n",
       "      <td>104.246174</td>\n",
       "      <td>0.000000</td>\n",
       "      <td>0.000000</td>\n",
       "      <td>0.000000e+00</td>\n",
       "      <td>0.0</td>\n",
       "      <td>0.929272</td>\n",
       "      <td>2.184244e+00</td>\n",
       "      <td>70.209302</td>\n",
       "      <td>30.872717</td>\n",
       "      <td>103.266263</td>\n",
       "    </tr>\n",
       "    <tr>\n",
       "      <th>2</th>\n",
       "      <td>G2700006000103</td>\n",
       "      <td>0.000000</td>\n",
       "      <td>0.000000</td>\n",
       "      <td>2.962728</td>\n",
       "      <td>0.0</td>\n",
       "      <td>0.000000</td>\n",
       "      <td>0.000000</td>\n",
       "      <td>70.089745</td>\n",
       "      <td>1.587576e+00</td>\n",
       "      <td>74.640049</td>\n",
       "      <td>0.000000</td>\n",
       "      <td>0.000000</td>\n",
       "      <td>2.943182e+00</td>\n",
       "      <td>0.0</td>\n",
       "      <td>0.000000</td>\n",
       "      <td>0.000000e+00</td>\n",
       "      <td>68.814297</td>\n",
       "      <td>1.511658</td>\n",
       "      <td>73.269136</td>\n",
       "    </tr>\n",
       "    <tr>\n",
       "      <th>3</th>\n",
       "      <td>G2700007000103</td>\n",
       "      <td>1.775708</td>\n",
       "      <td>0.000000</td>\n",
       "      <td>0.103971</td>\n",
       "      <td>0.0</td>\n",
       "      <td>0.138916</td>\n",
       "      <td>0.092611</td>\n",
       "      <td>76.127179</td>\n",
       "      <td>0.000000e+00</td>\n",
       "      <td>78.238385</td>\n",
       "      <td>1.693100</td>\n",
       "      <td>0.000000</td>\n",
       "      <td>1.396698e-01</td>\n",
       "      <td>0.0</td>\n",
       "      <td>0.197300</td>\n",
       "      <td>1.315335e-01</td>\n",
       "      <td>76.587696</td>\n",
       "      <td>0.000000</td>\n",
       "      <td>78.749299</td>\n",
       "    </tr>\n",
       "    <tr>\n",
       "      <th>4</th>\n",
       "      <td>G2700008000103</td>\n",
       "      <td>0.000000</td>\n",
       "      <td>0.123419</td>\n",
       "      <td>0.000000</td>\n",
       "      <td>0.0</td>\n",
       "      <td>0.000000</td>\n",
       "      <td>0.000000</td>\n",
       "      <td>17.346878</td>\n",
       "      <td>2.666324e-11</td>\n",
       "      <td>17.470297</td>\n",
       "      <td>0.000000</td>\n",
       "      <td>0.177257</td>\n",
       "      <td>0.000000e+00</td>\n",
       "      <td>0.0</td>\n",
       "      <td>0.000000</td>\n",
       "      <td>0.000000e+00</td>\n",
       "      <td>18.412325</td>\n",
       "      <td>0.000000</td>\n",
       "      <td>18.589582</td>\n",
       "    </tr>\n",
       "    <tr>\n",
       "      <th>...</th>\n",
       "      <td>...</td>\n",
       "      <td>...</td>\n",
       "      <td>...</td>\n",
       "      <td>...</td>\n",
       "      <td>...</td>\n",
       "      <td>...</td>\n",
       "      <td>...</td>\n",
       "      <td>...</td>\n",
       "      <td>...</td>\n",
       "      <td>...</td>\n",
       "      <td>...</td>\n",
       "      <td>...</td>\n",
       "      <td>...</td>\n",
       "      <td>...</td>\n",
       "      <td>...</td>\n",
       "      <td>...</td>\n",
       "      <td>...</td>\n",
       "      <td>...</td>\n",
       "      <td>...</td>\n",
       "    </tr>\n",
       "    <tr>\n",
       "      <th>697</th>\n",
       "      <td>G2791447100303</td>\n",
       "      <td>0.000000</td>\n",
       "      <td>0.000000</td>\n",
       "      <td>0.000000</td>\n",
       "      <td>0.0</td>\n",
       "      <td>0.000000</td>\n",
       "      <td>0.000000</td>\n",
       "      <td>0.045972</td>\n",
       "      <td>0.000000e+00</td>\n",
       "      <td>0.045972</td>\n",
       "      <td>0.000000</td>\n",
       "      <td>0.000000</td>\n",
       "      <td>0.000000e+00</td>\n",
       "      <td>0.0</td>\n",
       "      <td>0.000000</td>\n",
       "      <td>0.000000e+00</td>\n",
       "      <td>0.143785</td>\n",
       "      <td>0.000000</td>\n",
       "      <td>0.143785</td>\n",
       "    </tr>\n",
       "    <tr>\n",
       "      <th>698</th>\n",
       "      <td>G2791448000103</td>\n",
       "      <td>0.000000</td>\n",
       "      <td>0.000000</td>\n",
       "      <td>0.000000</td>\n",
       "      <td>0.0</td>\n",
       "      <td>0.000000</td>\n",
       "      <td>0.000000</td>\n",
       "      <td>14.302032</td>\n",
       "      <td>0.000000e+00</td>\n",
       "      <td>14.302032</td>\n",
       "      <td>0.000000</td>\n",
       "      <td>0.000000</td>\n",
       "      <td>0.000000e+00</td>\n",
       "      <td>0.0</td>\n",
       "      <td>0.000000</td>\n",
       "      <td>0.000000e+00</td>\n",
       "      <td>14.363092</td>\n",
       "      <td>0.000000</td>\n",
       "      <td>14.363092</td>\n",
       "    </tr>\n",
       "    <tr>\n",
       "      <th>699</th>\n",
       "      <td>G2791449000103</td>\n",
       "      <td>0.331948</td>\n",
       "      <td>0.000000</td>\n",
       "      <td>0.000000</td>\n",
       "      <td>0.0</td>\n",
       "      <td>0.000000</td>\n",
       "      <td>0.000000</td>\n",
       "      <td>49.491431</td>\n",
       "      <td>3.080869e+00</td>\n",
       "      <td>52.904249</td>\n",
       "      <td>0.354216</td>\n",
       "      <td>0.000000</td>\n",
       "      <td>0.000000e+00</td>\n",
       "      <td>0.0</td>\n",
       "      <td>0.000000</td>\n",
       "      <td>1.014637e-11</td>\n",
       "      <td>50.009682</td>\n",
       "      <td>3.097762</td>\n",
       "      <td>53.461660</td>\n",
       "    </tr>\n",
       "    <tr>\n",
       "      <th>700</th>\n",
       "      <td>G2791450000103</td>\n",
       "      <td>0.000000</td>\n",
       "      <td>0.000000</td>\n",
       "      <td>0.000000</td>\n",
       "      <td>0.0</td>\n",
       "      <td>0.000000</td>\n",
       "      <td>6.399605</td>\n",
       "      <td>98.302326</td>\n",
       "      <td>0.000000e+00</td>\n",
       "      <td>104.701930</td>\n",
       "      <td>0.000000</td>\n",
       "      <td>0.000000</td>\n",
       "      <td>0.000000e+00</td>\n",
       "      <td>0.0</td>\n",
       "      <td>0.000000</td>\n",
       "      <td>5.013714e+00</td>\n",
       "      <td>102.361157</td>\n",
       "      <td>0.000000</td>\n",
       "      <td>107.374871</td>\n",
       "    </tr>\n",
       "    <tr>\n",
       "      <th>701</th>\n",
       "      <td>G2791451000103</td>\n",
       "      <td>0.000000</td>\n",
       "      <td>0.000000</td>\n",
       "      <td>0.000000</td>\n",
       "      <td>0.0</td>\n",
       "      <td>0.000000</td>\n",
       "      <td>0.000000</td>\n",
       "      <td>61.733392</td>\n",
       "      <td>4.331967e+00</td>\n",
       "      <td>66.065359</td>\n",
       "      <td>0.000000</td>\n",
       "      <td>0.000000</td>\n",
       "      <td>4.454398e-10</td>\n",
       "      <td>0.0</td>\n",
       "      <td>0.000000</td>\n",
       "      <td>0.000000e+00</td>\n",
       "      <td>62.388093</td>\n",
       "      <td>4.202451</td>\n",
       "      <td>66.590544</td>\n",
       "    </tr>\n",
       "  </tbody>\n",
       "</table>\n",
       "<p>702 rows × 19 columns</p>\n",
       "</div>"
      ],
      "text/plain": [
       "            GISJOIN  count_black_weighted_x  count_native_weighted_x  \\\n",
       "0    G2700001000103                0.000000                 0.000000   \n",
       "1    G2700005000103                0.000000                 0.000000   \n",
       "2    G2700006000103                0.000000                 0.000000   \n",
       "3    G2700007000103                1.775708                 0.000000   \n",
       "4    G2700008000103                0.000000                 0.123419   \n",
       "..              ...                     ...                      ...   \n",
       "697  G2791447100303                0.000000                 0.000000   \n",
       "698  G2791448000103                0.000000                 0.000000   \n",
       "699  G2791449000103                0.331948                 0.000000   \n",
       "700  G2791450000103                0.000000                 0.000000   \n",
       "701  G2791451000103                0.000000                 0.000000   \n",
       "\n",
       "     count_asian_weighted_x  count_hawaiian_weighted_x  \\\n",
       "0                  2.004598                        0.0   \n",
       "1                  0.000000                        0.0   \n",
       "2                  2.962728                        0.0   \n",
       "3                  0.103971                        0.0   \n",
       "4                  0.000000                        0.0   \n",
       "..                      ...                        ...   \n",
       "697                0.000000                        0.0   \n",
       "698                0.000000                        0.0   \n",
       "699                0.000000                        0.0   \n",
       "700                0.000000                        0.0   \n",
       "701                0.000000                        0.0   \n",
       "\n",
       "     count_other_weighted_x  count_multiracial_weighted_x  \\\n",
       "0                  0.000000                      0.000000   \n",
       "1                  0.989016                      2.597457   \n",
       "2                  0.000000                      0.000000   \n",
       "3                  0.138916                      0.092611   \n",
       "4                  0.000000                      0.000000   \n",
       "..                      ...                           ...   \n",
       "697                0.000000                      0.000000   \n",
       "698                0.000000                      0.000000   \n",
       "699                0.000000                      0.000000   \n",
       "700                0.000000                      6.399605   \n",
       "701                0.000000                      0.000000   \n",
       "\n",
       "     count_white_weighted_x  count_hispanic_weighted_x  \\\n",
       "0                 58.125584               0.000000e+00   \n",
       "1                 70.745037               3.090368e+01   \n",
       "2                 70.089745               1.587576e+00   \n",
       "3                 76.127179               0.000000e+00   \n",
       "4                 17.346878               2.666324e-11   \n",
       "..                      ...                        ...   \n",
       "697                0.045972               0.000000e+00   \n",
       "698               14.302032               0.000000e+00   \n",
       "699               49.491431               3.080869e+00   \n",
       "700               98.302326               0.000000e+00   \n",
       "701               61.733392               4.331967e+00   \n",
       "\n",
       "     count_total_weighted_x  count_black_weighted_y  count_native_weighted_y  \\\n",
       "0                 60.130182                0.000000                 0.000000   \n",
       "1                104.246174                0.000000                 0.000000   \n",
       "2                 74.640049                0.000000                 0.000000   \n",
       "3                 78.238385                1.693100                 0.000000   \n",
       "4                 17.470297                0.000000                 0.177257   \n",
       "..                      ...                     ...                      ...   \n",
       "697                0.045972                0.000000                 0.000000   \n",
       "698               14.302032                0.000000                 0.000000   \n",
       "699               52.904249                0.354216                 0.000000   \n",
       "700              104.701930                0.000000                 0.000000   \n",
       "701               66.065359                0.000000                 0.000000   \n",
       "\n",
       "     count_asian_weighted_y  count_hawaiian_weighted_y  \\\n",
       "0              1.615212e+00                        0.0   \n",
       "1              0.000000e+00                        0.0   \n",
       "2              2.943182e+00                        0.0   \n",
       "3              1.396698e-01                        0.0   \n",
       "4              0.000000e+00                        0.0   \n",
       "..                      ...                        ...   \n",
       "697            0.000000e+00                        0.0   \n",
       "698            0.000000e+00                        0.0   \n",
       "699            0.000000e+00                        0.0   \n",
       "700            0.000000e+00                        0.0   \n",
       "701            4.454398e-10                        0.0   \n",
       "\n",
       "     count_other_weighted_y  count_multiracial_weighted_y  \\\n",
       "0                  0.000000                  0.000000e+00   \n",
       "1                  0.929272                  2.184244e+00   \n",
       "2                  0.000000                  0.000000e+00   \n",
       "3                  0.197300                  1.315335e-01   \n",
       "4                  0.000000                  0.000000e+00   \n",
       "..                      ...                           ...   \n",
       "697                0.000000                  0.000000e+00   \n",
       "698                0.000000                  0.000000e+00   \n",
       "699                0.000000                  1.014637e-11   \n",
       "700                0.000000                  5.013714e+00   \n",
       "701                0.000000                  0.000000e+00   \n",
       "\n",
       "     count_white_weighted_y  count_hispanic_weighted_y  count_total_weighted_y  \n",
       "0                 56.724760                   0.000000               58.339972  \n",
       "1                 70.209302                  30.872717              103.266263  \n",
       "2                 68.814297                   1.511658               73.269136  \n",
       "3                 76.587696                   0.000000               78.749299  \n",
       "4                 18.412325                   0.000000               18.589582  \n",
       "..                      ...                        ...                     ...  \n",
       "697                0.143785                   0.000000                0.143785  \n",
       "698               14.363092                   0.000000               14.363092  \n",
       "699               50.009682                   3.097762               53.461660  \n",
       "700              102.361157                   0.000000              107.374871  \n",
       "701               62.388093                   4.202451               66.590544  \n",
       "\n",
       "[702 rows x 19 columns]"
      ]
     },
     "execution_count": 167,
     "metadata": {},
     "output_type": "execute_result"
    }
   ],
   "source": [
    "comparison"
   ]
  },
  {
   "cell_type": "code",
   "execution_count": 168,
   "id": "b820f78e",
   "metadata": {},
   "outputs": [],
   "source": [
    "comparison['dif'] = comparison['count_total_weighted_x'] - comparison['count_total_weighted_y']"
   ]
  },
  {
   "cell_type": "code",
   "execution_count": 169,
   "id": "89eeac20",
   "metadata": {},
   "outputs": [
    {
     "data": {
      "text/plain": [
       "count    702.000000\n",
       "mean       0.000891\n",
       "std        8.052315\n",
       "min      -44.576581\n",
       "25%       -2.292379\n",
       "50%        0.063405\n",
       "75%        2.128549\n",
       "max       53.429508\n",
       "Name: dif, dtype: float64"
      ]
     },
     "execution_count": 169,
     "metadata": {},
     "output_type": "execute_result"
    }
   ],
   "source": [
    "comparison['dif'].describe()"
   ]
  },
  {
   "cell_type": "code",
   "execution_count": 171,
   "id": "9c47b8c3",
   "metadata": {},
   "outputs": [],
   "source": [
    "import matplotlib.pyplot as plt"
   ]
  },
  {
   "cell_type": "code",
   "execution_count": 173,
   "id": "d0a72abb",
   "metadata": {},
   "outputs": [
    {
     "data": {
      "text/plain": [
       "{'whiskers': [<matplotlib.lines.Line2D at 0x7f89bb0ba2b0>,\n",
       "  <matplotlib.lines.Line2D at 0x7f89bb0ba550>],\n",
       " 'caps': [<matplotlib.lines.Line2D at 0x7f89bb0ba6d0>,\n",
       "  <matplotlib.lines.Line2D at 0x7f89bb0ba970>],\n",
       " 'boxes': [<matplotlib.lines.Line2D at 0x7f89bb125fd0>],\n",
       " 'medians': [<matplotlib.lines.Line2D at 0x7f89bb0bac10>],\n",
       " 'fliers': [<matplotlib.lines.Line2D at 0x7f89bb0baeb0>],\n",
       " 'means': []}"
      ]
     },
     "execution_count": 173,
     "metadata": {},
     "output_type": "execute_result"
    },
    {
     "data": {
      "image/png": "[encoded data removed]",
      "text/plain": [
       "<Figure size 640x480 with 1 Axes>"
      ]
     },
     "metadata": {},
     "output_type": "display_data"
    }
   ],
   "source": [
    "plt.boxplot(comparison['dif'], vert=False)"
   ]
  },
  {
   "cell_type": "code",
   "execution_count": 175,
   "id": "5e39b44b",
   "metadata": {},
   "outputs": [
    {
     "data": {
      "text/plain": [
       "(array([  1.,   1.,   0.,   0.,   0.,   1.,   1.,   0.,   1.,   3.,   1.,\n",
       "          1.,   3.,   3.,   6.,   6.,   9.,  19.,  15.,  39.,  34.,  59.,\n",
       "        213., 123.,  63.,  23.,  22.,  14.,   6.,   4.,   5.,   7.,   3.,\n",
       "          6.,   3.,   0.,   0.,   1.,   2.,   0.,   2.,   0.,   0.,   1.,\n",
       "          0.,   0.,   0.,   0.,   0.,   1.]),\n",
       " array([-44.57658101, -42.61645924, -40.65633747, -38.6962157 ,\n",
       "        -36.73609392, -34.77597215, -32.81585038, -30.85572861,\n",
       "        -28.89560684, -26.93548507, -24.9753633 , -23.01524153,\n",
       "        -21.05511976, -19.09499799, -17.13487622, -15.17475445,\n",
       "        -13.21463268, -11.25451091,  -9.29438914,  -7.33426736,\n",
       "         -5.37414559,  -3.41402382,  -1.45390205,   0.50621972,\n",
       "          2.46634149,   4.42646326,   6.38658503,   8.3467068 ,\n",
       "         10.30682857,  12.26695034,  14.22707211,  16.18719388,\n",
       "         18.14731565,  20.10743742,  22.06755919,  24.02768097,\n",
       "         25.98780274,  27.94792451,  29.90804628,  31.86816805,\n",
       "         33.82828982,  35.78841159,  37.74853336,  39.70865513,\n",
       "         41.6687769 ,  43.62889867,  45.58902044,  47.54914221,\n",
       "         49.50926398,  51.46938575,  53.42950752]),\n",
       " <BarContainer object of 50 artists>)"
      ]
     },
     "execution_count": 175,
     "metadata": {},
     "output_type": "execute_result"
    },
    {
     "data": {
      "image/png": "[encoded data removed]",
      "text/plain": [
       "<Figure size 640x480 with 1 Axes>"
      ]
     },
     "metadata": {},
     "output_type": "display_data"
    }
   ],
   "source": [
    "plt.hist(comparison['dif'], bins=50)"
   ]
  },
  {
   "cell_type": "markdown",
   "id": "66b375a8",
   "metadata": {},
   "source": [
    "_______"
   ]
  },
  {
   "cell_type": "markdown",
   "id": "f7c0a5c7",
   "metadata": {},
   "source": [
    "# CALCULATE SEGREGATION INDICIES"
   ]
  },
  {
   "cell_type": "code",
   "execution_count": 2,
   "id": "6a247bb1",
   "metadata": {},
   "outputs": [],
   "source": [
    "# create function for calculating proportions\n",
    "\n",
    "def entropy(df):\n",
    "    \n",
    "    # calculate proportion of population\n",
    "    df['count_white'] = df['count_white'].astype('float')\n",
    "    df['count_black'] = df['count_black'].astype('float')\n",
    "    df['count_native'] = df['count_native'].astype('float')\n",
    "    df['count_asian'] = df['count_asian'].astype('float')\n",
    "    df['count_hawaiianpacific'] = df['count_hawaiianpacific'].astype('float')\n",
    "    df['count_other'] = df['count_other'].astype('float')\n",
    "    df['count_multiracial'] = df['count_multiracial'].astype('float')\n",
    "    df['count_hispanic_latino'] = df['count_hispanic_latino'].astype('float')\n",
    "    df['census_count_total'] = df['census_count_total'].astype('float')\n",
    "    df['naive_count_total'] = df['count_white'] + df['count_black'] + df['count_native'] + df['count_asian'] + df['count_hawaiianpacific'] + df['count_other'] + df['count_multiracial'] + df['count_hispanic_latino']\n",
    "    \n",
    "    df['prop_white'] = df['count_white']/ df['naive_count_total']\n",
    "    df['prop_black'] = df['count_black']/ df['naive_count_total']\n",
    "    df['prop_native'] = df['count_native']/ df['naive_count_total']\n",
    "    df['prop_asian'] = df['count_asian']/ df['naive_count_total']\n",
    "    df['prop_hawaiianpacific'] = df['count_hawaiianpacific']/ df['naive_count_total']\n",
    "    df['prop_other'] = df['count_other']/ df['naive_count_total']\n",
    "    df['prop_multiracial'] = df['count_multiracial']/ df['naive_count_total']\n",
    "    df['prop_hispanic_latino'] = df['count_hispanic_latino']/ df['naive_count_total']\n",
    "    \n",
    "    # calculate p*log(p) for each racial group in a attendance zone\n",
    "    df['log_white'] = df['prop_white'] * np.log(df['prop_white'])\n",
    "    df['log_black'] = df['prop_black'] * np.log(df['prop_black'])\n",
    "    df['log_native'] = df['prop_native'] * np.log(df['prop_native'])\n",
    "    df['log_asian'] = df['prop_asian'] * np.log(df['prop_asian'])\n",
    "    df['log_hawaiianpacific'] = df['prop_hawaiianpacific'] * np.log(df['prop_hawaiianpacific'])\n",
    "    df['log_other'] = df['prop_other'] * np.log(df['prop_other'])\n",
    "    df['log_multiracial'] = df['prop_multiracial'] * np.log(df['prop_multiracial'])\n",
    "    df['log_hispanic_latino'] = df['prop_hispanic_latino'] * np.log(df['prop_hispanic_latino'])\n",
    "    \n",
    "    # if racial group occupies zero proportion of the attendance zone, replace p*log(p) with zero\n",
    "    df.loc[df.prop_white == 0, 'log_white'] = 0\n",
    "    df.loc[df.prop_black == 0, 'log_black'] = 0\n",
    "    df.loc[df.prop_native == 0, 'log_native'] = 0\n",
    "    df.loc[df.prop_asian == 0, 'log_asian'] = 0\n",
    "    df.loc[df.prop_hawaiianpacific == 0, 'log_hawaiianpacific'] = 0\n",
    "    df.loc[df.prop_other == 0, 'log_other'] = 0\n",
    "    df.loc[df.prop_multiracial == 0, 'log_multiracial'] = 0\n",
    "    df.loc[df.prop_hispanic_latino == 0, 'log_hispanic_latino'] = 0\n",
    "    \n",
    "    df['entropy'] = -1 * (df['log_white'] + df['log_black'] + df['log_native'] + df['log_asian'] + df['log_hawaiianpacific'] + df['log_other'] + df['log_multiracial'] + df['log_hispanic_latino'])\n",
    "\n",
    "    return df"
   ]
  },
  {
   "cell_type": "markdown",
   "id": "c9d7b374",
   "metadata": {},
   "source": [
    "<b>SCHOOL YEAR 1999-2000</b>"
   ]
  },
  {
   "cell_type": "markdown",
   "id": "535cf7d7",
   "metadata": {},
   "source": [
    "<b>Process Shapefiles</b>"
   ]
  },
  {
   "cell_type": "code",
   "execution_count": null,
   "id": "5c59f24f",
   "metadata": {},
   "outputs": [],
   "source": [
    "# CENSUS BLOCKS"
   ]
  },
  {
   "cell_type": "code",
   "execution_count": 3,
   "id": "f22c16cc",
   "metadata": {},
   "outputs": [],
   "source": [
    "# upload census tracts with demographics\n",
    "census2000_shp = gpd.read_file('/Users/lacm/Documents/Stanford/*Capstone Research/Data/SY 1999-2000/Census Data/Clean/2000 Census Blocks with Demographics.shp')"
   ]
  },
  {
   "cell_type": "code",
   "execution_count": 4,
   "id": "9d0fb64f",
   "metadata": {},
   "outputs": [],
   "source": [
    "# covert column names to lowercase\n",
    "census2000_shp = census2000_shp.rename(str.lower, axis='columns')"
   ]
  },
  {
   "cell_type": "code",
   "execution_count": 5,
   "id": "8db3b3be",
   "metadata": {},
   "outputs": [],
   "source": [
    "# rename columns\n",
    "census2000_shp = census2000_shp.rename(columns={'gisjoin_ce' : 'gisjoin_census',\n",
    "                                                \"count_whit\" : \"count_white\",\n",
    "                                               'count_blac' : 'count_black',\n",
    "                                               'count_nati' : 'count_native',\n",
    "                                               'count_asia' : 'count_asian',\n",
    "                                               'count_hawa': 'count_hawaiianpacific',\n",
    "                                               'count_othe': 'count_other',\n",
    "                                               'count_mult': 'count_multiracial',\n",
    "                                               'count_hisp' : 'count_hispanic_latino',\n",
    "                                               'census_cou': 'census_count_total'})"
   ]
  },
  {
   "cell_type": "code",
   "execution_count": 6,
   "id": "0c9c8e25",
   "metadata": {},
   "outputs": [],
   "source": [
    "# filter out unecessary columns\n",
    "census2000_shp = census2000_shp[['gisjoin_census', 'count_white', 'count_black', 'count_native', 'count_asian', \n",
    "                                 'count_hawaiianpacific', 'count_other', 'count_multiracial', 'count_hispanic_latino',\n",
    "                                 'census_count_total', 'geometry']]"
   ]
  },
  {
   "cell_type": "code",
   "execution_count": 7,
   "id": "a48b4e04",
   "metadata": {},
   "outputs": [],
   "source": [
    "# fix invalid census geometries\n",
    "census2000_shp.geometry = census2000_shp.apply(lambda row: make_valid(row.geometry) if not row.geometry.is_valid else row.geometry, axis=1)"
   ]
  },
  {
   "cell_type": "code",
   "execution_count": 8,
   "id": "738be7fb",
   "metadata": {},
   "outputs": [],
   "source": [
    "census2000_shp['census_area'] = census2000_shp.area"
   ]
  },
  {
   "cell_type": "code",
   "execution_count": null,
   "id": "8344d90f",
   "metadata": {},
   "outputs": [],
   "source": [
    "# save file to local directory\n",
    "# census2000_shp.to_file('/Users/lacm/Documents/Stanford/*Capstone Research/Data/SY 1999-2000/Census Data/Clean/2000 Census Blocks with Demographics.shp',\n",
    "#                        driver='ESRI Shapefile')"
   ]
  },
  {
   "cell_type": "markdown",
   "id": "c68e3239",
   "metadata": {},
   "source": [
    "________"
   ]
  },
  {
   "cell_type": "code",
   "execution_count": null,
   "id": "85bb7526",
   "metadata": {},
   "outputs": [],
   "source": [
    "# SABs"
   ]
  },
  {
   "cell_type": "code",
   "execution_count": 703,
   "id": "9ce56367",
   "metadata": {},
   "outputs": [],
   "source": [
    "# upload SABs shapefile\n",
    "sabs2000_shp = gpd.read_file('/Users/lacm/Documents/Stanford/*Capstone Research/Data/SY 1999-2000/Sal Saporito Data/Clean/3rd Grade Only SABS 1999-2000 - reprojected.shp')"
   ]
  },
  {
   "cell_type": "code",
   "execution_count": 704,
   "id": "c864562f",
   "metadata": {},
   "outputs": [],
   "source": [
    "# covert column names to lowercase\n",
    "sabs2000_shp = sabs2000_shp.rename(str.lower, axis='columns')"
   ]
  },
  {
   "cell_type": "code",
   "execution_count": 705,
   "id": "513cdf64",
   "metadata": {},
   "outputs": [],
   "source": [
    "# fix broken geometries\n",
    "sabs2000_shp.geometry = sabs2000_shp.apply(lambda row: make_valid(row.geometry) if not row.geometry.is_valid else row.geometry, axis=1)"
   ]
  },
  {
   "cell_type": "code",
   "execution_count": 706,
   "id": "a15ae837",
   "metadata": {},
   "outputs": [],
   "source": [
    "# replace any dropped leading 0s from ccdids\n",
    "sabs2000_shp['ccd_id'] = sabs2000_shp['ccd_id'].astype(str)\n",
    "sabs2000_shp.loc[sabs2000_shp['ccd_id'].str.len() == 3, 'ccd_id'] = '00' + sabs2000_shp['ccd_id']\n",
    "sabs2000_shp.loc[sabs2000_shp['ccd_id'].str.len() == 4, 'ccd_id'] = '0' + sabs2000_shp['ccd_id']\n",
    "\n",
    "# strip string columns\n",
    "for column in sabs2000_shp.columns:\n",
    "    if sabs2000_shp.dtypes[column] == 'object':\n",
    "        sabs2000_shp[column] = sabs2000_shp[column].str.strip()\n",
    "        \n",
    "sabs2000_shp['geoleaid'] = ''\n",
    "sabs2000_shp.geoleaid[sabs2000_shp['layer'] == 'elem_Baltimore_City_fixed_geometries_reprojected'] = '2400090'\n",
    "sabs2000_shp.geoleaid[sabs2000_shp['layer'] == 'elem_Baltimore_County_fixed_geometries_reprojected'] = '2400120'\n",
    "sabs2000_shp.geoleaid[sabs2000_shp['layer'] == 'elem_Broward_fixed_geometries_reprojected'] = '1200180'\n",
    "sabs2000_shp.geoleaid[sabs2000_shp['layer'] == 'elem_Chicago_fixed_geometries_reprojected'] = '1709930'\n",
    "sabs2000_shp.geoleaid[sabs2000_shp['layer'] == 'elem_Clark_County_fixed_geometries_reprojected'] = '3200060'\n",
    "sabs2000_shp.geoleaid[sabs2000_shp['layer'] == 'elem_Dallas_fixed_geometries_reprojected'] = '4816230'\n",
    "sabs2000_shp.geoleaid[sabs2000_shp['layer'] == 'elem_Detroit_fixed_geometries_reprojected'] = '2601103'\n",
    "sabs2000_shp.geoleaid[sabs2000_shp['layer'] == 'elem_Duval_fixed_geometries_reprojected'] = '1200480'\n",
    "sabs2000_shp.geoleaid[sabs2000_shp['layer'] == 'elem_Fairfax_fixed_geometries_reprojected'] = '5101260'\n",
    "sabs2000_shp.geoleaid[sabs2000_shp['layer'] == 'elem_Hillsborough_fixed_geometries_reprojected'] = '1200870'\n",
    "sabs2000_shp.geoleaid[sabs2000_shp['layer'] == 'elem_Houston_fixed_geometries_reprojected'] = '4823640'\n",
    "sabs2000_shp.geoleaid[sabs2000_shp['layer'] == 'elem_LA_fixed_geometries_reprojected'] = '0622710'\n",
    "sabs2000_shp.geoleaid[sabs2000_shp['layer'] == 'elem_Miami_Dade_fixed_geometries_reprojected'] = '1200390'\n",
    "sabs2000_shp.geoleaid[sabs2000_shp['layer'] == 'elem_Milwaukee_fixed_geometries_reprojected'] = '5509600'\n",
    "sabs2000_shp.geoleaid[sabs2000_shp['layer'] == 'elem_Montgomery_Cnty_fixed_geometries_reprojected'] = '2400480'\n",
    "sabs2000_shp.geoleaid[sabs2000_shp['layer'] == 'elem_Orange_Cnty_fixed_geometries_reprojected'] = '1201440'\n",
    "sabs2000_shp.geoleaid[sabs2000_shp['layer'] == 'elem_Palm_Beach_fixed_geometries_reprojected'] = '1201500'\n",
    "sabs2000_shp.geoleaid[sabs2000_shp['layer'] == 'elem_Philadelphia_fixed_geometries_reprojected'] = '4218990'\n",
    "sabs2000_shp.geoleaid[sabs2000_shp['layer'] == 'elem_Pinellas_fixed_geometries_reprojected'] = '1201560'\n",
    "sabs2000_shp.geoleaid[sabs2000_shp['layer'] == 'elem_Prince_George_Cnty_fixed_geometries_reprojected'] = '2400510'\n",
    "sabs2000_shp.geoleaid[sabs2000_shp['layer'] == 'elem_San_Diego_fixed_geometries_reprojected'] = '0634320'"
   ]
  },
  {
   "cell_type": "code",
   "execution_count": 707,
   "id": "b9d010ee",
   "metadata": {},
   "outputs": [],
   "source": [
    "# get NYC ncessch ids\n",
    "ccdschools_2000_nyc = pd.read_csv('/Users/lacm/Documents/Stanford/*Capstone Research/Data/SY 1999-2000/CCD Schools 1999-2000 - New York.csv',\n",
    "                                 header=0)\n",
    "\n",
    "ccdschools_2000_nyc['ccd_id'] = ccdschools_2000_nyc['ccd_id'].astype('str')\n",
    "ccdschools_2000_nyc['geoleaid'] = ccdschools_2000_nyc['geoleaid'].astype('str')\n",
    "\n",
    "\n",
    "\n",
    "ccdschools_2000_nyc.loc[ccdschools_2000_nyc['ccd_id'].str.len() == 1, 'ccd_id'] = '0000' + ccdschools_2000_nyc['ccd_id']\n",
    "ccdschools_2000_nyc.loc[ccdschools_2000_nyc['ccd_id'].str.len() == 2, 'ccd_id'] = '000' + ccdschools_2000_nyc['ccd_id']\n",
    "ccdschools_2000_nyc.loc[ccdschools_2000_nyc['ccd_id'].str.len() == 3, 'ccd_id'] = '00' + ccdschools_2000_nyc['ccd_id']\n",
    "ccdschools_2000_nyc.loc[ccdschools_2000_nyc['ccd_id'].str.len() == 4, 'ccd_id'] = '0' + ccdschools_2000_nyc['ccd_id']\n",
    "\n",
    "ccdschools_2000_nyc = ccdschools_2000_nyc[['ccd_id', 'geoleaid', 'state_name', 'county_name']]\n",
    "\n",
    "\n",
    "sabs2000_shp = sabs2000_shp.merge(ccdschools_2000_nyc, how='left', on='ccd_id')\n",
    "sabs2000_shp = sabs2000_shp.rename(columns={'geoleaid_x' : 'geoleaid'})\n",
    "sabs2000_shp.geoleaid[sabs2000_shp['layer'] == 'elem_NYC_fixed_geometries_reprojected'] = sabs2000_shp['geoleaid_y']\n",
    "sabs2000_shp = sabs2000_shp.drop(['geoleaid_y'], axis=1)\n",
    "\n",
    "\n",
    "sabs2000_shp['ncessch'] = sabs2000_shp['geoleaid'] + sabs2000_shp['ccd_id'].astype(str)"
   ]
  },
  {
   "cell_type": "code",
   "execution_count": 708,
   "id": "b22ca99d",
   "metadata": {},
   "outputs": [
    {
     "ename": "KeyError",
     "evalue": "\"['state_name'] not in index\"",
     "output_type": "error",
     "traceback": [
      "\u001b[0;31m---------------------------------------------------------------------------\u001b[0m",
      "\u001b[0;31mKeyError\u001b[0m                                  Traceback (most recent call last)",
      "\u001b[0;32m/var/folders/f_/y82bl01510z6_6b9mz3cg6br0000gn/T/ipykernel_21509/812987652.py\u001b[0m in \u001b[0;36m<module>\u001b[0;34m\u001b[0m\n\u001b[1;32m      1\u001b[0m \u001b[0;31m# keep only relevant columns\u001b[0m\u001b[0;34m\u001b[0m\u001b[0;34m\u001b[0m\u001b[0m\n\u001b[0;32m----> 2\u001b[0;31m \u001b[0msabs2000_shp\u001b[0m \u001b[0;34m=\u001b[0m \u001b[0msabs2000_shp\u001b[0m\u001b[0;34m[\u001b[0m\u001b[0;34m[\u001b[0m\u001b[0;34m'geoleaid'\u001b[0m\u001b[0;34m,\u001b[0m \u001b[0;34m'ccd_id'\u001b[0m\u001b[0;34m,\u001b[0m \u001b[0;34m'ncessch'\u001b[0m\u001b[0;34m,\u001b[0m \u001b[0;34m'sch_name'\u001b[0m\u001b[0;34m,\u001b[0m \u001b[0;34m'state_name'\u001b[0m\u001b[0;34m,\u001b[0m \u001b[0;34m'county_name'\u001b[0m\u001b[0;34m,\u001b[0m \u001b[0;34m'layer'\u001b[0m\u001b[0;34m,\u001b[0m \u001b[0;34m'geometry'\u001b[0m\u001b[0;34m]\u001b[0m\u001b[0;34m]\u001b[0m\u001b[0;34m\u001b[0m\u001b[0;34m\u001b[0m\u001b[0m\n\u001b[0m",
      "\u001b[0;32m~/opt/anaconda3/lib/python3.9/site-packages/geopandas/geodataframe.py\u001b[0m in \u001b[0;36m__getitem__\u001b[0;34m(self, key)\u001b[0m\n\u001b[1;32m   1413\u001b[0m         \u001b[0;32mreturn\u001b[0m \u001b[0ma\u001b[0m \u001b[0mGeoDataFrame\u001b[0m\u001b[0;34m.\u001b[0m\u001b[0;34m\u001b[0m\u001b[0;34m\u001b[0m\u001b[0m\n\u001b[1;32m   1414\u001b[0m         \"\"\"\n\u001b[0;32m-> 1415\u001b[0;31m         \u001b[0mresult\u001b[0m \u001b[0;34m=\u001b[0m \u001b[0msuper\u001b[0m\u001b[0;34m(\u001b[0m\u001b[0;34m)\u001b[0m\u001b[0;34m.\u001b[0m\u001b[0m__getitem__\u001b[0m\u001b[0;34m(\u001b[0m\u001b[0mkey\u001b[0m\u001b[0;34m)\u001b[0m\u001b[0;34m\u001b[0m\u001b[0;34m\u001b[0m\u001b[0m\n\u001b[0m\u001b[1;32m   1416\u001b[0m         \u001b[0mgeo_col\u001b[0m \u001b[0;34m=\u001b[0m \u001b[0mself\u001b[0m\u001b[0;34m.\u001b[0m\u001b[0m_geometry_column_name\u001b[0m\u001b[0;34m\u001b[0m\u001b[0;34m\u001b[0m\u001b[0m\n\u001b[1;32m   1417\u001b[0m         \u001b[0;32mif\u001b[0m \u001b[0misinstance\u001b[0m\u001b[0;34m(\u001b[0m\u001b[0mresult\u001b[0m\u001b[0;34m,\u001b[0m \u001b[0mSeries\u001b[0m\u001b[0;34m)\u001b[0m \u001b[0;32mand\u001b[0m \u001b[0misinstance\u001b[0m\u001b[0;34m(\u001b[0m\u001b[0mresult\u001b[0m\u001b[0;34m.\u001b[0m\u001b[0mdtype\u001b[0m\u001b[0;34m,\u001b[0m \u001b[0mGeometryDtype\u001b[0m\u001b[0;34m)\u001b[0m\u001b[0;34m:\u001b[0m\u001b[0;34m\u001b[0m\u001b[0;34m\u001b[0m\u001b[0m\n",
      "\u001b[0;32m~/opt/anaconda3/lib/python3.9/site-packages/pandas/core/frame.py\u001b[0m in \u001b[0;36m__getitem__\u001b[0;34m(self, key)\u001b[0m\n\u001b[1;32m   3509\u001b[0m             \u001b[0;32mif\u001b[0m \u001b[0mis_iterator\u001b[0m\u001b[0;34m(\u001b[0m\u001b[0mkey\u001b[0m\u001b[0;34m)\u001b[0m\u001b[0;34m:\u001b[0m\u001b[0;34m\u001b[0m\u001b[0;34m\u001b[0m\u001b[0m\n\u001b[1;32m   3510\u001b[0m                 \u001b[0mkey\u001b[0m \u001b[0;34m=\u001b[0m \u001b[0mlist\u001b[0m\u001b[0;34m(\u001b[0m\u001b[0mkey\u001b[0m\u001b[0;34m)\u001b[0m\u001b[0;34m\u001b[0m\u001b[0;34m\u001b[0m\u001b[0m\n\u001b[0;32m-> 3511\u001b[0;31m             \u001b[0mindexer\u001b[0m \u001b[0;34m=\u001b[0m \u001b[0mself\u001b[0m\u001b[0;34m.\u001b[0m\u001b[0mcolumns\u001b[0m\u001b[0;34m.\u001b[0m\u001b[0m_get_indexer_strict\u001b[0m\u001b[0;34m(\u001b[0m\u001b[0mkey\u001b[0m\u001b[0;34m,\u001b[0m \u001b[0;34m\"columns\"\u001b[0m\u001b[0;34m)\u001b[0m\u001b[0;34m[\u001b[0m\u001b[0;36m1\u001b[0m\u001b[0;34m]\u001b[0m\u001b[0;34m\u001b[0m\u001b[0;34m\u001b[0m\u001b[0m\n\u001b[0m\u001b[1;32m   3512\u001b[0m \u001b[0;34m\u001b[0m\u001b[0m\n\u001b[1;32m   3513\u001b[0m         \u001b[0;31m# take() does not accept boolean indexers\u001b[0m\u001b[0;34m\u001b[0m\u001b[0;34m\u001b[0m\u001b[0m\n",
      "\u001b[0;32m~/opt/anaconda3/lib/python3.9/site-packages/pandas/core/indexes/base.py\u001b[0m in \u001b[0;36m_get_indexer_strict\u001b[0;34m(self, key, axis_name)\u001b[0m\n\u001b[1;32m   5794\u001b[0m             \u001b[0mkeyarr\u001b[0m\u001b[0;34m,\u001b[0m \u001b[0mindexer\u001b[0m\u001b[0;34m,\u001b[0m \u001b[0mnew_indexer\u001b[0m \u001b[0;34m=\u001b[0m \u001b[0mself\u001b[0m\u001b[0;34m.\u001b[0m\u001b[0m_reindex_non_unique\u001b[0m\u001b[0;34m(\u001b[0m\u001b[0mkeyarr\u001b[0m\u001b[0;34m)\u001b[0m\u001b[0;34m\u001b[0m\u001b[0;34m\u001b[0m\u001b[0m\n\u001b[1;32m   5795\u001b[0m \u001b[0;34m\u001b[0m\u001b[0m\n\u001b[0;32m-> 5796\u001b[0;31m         \u001b[0mself\u001b[0m\u001b[0;34m.\u001b[0m\u001b[0m_raise_if_missing\u001b[0m\u001b[0;34m(\u001b[0m\u001b[0mkeyarr\u001b[0m\u001b[0;34m,\u001b[0m \u001b[0mindexer\u001b[0m\u001b[0;34m,\u001b[0m \u001b[0maxis_name\u001b[0m\u001b[0;34m)\u001b[0m\u001b[0;34m\u001b[0m\u001b[0;34m\u001b[0m\u001b[0m\n\u001b[0m\u001b[1;32m   5797\u001b[0m \u001b[0;34m\u001b[0m\u001b[0m\n\u001b[1;32m   5798\u001b[0m         \u001b[0mkeyarr\u001b[0m \u001b[0;34m=\u001b[0m \u001b[0mself\u001b[0m\u001b[0;34m.\u001b[0m\u001b[0mtake\u001b[0m\u001b[0;34m(\u001b[0m\u001b[0mindexer\u001b[0m\u001b[0;34m)\u001b[0m\u001b[0;34m\u001b[0m\u001b[0;34m\u001b[0m\u001b[0m\n",
      "\u001b[0;32m~/opt/anaconda3/lib/python3.9/site-packages/pandas/core/indexes/base.py\u001b[0m in \u001b[0;36m_raise_if_missing\u001b[0;34m(self, key, indexer, axis_name)\u001b[0m\n\u001b[1;32m   5857\u001b[0m \u001b[0;34m\u001b[0m\u001b[0m\n\u001b[1;32m   5858\u001b[0m             \u001b[0mnot_found\u001b[0m \u001b[0;34m=\u001b[0m \u001b[0mlist\u001b[0m\u001b[0;34m(\u001b[0m\u001b[0mensure_index\u001b[0m\u001b[0;34m(\u001b[0m\u001b[0mkey\u001b[0m\u001b[0;34m)\u001b[0m\u001b[0;34m[\u001b[0m\u001b[0mmissing_mask\u001b[0m\u001b[0;34m.\u001b[0m\u001b[0mnonzero\u001b[0m\u001b[0;34m(\u001b[0m\u001b[0;34m)\u001b[0m\u001b[0;34m[\u001b[0m\u001b[0;36m0\u001b[0m\u001b[0;34m]\u001b[0m\u001b[0;34m]\u001b[0m\u001b[0;34m.\u001b[0m\u001b[0munique\u001b[0m\u001b[0;34m(\u001b[0m\u001b[0;34m)\u001b[0m\u001b[0;34m)\u001b[0m\u001b[0;34m\u001b[0m\u001b[0;34m\u001b[0m\u001b[0m\n\u001b[0;32m-> 5859\u001b[0;31m             \u001b[0;32mraise\u001b[0m \u001b[0mKeyError\u001b[0m\u001b[0;34m(\u001b[0m\u001b[0;34mf\"{not_found} not in index\"\u001b[0m\u001b[0;34m)\u001b[0m\u001b[0;34m\u001b[0m\u001b[0;34m\u001b[0m\u001b[0m\n\u001b[0m\u001b[1;32m   5860\u001b[0m \u001b[0;34m\u001b[0m\u001b[0m\n\u001b[1;32m   5861\u001b[0m     \u001b[0;34m@\u001b[0m\u001b[0moverload\u001b[0m\u001b[0;34m\u001b[0m\u001b[0;34m\u001b[0m\u001b[0m\n",
      "\u001b[0;31mKeyError\u001b[0m: \"['state_name'] not in index\""
     ]
    }
   ],
   "source": [
    "# keep only relevant columns\n",
    "sabs2000_shp = sabs2000_shp[['geoleaid', 'ccd_id', 'ncessch', 'sch_name', 'state_name', 'county_name', 'layer', 'geometry']]"
   ]
  },
  {
   "cell_type": "code",
   "execution_count": 40,
   "id": "d9cbb90d",
   "metadata": {},
   "outputs": [
    {
     "name": "stderr",
     "output_type": "stream",
     "text": [
      "/var/folders/f_/y82bl01510z6_6b9mz3cg6br0000gn/T/ipykernel_1226/529023458.py:1: UserWarning: Column names longer than 10 characters will be truncated when saved to ESRI Shapefile.\n",
      "  sabs2000_shp.to_file('/Users/lacm/Documents/Stanford/*Capstone Research/Data/SY 1999-2000/Sal Saporito Data/Clean/3rd Grade Only SABS 1999-2000 - reprojected.shx',\n"
     ]
    }
   ],
   "source": [
    "# sabs2000_shp.to_file('/Users/lacm/Documents/Stanford/*Capstone Research/Data/SY 1999-2000/Sal Saporito Data/Clean/3rd Grade Only SABS 1999-2000 - reprojected.shx',\n",
    "#                        driver='ESRI Shapefile')"
   ]
  },
  {
   "cell_type": "markdown",
   "id": "999f7116",
   "metadata": {},
   "source": [
    "______"
   ]
  },
  {
   "cell_type": "code",
   "execution_count": null,
   "id": "af5f368f",
   "metadata": {},
   "outputs": [],
   "source": [
    "# PERFORM UNION BETWEEN CENSUS AND SABS FILES"
   ]
  },
  {
   "cell_type": "code",
   "execution_count": 1146,
   "id": "4b26f49b",
   "metadata": {},
   "outputs": [],
   "source": [
    "union2000 = gpd.overlay(sabs2000_shp, census2000_shp, how='intersection', keep_geom_type=False)"
   ]
  },
  {
   "cell_type": "code",
   "execution_count": 1147,
   "id": "b377c423",
   "metadata": {},
   "outputs": [],
   "source": [
    "# calculate area of union geographies\n",
    "union2000['union_area'] = union2000.area"
   ]
  },
  {
   "cell_type": "code",
   "execution_count": 1148,
   "id": "4c55a9a5",
   "metadata": {},
   "outputs": [],
   "source": [
    "# calculate weight of union area in SAB\n",
    "union2000['weight'] = union2000['union_area']/union2000['census_area']"
   ]
  },
  {
   "cell_type": "code",
   "execution_count": 1149,
   "id": "a9c6cda4",
   "metadata": {},
   "outputs": [],
   "source": [
    "# convert census counts to float variables\n",
    "union2000['count_black'] = union2000['count_black'].astype('float')\n",
    "union2000['count_native'] = union2000['count_native'].astype('float')\n",
    "union2000['count_asian'] = union2000['count_asian'].astype('float')\n",
    "union2000['count_hawaiianpacific'] = union2000['count_hawaiianpacific'].astype('float')\n",
    "union2000['count_other'] = union2000['count_other'].astype('float')\n",
    "union2000['count_multiracial'] = union2000['count_multiracial'].astype('float')\n",
    "union2000['count_white'] = union2000['count_white'].astype('float')\n",
    "union2000['count_hispanic_latino'] = union2000['count_hispanic_latino'].astype('float')\n",
    "union2000['census_count_total'] = union2000['census_count_total'].astype('float')"
   ]
  },
  {
   "cell_type": "code",
   "execution_count": 1150,
   "id": "564f3c26",
   "metadata": {},
   "outputs": [],
   "source": [
    "# calculated weighted populations in each union geography\n",
    "\n",
    "union2000['count_black_weighted'] = union2000['count_black'] * union2000['weight']\n",
    "union2000['count_native_weighted'] = union2000['count_native'] * union2000['weight']\n",
    "union2000['count_asian_weighted'] = union2000['count_asian'] * union2000['weight']\n",
    "union2000['count_hawaiian_weighted'] = union2000['count_hawaiianpacific'] * union2000['weight']\n",
    "union2000['count_other_weighted'] = union2000['count_other'] * union2000['weight']\n",
    "union2000['count_multiracial_weighted'] = union2000['count_multiracial'] * union2000['weight']\n",
    "union2000['count_white_weighted'] = union2000['count_white'] * union2000['weight']\n",
    "union2000['count_hispanic_weighted'] = union2000['count_hispanic_latino'] * union2000['weight']\n",
    "union2000['count_total_weighted'] = union2000['census_count_total'] * union2000['weight']"
   ]
  },
  {
   "cell_type": "code",
   "execution_count": 1151,
   "id": "d0f8fc3b",
   "metadata": {},
   "outputs": [],
   "source": [
    "# aggregate weighted population counts for each attendance area \n",
    "union2000 = union2000.groupby(['ncessch', 'geoleaid'])[['count_black_weighted', 'count_native_weighted', 'count_asian_weighted', \n",
    "                                                            'count_hawaiian_weighted', 'count_other_weighted', \n",
    "                                                            'count_multiracial_weighted', 'count_white_weighted',\n",
    "                                                            'count_hispanic_weighted', 'count_total_weighted']].sum()\n",
    "\n",
    "union2000.reset_index(inplace=True)"
   ]
  },
  {
   "cell_type": "markdown",
   "id": "6b7b6d33",
   "metadata": {},
   "source": [
    "<b>Calculate Segregation Index</b>"
   ]
  },
  {
   "cell_type": "code",
   "execution_count": 1152,
   "id": "6d06fefa",
   "metadata": {},
   "outputs": [],
   "source": [
    "union2000 = union2000.rename(columns={'count_white_weighted' : 'count_white',\n",
    "                                                          'count_black_weighted' : 'count_black',\n",
    "                                                          'count_native_weighted' : 'count_native',\n",
    "                                                          'count_asian_weighted' : 'count_asian',\n",
    "                                                          'count_hawaiian_weighted' : 'count_hawaiianpacific',\n",
    "                                                          'count_other_weighted' : 'count_other', \n",
    "                                                          'count_multiracial_weighted' : 'count_multiracial', \n",
    "                                                          'count_hispanic_weighted' : 'count_hispanic_latino',\n",
    "                                                          'count_total_weighted' : 'census_count_total'})"
   ]
  },
  {
   "cell_type": "code",
   "execution_count": 1153,
   "id": "533ff3d9",
   "metadata": {},
   "outputs": [
    {
     "name": "stderr",
     "output_type": "stream",
     "text": [
      "/Users/lacm/opt/anaconda3/lib/python3.9/site-packages/pandas/core/arraylike.py:397: RuntimeWarning: divide by zero encountered in log\n",
      "  result = getattr(ufunc, method)(*inputs, **kwargs)\n",
      "/Users/lacm/opt/anaconda3/lib/python3.9/site-packages/pandas/core/arraylike.py:397: RuntimeWarning: divide by zero encountered in log\n",
      "  result = getattr(ufunc, method)(*inputs, **kwargs)\n",
      "/Users/lacm/opt/anaconda3/lib/python3.9/site-packages/pandas/core/arraylike.py:397: RuntimeWarning: divide by zero encountered in log\n",
      "  result = getattr(ufunc, method)(*inputs, **kwargs)\n",
      "/Users/lacm/opt/anaconda3/lib/python3.9/site-packages/pandas/core/arraylike.py:397: RuntimeWarning: divide by zero encountered in log\n",
      "  result = getattr(ufunc, method)(*inputs, **kwargs)\n",
      "/Users/lacm/opt/anaconda3/lib/python3.9/site-packages/pandas/core/arraylike.py:397: RuntimeWarning: divide by zero encountered in log\n",
      "  result = getattr(ufunc, method)(*inputs, **kwargs)\n",
      "/Users/lacm/opt/anaconda3/lib/python3.9/site-packages/pandas/core/arraylike.py:397: RuntimeWarning: divide by zero encountered in log\n",
      "  result = getattr(ufunc, method)(*inputs, **kwargs)\n",
      "/Users/lacm/opt/anaconda3/lib/python3.9/site-packages/pandas/core/arraylike.py:397: RuntimeWarning: divide by zero encountered in log\n",
      "  result = getattr(ufunc, method)(*inputs, **kwargs)\n",
      "/Users/lacm/opt/anaconda3/lib/python3.9/site-packages/pandas/core/arraylike.py:397: RuntimeWarning: divide by zero encountered in log\n",
      "  result = getattr(ufunc, method)(*inputs, **kwargs)\n"
     ]
    }
   ],
   "source": [
    "# calculate SABs' entropies\n",
    "union2000 = entropy(union2000)\n"
   ]
  },
  {
   "cell_type": "code",
   "execution_count": 1154,
   "id": "fd445dc2",
   "metadata": {},
   "outputs": [],
   "source": [
    "# rename entropy column to sab_entropy to distinguish it from the district entropy values\n",
    "union2000 = union2000.rename(columns={'entropy' : 'sab_entropy'})\n"
   ]
  },
  {
   "cell_type": "code",
   "execution_count": 1155,
   "id": "df480818",
   "metadata": {},
   "outputs": [],
   "source": [
    "# calculate district entropy\n",
    "\n",
    "# collapse sabs df by geoleaid to get racial counts for total district\n",
    "district_entropy_2000 = union2000.groupby('geoleaid')[['count_white', 'count_black', 'count_native', 'count_asian', \n",
    "                                              'count_hawaiianpacific', 'count_other', 'count_multiracial',\n",
    "                                              'count_hispanic_latino', 'census_count_total', 'naive_count_total']].sum()\n",
    "# make geoleaid a column instead of index\n",
    "district_entropy_2000.reset_index(inplace=True)"
   ]
  },
  {
   "cell_type": "code",
   "execution_count": 1156,
   "id": "da2d49ec",
   "metadata": {},
   "outputs": [],
   "source": [
    "# calculate average number of third graders in each AZ per district and add it to the district entropy dataframe\n",
    "avg_az_enrollment00 = union2000.groupby('geoleaid')['census_count_total'].mean()\n",
    "district_entropy_2000 = district_entropy_2000.merge(avg_az_enrollment00, how='left', on='geoleaid')\n",
    "district_entropy_2000 = district_entropy_2000.rename(columns={'census_count_total_x' : 'census_count_total',\n",
    "                                                              'census_count_total_y' : 'district_census_avg_total'})"
   ]
  },
  {
   "cell_type": "code",
   "execution_count": 1157,
   "id": "8f09e496",
   "metadata": {},
   "outputs": [],
   "source": [
    "# calculate district district entropy\n",
    "district_entropy_2000 = entropy(district_entropy_2000)"
   ]
  },
  {
   "cell_type": "code",
   "execution_count": 1158,
   "id": "813e10bf",
   "metadata": {},
   "outputs": [],
   "source": [
    "# rename column names to distinguish them from the sab versions\n",
    "district_entropy_2000 = district_entropy_2000.rename(columns={'entropy' : 'district_entropy',\n",
    "                                                   'census_count_total' : 'district_census_count_total',\n",
    "                                                   'naive_count_total' : 'district_naive_count_total'})\n",
    "\n"
   ]
  },
  {
   "cell_type": "code",
   "execution_count": 1159,
   "id": "722cbbc3",
   "metadata": {},
   "outputs": [],
   "source": [
    "# keep only relevant columns\n",
    "district_entropy_2000 = district_entropy_2000[['geoleaid', 'district_entropy', 'district_census_count_total', 'district_naive_count_total', 'district_census_avg_total']]"
   ]
  },
  {
   "cell_type": "code",
   "execution_count": 1160,
   "id": "65215a56",
   "metadata": {},
   "outputs": [],
   "source": [
    "# merge district entropy levels onto SAB level entropies so that I can calculate 1 - (sab entropy/district entropy)\n",
    "union2000 = pd.merge(union2000, district_entropy_2000, how='left', on='geoleaid')"
   ]
  },
  {
   "cell_type": "code",
   "execution_count": 1161,
   "id": "f48d79ac",
   "metadata": {},
   "outputs": [],
   "source": [
    "# calculate information theory index up to the sab level\n",
    "union2000['H_i'] = 1 - (union2000['sab_entropy'] / union2000['district_entropy']) \n",
    "union2000['segregation_index00'] = (union2000['census_count_total'] / union2000['district_census_count_total']) * union2000['H_i']"
   ]
  },
  {
   "cell_type": "code",
   "execution_count": 1162,
   "id": "6ad0361c",
   "metadata": {},
   "outputs": [],
   "source": [
    "# finalize calculation of information theory index by summing up sab values from above at the district level\n",
    "union2000['n_attendancezones00'] = 1\n",
    "\n",
    "district_information_index00 = union2000.groupby('geoleaid')[['segregation_index00', 'count_black', 'count_native',\n",
    "                                                              'count_asian', 'count_hawaiianpacific', 'count_other',\n",
    "                                                              'count_multiracial', 'count_white', \n",
    "                                                              'count_hispanic_latino', 'n_attendancezones00']].sum()\n",
    "\n",
    "district_information_index00.reset_index(inplace=True)"
   ]
  },
  {
   "cell_type": "code",
   "execution_count": 1163,
   "id": "700b0187",
   "metadata": {},
   "outputs": [],
   "source": [
    "# merge district-level features back onto dataset\n",
    "district_information_index00 = pd.merge(district_information_index00, district_entropy_2000, how='left', on='geoleaid')"
   ]
  },
  {
   "cell_type": "code",
   "execution_count": 1164,
   "id": "78ffef9b",
   "metadata": {},
   "outputs": [],
   "source": [
    "district_information_index00['pblack00'] = district_information_index00['count_black'] / district_information_index00['district_naive_count_total']\n",
    "district_information_index00['pnative00'] = district_information_index00['count_native'] / district_information_index00['district_naive_count_total']\n",
    "district_information_index00['pasian00'] = district_information_index00['count_asian'] / district_information_index00['district_naive_count_total']\n",
    "district_information_index00['phawaiianpacific00'] = district_information_index00['count_hawaiianpacific'] / district_information_index00['district_naive_count_total']\n",
    "district_information_index00['pother00'] = district_information_index00['count_other'] / district_information_index00['district_naive_count_total']\n",
    "district_information_index00['pmultiracial00'] = district_information_index00['count_multiracial'] / district_information_index00['district_naive_count_total']\n",
    "district_information_index00['pwhite00'] = district_information_index00['count_white'] / district_information_index00['district_naive_count_total']\n",
    "district_information_index00['phispaniclatino00'] = district_information_index00['count_hispanic_latino'] / district_information_index00['district_naive_count_total']"
   ]
  },
  {
   "cell_type": "code",
   "execution_count": 1165,
   "id": "1fad433f",
   "metadata": {},
   "outputs": [],
   "source": [
    "district_information_index00 = district_information_index00[['geoleaid', 'segregation_index00', 'pblack00', \n",
    "                                                             'pnative00', 'pasian00', 'phawaiianpacific00', \n",
    "                                                             'pother00', 'pmultiracial00', 'pwhite00',\n",
    "                                                             'phispaniclatino00', 'n_attendancezones00', \n",
    "                                                             'district_entropy', 'district_census_count_total', \n",
    "                                                             'district_census_avg_total']]"
   ]
  },
  {
   "cell_type": "code",
   "execution_count": 1166,
   "id": "21b85462",
   "metadata": {},
   "outputs": [],
   "source": [
    "# give year specific variable names\n",
    "district_information_index00 = district_information_index00.rename(columns={'district_entropy' : 'district_entropy00',\n",
    "                                                                            'district_census_count_total' : 'district_census_count_total00',\n",
    "                                                                            'district_census_avg_total' : 'district_census_avg_total00'})"
   ]
  },
  {
   "cell_type": "code",
   "execution_count": 1167,
   "id": "b1f9bdec",
   "metadata": {},
   "outputs": [],
   "source": [
    "district_information_index00.to_csv('/Users/lacm/Documents/Stanford/*Capstone Research/Data/SY 1999-2000/Census Data/Finalized Files for Paper/1999-2000 District Segregation.csv')"
   ]
  },
  {
   "cell_type": "markdown",
   "id": "0c6eae91",
   "metadata": {},
   "source": [
    "<b>SCHOOL YEAR 2009-2010</b>"
   ]
  },
  {
   "cell_type": "markdown",
   "id": "002911b6",
   "metadata": {},
   "source": [
    "<b>Calculate Segregation Index</b>"
   ]
  },
  {
   "cell_type": "code",
   "execution_count": 1168,
   "id": "484f5c92",
   "metadata": {},
   "outputs": [],
   "source": [
    "# import sabs file that has demographics merged onto it\n",
    "sabs_demographics10 = gpd.read_file('/Users/lacm/Documents/Stanford/*Capstone Research/Data/SY 2009-10/SABS:SABINS/Clean/SABINS/SABINS with demographic data.geojson')"
   ]
  },
  {
   "cell_type": "code",
   "execution_count": 1169,
   "id": "61d77302",
   "metadata": {},
   "outputs": [],
   "source": [
    "# import ccd school list to get geoleaids for all the SABS schools\n",
    "ccdschools10 = pd.read_csv('/Users/lacm/Documents/Stanford/*Capstone Research/Data/SY 2009-10/CCD Schools 2009-2010.csv', header=0)"
   ]
  },
  {
   "cell_type": "code",
   "execution_count": 1170,
   "id": "0d3236be",
   "metadata": {},
   "outputs": [],
   "source": [
    "# clean the import errors of ccdschools10\n",
    "\n",
    "# convert variables to correct type\n",
    "ccdschools10['leaid'] = ccdschools10['leaid'].astype('str')\n",
    "ccdschools10['geoleaid'] = ccdschools10['geoleaid'].astype('str')\n",
    "\n",
    "# strip string columns\n",
    "for column in ccdschools10.columns:\n",
    "    if ccdschools10.dtypes[column] == 'object':\n",
    "        ccdschools10[column] = ccdschools10[column].str.strip()\n",
    "\n",
    "# add leading 0 to geolea, leaid, and school ids where it was chopped off from incorrect variable type\n",
    "ccdschools10.loc[ccdschools10['geoleaid'].str.len() == 6, 'geoleaid'] = '0' + ccdschools10['geoleaid']\n",
    "ccdschools10.loc[ccdschools10['leaid'].str.len() == 6, 'leaid'] = '0' + ccdschools10['leaid']\n",
    "\n",
    "# keep only leaid and geoleaid\n",
    "ccdschools10 = ccdschools10[['leaid', 'geoleaid', 'state_name', 'county_name']]\n",
    "\n",
    "# get unique list of leaids\n",
    "ccdschools10 = ccdschools10.drop_duplicates(subset=['leaid'])"
   ]
  },
  {
   "cell_type": "code",
   "execution_count": 1171,
   "id": "b20935d6",
   "metadata": {},
   "outputs": [],
   "source": [
    "# merge ccd schools df onto the sabs df\n",
    "sabs_demographics10 = pd.merge(sabs_demographics10, ccdschools10, how='left', left_on='SDUNIA_g', right_on='leaid')"
   ]
  },
  {
   "cell_type": "code",
   "execution_count": 1172,
   "id": "e1163806",
   "metadata": {},
   "outputs": [],
   "source": [
    "# if no geoleaid value, geoleaid = leaid\n",
    "sabs_demographics10.geoleaid[pd.isna(sabs_demographics10.geoleaid)] = sabs_demographics10['SDUNIA_g']"
   ]
  },
  {
   "cell_type": "code",
   "execution_count": 1173,
   "id": "9b24cf66",
   "metadata": {},
   "outputs": [],
   "source": [
    "# keep only relevant columns\n",
    "sabs_demographics10 = sabs_demographics10[['geoleaid', 'leaid', 'SDELMA_g', 'SDUNIA_g', 'SDSECA_g', 'STATE', \n",
    "                                           'NUMSCHOOLS', 'CENTROID_X', 'CENTROID_Y', 'GISJOIN', 'Magnet09CT', \n",
    "                                           'Charter09C', 'Privat09CT', 'Shape_area', 'Shape_len', 'area', 'ns_NCESSCH',\n",
    "                                           'ns_SABINSI', 'demographics10_black_5_9', 'demographics10_native_5_9', \n",
    "                                           'demographics10_asian_5_9', 'demographics10_hawaiianpacific_5_9', \n",
    "                                           'demographics10_other_5_9', 'demographics10_multiracial_5_9', \n",
    "                                           'demographics10_hispanic_latino_5_9', 'demographics10_white_nhl_5_9', \n",
    "                                           'demographics10_total_5_9',]]\n",
    "\n",
    "# rename columns consistent with what entropy command is looking for \n",
    "sabs_demographics10 = sabs_demographics10.rename(columns={'demographics10_white_nhl_5_9' : 'count_white',\n",
    "                                                          'demographics10_black_5_9' : 'count_black',\n",
    "                                                          'demographics10_native_5_9' : 'count_native',\n",
    "                                                          'demographics10_asian_5_9' : 'count_asian',\n",
    "                                                          'demographics10_hawaiianpacific_5_9' : 'count_hawaiianpacific',\n",
    "                                                          'demographics10_other_5_9' : 'count_other', \n",
    "                                                          'demographics10_multiracial_5_9' : 'count_multiracial', \n",
    "                                                          'demographics10_hispanic_latino_5_9' : 'count_hispanic_latino',\n",
    "                                                          'demographics10_total_5_9' : 'census_count_total'})\n",
    "\n",
    "# make all column names lower case\n",
    "sabs_demographics10 = sabs_demographics10.rename(str.lower, axis='columns')"
   ]
  },
  {
   "cell_type": "code",
   "execution_count": 1174,
   "id": "e1a60bb6",
   "metadata": {},
   "outputs": [
    {
     "name": "stderr",
     "output_type": "stream",
     "text": [
      "/Users/lacm/opt/anaconda3/lib/python3.9/site-packages/pandas/core/arraylike.py:397: RuntimeWarning: divide by zero encountered in log\n",
      "  result = getattr(ufunc, method)(*inputs, **kwargs)\n",
      "/Users/lacm/opt/anaconda3/lib/python3.9/site-packages/pandas/core/arraylike.py:397: RuntimeWarning: divide by zero encountered in log\n",
      "  result = getattr(ufunc, method)(*inputs, **kwargs)\n",
      "/Users/lacm/opt/anaconda3/lib/python3.9/site-packages/pandas/core/arraylike.py:397: RuntimeWarning: divide by zero encountered in log\n",
      "  result = getattr(ufunc, method)(*inputs, **kwargs)\n",
      "/Users/lacm/opt/anaconda3/lib/python3.9/site-packages/pandas/core/arraylike.py:397: RuntimeWarning: divide by zero encountered in log\n",
      "  result = getattr(ufunc, method)(*inputs, **kwargs)\n",
      "/Users/lacm/opt/anaconda3/lib/python3.9/site-packages/pandas/core/arraylike.py:397: RuntimeWarning: divide by zero encountered in log\n",
      "  result = getattr(ufunc, method)(*inputs, **kwargs)\n",
      "/Users/lacm/opt/anaconda3/lib/python3.9/site-packages/pandas/core/arraylike.py:397: RuntimeWarning: divide by zero encountered in log\n",
      "  result = getattr(ufunc, method)(*inputs, **kwargs)\n",
      "/Users/lacm/opt/anaconda3/lib/python3.9/site-packages/pandas/core/arraylike.py:397: RuntimeWarning: divide by zero encountered in log\n",
      "  result = getattr(ufunc, method)(*inputs, **kwargs)\n",
      "/Users/lacm/opt/anaconda3/lib/python3.9/site-packages/pandas/core/arraylike.py:397: RuntimeWarning: divide by zero encountered in log\n",
      "  result = getattr(ufunc, method)(*inputs, **kwargs)\n"
     ]
    }
   ],
   "source": [
    "# calculate SABs' entropies\n",
    "sabs_demographics10 = entropy(sabs_demographics10)\n",
    "\n",
    "# rename entropy column to sab_entropy to distinguish it from the district entropy values\n",
    "sabs_demographics10 = sabs_demographics10.rename(columns={'entropy' : 'sab_entropy'})"
   ]
  },
  {
   "cell_type": "code",
   "execution_count": 1175,
   "id": "0f9d93a9",
   "metadata": {},
   "outputs": [],
   "source": [
    "# calculate district entropy\n",
    "\n",
    "# collapse sabs df by geoleaid to get racial counts for total district\n",
    "district_entropy = sabs_demographics10.groupby('geoleaid')[['count_white', 'count_black', 'count_native', 'count_asian', \n",
    "                                              'count_hawaiianpacific', 'count_other', 'count_multiracial',\n",
    "                                              'count_hispanic_latino', 'census_count_total', 'naive_count_total']].sum()"
   ]
  },
  {
   "cell_type": "code",
   "execution_count": 1176,
   "id": "4de86184",
   "metadata": {},
   "outputs": [],
   "source": [
    "# calculate average number of third graders in each AZ per district and add it to the district entropy dataframe\n",
    "avg_az_enrollment10 = sabs_demographics10.groupby('geoleaid')['census_count_total'].mean()\n",
    "district_entropy = district_entropy.merge(avg_az_enrollment10, how='left', on='geoleaid')\n",
    "district_entropy = district_entropy.rename(columns={'census_count_total_x' : 'census_count_total',\n",
    "                                                              'census_count_total_y' : 'district_census_avg_total'})"
   ]
  },
  {
   "cell_type": "code",
   "execution_count": 1177,
   "id": "6b423150",
   "metadata": {},
   "outputs": [
    {
     "name": "stderr",
     "output_type": "stream",
     "text": [
      "/Users/lacm/opt/anaconda3/lib/python3.9/site-packages/pandas/core/arraylike.py:397: RuntimeWarning: divide by zero encountered in log\n",
      "  result = getattr(ufunc, method)(*inputs, **kwargs)\n",
      "/Users/lacm/opt/anaconda3/lib/python3.9/site-packages/pandas/core/arraylike.py:397: RuntimeWarning: divide by zero encountered in log\n",
      "  result = getattr(ufunc, method)(*inputs, **kwargs)\n",
      "/Users/lacm/opt/anaconda3/lib/python3.9/site-packages/pandas/core/arraylike.py:397: RuntimeWarning: divide by zero encountered in log\n",
      "  result = getattr(ufunc, method)(*inputs, **kwargs)\n",
      "/Users/lacm/opt/anaconda3/lib/python3.9/site-packages/pandas/core/arraylike.py:397: RuntimeWarning: divide by zero encountered in log\n",
      "  result = getattr(ufunc, method)(*inputs, **kwargs)\n",
      "/Users/lacm/opt/anaconda3/lib/python3.9/site-packages/pandas/core/arraylike.py:397: RuntimeWarning: divide by zero encountered in log\n",
      "  result = getattr(ufunc, method)(*inputs, **kwargs)\n",
      "/Users/lacm/opt/anaconda3/lib/python3.9/site-packages/pandas/core/arraylike.py:397: RuntimeWarning: divide by zero encountered in log\n",
      "  result = getattr(ufunc, method)(*inputs, **kwargs)\n",
      "/Users/lacm/opt/anaconda3/lib/python3.9/site-packages/pandas/core/arraylike.py:397: RuntimeWarning: divide by zero encountered in log\n",
      "  result = getattr(ufunc, method)(*inputs, **kwargs)\n",
      "/Users/lacm/opt/anaconda3/lib/python3.9/site-packages/pandas/core/arraylike.py:397: RuntimeWarning: divide by zero encountered in log\n",
      "  result = getattr(ufunc, method)(*inputs, **kwargs)\n"
     ]
    }
   ],
   "source": [
    "# calculate district district entropy\n",
    "district_entropy = entropy(district_entropy)"
   ]
  },
  {
   "cell_type": "code",
   "execution_count": 1178,
   "id": "2607a804",
   "metadata": {},
   "outputs": [],
   "source": [
    "# rename column names to distinguish them from the sab versions\n",
    "district_entropy = district_entropy.rename(columns={'entropy' : 'district_entropy',\n",
    "                                                   'census_count_total' : 'district_census_count_total',\n",
    "                                                   'naive_count_total' : 'district_naive_count_total'})"
   ]
  },
  {
   "cell_type": "code",
   "execution_count": 1179,
   "id": "4f9ccd3f",
   "metadata": {},
   "outputs": [],
   "source": [
    "# make geoleaid a column instead of index\n",
    "district_entropy.reset_index(inplace=True)"
   ]
  },
  {
   "cell_type": "code",
   "execution_count": 1180,
   "id": "516d3719",
   "metadata": {},
   "outputs": [],
   "source": [
    "# keep only relevant columns\n",
    "district_entropy = district_entropy[['geoleaid', 'district_entropy', 'district_census_count_total', 'district_naive_count_total', 'district_census_avg_total']]"
   ]
  },
  {
   "cell_type": "code",
   "execution_count": 1181,
   "id": "381b8e2d",
   "metadata": {},
   "outputs": [],
   "source": [
    "# merge district entropy levels onto SAB level entropies so that I can calculate 1 - (sab entropy/district entropy)\n",
    "sabs_demographics10 = pd.merge(sabs_demographics10, district_entropy, how='left', on='geoleaid')"
   ]
  },
  {
   "cell_type": "code",
   "execution_count": 1182,
   "id": "027b5962",
   "metadata": {},
   "outputs": [],
   "source": [
    "# calculate information theory index up to the sab level\n",
    "sabs_demographics10['H_i'] = 1 - (sabs_demographics10['sab_entropy'] / sabs_demographics10['district_entropy']) \n",
    "sabs_demographics10['segregation_index10'] = (sabs_demographics10['census_count_total'] / sabs_demographics10['district_census_count_total']) * sabs_demographics10['H_i']"
   ]
  },
  {
   "cell_type": "code",
   "execution_count": 1183,
   "id": "ac08cbf9",
   "metadata": {},
   "outputs": [],
   "source": [
    "# finalize calculation of information theory index by summing up sab values from above at the district level\n",
    "sabs_demographics10['n_attendancezones10'] = 1\n",
    "\n",
    "district_information_index10 = sabs_demographics10.groupby('geoleaid')[['segregation_index10', 'count_black', 'count_native',\n",
    "                                                              'count_asian', 'count_hawaiianpacific', 'count_other',\n",
    "                                                              'count_multiracial', 'count_white', \n",
    "                                                              'count_hispanic_latino', 'n_attendancezones10']].sum()\n",
    "\n",
    "district_information_index10.reset_index(inplace=True)"
   ]
  },
  {
   "cell_type": "code",
   "execution_count": 1184,
   "id": "44252912",
   "metadata": {},
   "outputs": [],
   "source": [
    "# merge district-level features back onto dataset\n",
    "district_information_index10 = pd.merge(district_information_index10, district_entropy, how='left', on='geoleaid')"
   ]
  },
  {
   "cell_type": "code",
   "execution_count": 1185,
   "id": "27e0291d",
   "metadata": {},
   "outputs": [],
   "source": [
    "district_information_index10['pblack10'] = district_information_index10['count_black'] / district_information_index10['district_naive_count_total']\n",
    "district_information_index10['pnative10'] = district_information_index10['count_native'] / district_information_index10['district_naive_count_total']\n",
    "district_information_index10['pasian10'] = district_information_index10['count_asian'] / district_information_index10['district_naive_count_total']\n",
    "district_information_index10['phawaiianpacific10'] = district_information_index10['count_hawaiianpacific'] / district_information_index10['district_naive_count_total']\n",
    "district_information_index10['pother10'] = district_information_index10['count_other'] / district_information_index10['district_naive_count_total']\n",
    "district_information_index10['pmultiracial10'] = district_information_index10['count_multiracial'] / district_information_index10['district_naive_count_total']\n",
    "district_information_index10['pwhite10'] = district_information_index10['count_white'] / district_information_index10['district_naive_count_total']\n",
    "district_information_index10['phispaniclatino10'] = district_information_index10['count_hispanic_latino'] / district_information_index10['district_naive_count_total']\n"
   ]
  },
  {
   "cell_type": "code",
   "execution_count": 1186,
   "id": "36ac8f0a",
   "metadata": {},
   "outputs": [],
   "source": [
    "district_information_index10 = district_information_index10[['geoleaid', 'segregation_index10', 'pblack10', \n",
    "                                                             'pnative10', 'pasian10', 'phawaiianpacific10', \n",
    "                                                             'pother10', 'pmultiracial10', 'pwhite10', \n",
    "                                                             'phispaniclatino10', 'n_attendancezones10', \n",
    "                                                             'district_entropy', 'district_census_count_total', \n",
    "                                                             'district_census_avg_total']]"
   ]
  },
  {
   "cell_type": "code",
   "execution_count": 1187,
   "id": "d25447fa",
   "metadata": {},
   "outputs": [],
   "source": [
    "# give year specific variable names\n",
    "district_information_index10 = district_information_index10.rename(columns={'district_entropy' : 'district_entropy10',\n",
    "                                                                            'district_census_count_total' : 'district_census_count_total10',\n",
    "                                                                            'district_census_avg_total' : 'district_census_avg_total10'})"
   ]
  },
  {
   "cell_type": "code",
   "execution_count": 1188,
   "id": "b5626e48",
   "metadata": {},
   "outputs": [],
   "source": [
    "district_information_index10.to_csv('/Users/lacm/Documents/Stanford/*Capstone Research/Data/SY 2009-10/Finalized Files for Paper/2009-10 District Segregation.csv')"
   ]
  },
  {
   "cell_type": "markdown",
   "id": "f2494841",
   "metadata": {},
   "source": [
    "<b>SCHOOL YEAR 2010-2011</b>"
   ]
  },
  {
   "cell_type": "markdown",
   "id": "fc59be3d",
   "metadata": {},
   "source": [
    "<b>Process Shapefiles</b>"
   ]
  },
  {
   "cell_type": "code",
   "execution_count": null,
   "id": "4c811232",
   "metadata": {},
   "outputs": [],
   "source": [
    "# CENSUS BLOCKS"
   ]
  },
  {
   "cell_type": "code",
   "execution_count": 225,
   "id": "98fe0da8",
   "metadata": {},
   "outputs": [
    {
     "ename": "KeyboardInterrupt",
     "evalue": "",
     "output_type": "error",
     "traceback": [
      "\u001b[0;31m---------------------------------------------------------------------------\u001b[0m",
      "\u001b[0;31mKeyboardInterrupt\u001b[0m                         Traceback (most recent call last)",
      "\u001b[0;32m/var/folders/f_/y82bl01510z6_6b9mz3cg6br0000gn/T/ipykernel_21509/1652895774.py\u001b[0m in \u001b[0;36m<module>\u001b[0;34m\u001b[0m\n\u001b[1;32m      1\u001b[0m \u001b[0;31m# upload census blocks with demographics\u001b[0m\u001b[0;34m\u001b[0m\u001b[0;34m\u001b[0m\u001b[0m\n\u001b[0;32m----> 2\u001b[0;31m \u001b[0mcensus2011_shp\u001b[0m \u001b[0;34m=\u001b[0m \u001b[0mgpd\u001b[0m\u001b[0;34m.\u001b[0m\u001b[0mread_file\u001b[0m\u001b[0;34m(\u001b[0m\u001b[0;34m'/Users/lacm/Documents/Stanford/*Capstone Research/Data/SY 2010-11/Census Data/Clean/2010-11 Census Blocks with Demographics.shp'\u001b[0m\u001b[0;34m)\u001b[0m\u001b[0;34m\u001b[0m\u001b[0;34m\u001b[0m\u001b[0m\n\u001b[0m",
      "\u001b[0;32m~/opt/anaconda3/lib/python3.9/site-packages/geopandas/io/file.py\u001b[0m in \u001b[0;36m_read_file\u001b[0;34m(filename, bbox, mask, rows, engine, **kwargs)\u001b[0m\n\u001b[1;32m    257\u001b[0m \u001b[0;34m\u001b[0m\u001b[0m\n\u001b[1;32m    258\u001b[0m     \u001b[0;32mif\u001b[0m \u001b[0mengine\u001b[0m \u001b[0;34m==\u001b[0m \u001b[0;34m\"fiona\"\u001b[0m\u001b[0;34m:\u001b[0m\u001b[0;34m\u001b[0m\u001b[0;34m\u001b[0m\u001b[0m\n\u001b[0;32m--> 259\u001b[0;31m         return _read_file_fiona(\n\u001b[0m\u001b[1;32m    260\u001b[0m             \u001b[0mpath_or_bytes\u001b[0m\u001b[0;34m,\u001b[0m \u001b[0mfrom_bytes\u001b[0m\u001b[0;34m,\u001b[0m \u001b[0mbbox\u001b[0m\u001b[0;34m=\u001b[0m\u001b[0mbbox\u001b[0m\u001b[0;34m,\u001b[0m \u001b[0mmask\u001b[0m\u001b[0;34m=\u001b[0m\u001b[0mmask\u001b[0m\u001b[0;34m,\u001b[0m \u001b[0mrows\u001b[0m\u001b[0;34m=\u001b[0m\u001b[0mrows\u001b[0m\u001b[0;34m,\u001b[0m \u001b[0;34m**\u001b[0m\u001b[0mkwargs\u001b[0m\u001b[0;34m\u001b[0m\u001b[0;34m\u001b[0m\u001b[0m\n\u001b[1;32m    261\u001b[0m         )\n",
      "\u001b[0;32m~/opt/anaconda3/lib/python3.9/site-packages/geopandas/io/file.py\u001b[0m in \u001b[0;36m_read_file_fiona\u001b[0;34m(path_or_bytes, from_bytes, bbox, mask, rows, where, **kwargs)\u001b[0m\n\u001b[1;32m    358\u001b[0m                 )\n\u001b[1;32m    359\u001b[0m             \u001b[0;32melse\u001b[0m\u001b[0;34m:\u001b[0m\u001b[0;34m\u001b[0m\u001b[0;34m\u001b[0m\u001b[0m\n\u001b[0;32m--> 360\u001b[0;31m                 df = GeoDataFrame.from_features(\n\u001b[0m\u001b[1;32m    361\u001b[0m                     \u001b[0mf_filt\u001b[0m\u001b[0;34m,\u001b[0m \u001b[0mcrs\u001b[0m\u001b[0;34m=\u001b[0m\u001b[0mcrs\u001b[0m\u001b[0;34m,\u001b[0m \u001b[0mcolumns\u001b[0m\u001b[0;34m=\u001b[0m\u001b[0mcolumns\u001b[0m \u001b[0;34m+\u001b[0m \u001b[0;34m[\u001b[0m\u001b[0;34m\"geometry\"\u001b[0m\u001b[0;34m]\u001b[0m\u001b[0;34m\u001b[0m\u001b[0;34m\u001b[0m\u001b[0m\n\u001b[1;32m    362\u001b[0m                 )\n",
      "\u001b[0;32m~/opt/anaconda3/lib/python3.9/site-packages/geopandas/geodataframe.py\u001b[0m in \u001b[0;36mfrom_features\u001b[0;34m(cls, features, crs, columns)\u001b[0m\n\u001b[1;32m    633\u001b[0m                 \u001b[0mfeature\u001b[0m \u001b[0;34m=\u001b[0m \u001b[0mfeature\u001b[0m\u001b[0;34m.\u001b[0m\u001b[0m__geo_interface__\u001b[0m\u001b[0;34m\u001b[0m\u001b[0;34m\u001b[0m\u001b[0m\n\u001b[1;32m    634\u001b[0m             row = {\n\u001b[0;32m--> 635\u001b[0;31m                 \u001b[0;34m\"geometry\"\u001b[0m\u001b[0;34m:\u001b[0m \u001b[0mshape\u001b[0m\u001b[0;34m(\u001b[0m\u001b[0mfeature\u001b[0m\u001b[0;34m[\u001b[0m\u001b[0;34m\"geometry\"\u001b[0m\u001b[0;34m]\u001b[0m\u001b[0;34m)\u001b[0m \u001b[0;32mif\u001b[0m \u001b[0mfeature\u001b[0m\u001b[0;34m[\u001b[0m\u001b[0;34m\"geometry\"\u001b[0m\u001b[0;34m]\u001b[0m \u001b[0;32melse\u001b[0m \u001b[0;32mNone\u001b[0m\u001b[0;34m\u001b[0m\u001b[0;34m\u001b[0m\u001b[0m\n\u001b[0m\u001b[1;32m    636\u001b[0m             }\n\u001b[1;32m    637\u001b[0m             \u001b[0;31m# load properties\u001b[0m\u001b[0;34m\u001b[0m\u001b[0;34m\u001b[0m\u001b[0m\n",
      "\u001b[0;32m~/opt/anaconda3/lib/python3.9/site-packages/shapely/geometry/geo.py\u001b[0m in \u001b[0;36mshape\u001b[0;34m(context)\u001b[0m\n\u001b[1;32m    100\u001b[0m         \u001b[0;32mreturn\u001b[0m \u001b[0mLinearRing\u001b[0m\u001b[0;34m(\u001b[0m\u001b[0mob\u001b[0m\u001b[0;34m[\u001b[0m\u001b[0;34m\"coordinates\"\u001b[0m\u001b[0;34m]\u001b[0m\u001b[0;34m)\u001b[0m\u001b[0;34m\u001b[0m\u001b[0;34m\u001b[0m\u001b[0m\n\u001b[1;32m    101\u001b[0m     \u001b[0;32melif\u001b[0m \u001b[0mgeom_type\u001b[0m \u001b[0;34m==\u001b[0m \u001b[0;34m\"polygon\"\u001b[0m\u001b[0;34m:\u001b[0m\u001b[0;34m\u001b[0m\u001b[0;34m\u001b[0m\u001b[0m\n\u001b[0;32m--> 102\u001b[0;31m         \u001b[0;32mreturn\u001b[0m \u001b[0mPolygon\u001b[0m\u001b[0;34m(\u001b[0m\u001b[0mob\u001b[0m\u001b[0;34m[\u001b[0m\u001b[0;34m\"coordinates\"\u001b[0m\u001b[0;34m]\u001b[0m\u001b[0;34m[\u001b[0m\u001b[0;36m0\u001b[0m\u001b[0;34m]\u001b[0m\u001b[0;34m,\u001b[0m \u001b[0mob\u001b[0m\u001b[0;34m[\u001b[0m\u001b[0;34m\"coordinates\"\u001b[0m\u001b[0;34m]\u001b[0m\u001b[0;34m[\u001b[0m\u001b[0;36m1\u001b[0m\u001b[0;34m:\u001b[0m\u001b[0;34m]\u001b[0m\u001b[0;34m)\u001b[0m\u001b[0;34m\u001b[0m\u001b[0;34m\u001b[0m\u001b[0m\n\u001b[0m\u001b[1;32m    103\u001b[0m     \u001b[0;32melif\u001b[0m \u001b[0mgeom_type\u001b[0m \u001b[0;34m==\u001b[0m \u001b[0;34m\"multipoint\"\u001b[0m\u001b[0;34m:\u001b[0m\u001b[0;34m\u001b[0m\u001b[0;34m\u001b[0m\u001b[0m\n\u001b[1;32m    104\u001b[0m         \u001b[0;32mreturn\u001b[0m \u001b[0mMultiPoint\u001b[0m\u001b[0;34m(\u001b[0m\u001b[0mob\u001b[0m\u001b[0;34m[\u001b[0m\u001b[0;34m\"coordinates\"\u001b[0m\u001b[0;34m]\u001b[0m\u001b[0;34m)\u001b[0m\u001b[0;34m\u001b[0m\u001b[0;34m\u001b[0m\u001b[0m\n",
      "\u001b[0;32m~/opt/anaconda3/lib/python3.9/site-packages/shapely/geometry/polygon.py\u001b[0m in \u001b[0;36m__new__\u001b[0;34m(self, shell, holes)\u001b[0m\n\u001b[1;32m    239\u001b[0m                 \u001b[0;31m# eg emtpy generator not handled well by np.asarray\u001b[0m\u001b[0;34m\u001b[0m\u001b[0;34m\u001b[0m\u001b[0m\n\u001b[1;32m    240\u001b[0m                 \u001b[0mshell\u001b[0m \u001b[0;34m=\u001b[0m \u001b[0mlist\u001b[0m\u001b[0;34m(\u001b[0m\u001b[0mshell\u001b[0m\u001b[0;34m)\u001b[0m\u001b[0;34m\u001b[0m\u001b[0;34m\u001b[0m\u001b[0m\n\u001b[0;32m--> 241\u001b[0;31m             \u001b[0mshell\u001b[0m \u001b[0;34m=\u001b[0m \u001b[0mnp\u001b[0m\u001b[0;34m.\u001b[0m\u001b[0masarray\u001b[0m\u001b[0;34m(\u001b[0m\u001b[0mshell\u001b[0m\u001b[0;34m)\u001b[0m\u001b[0;34m\u001b[0m\u001b[0;34m\u001b[0m\u001b[0m\n\u001b[0m\u001b[1;32m    242\u001b[0m \u001b[0;34m\u001b[0m\u001b[0m\n\u001b[1;32m    243\u001b[0m             \u001b[0;32mif\u001b[0m \u001b[0mlen\u001b[0m\u001b[0;34m(\u001b[0m\u001b[0mshell\u001b[0m\u001b[0;34m)\u001b[0m \u001b[0;34m==\u001b[0m \u001b[0;36m0\u001b[0m\u001b[0;34m:\u001b[0m\u001b[0;34m\u001b[0m\u001b[0;34m\u001b[0m\u001b[0m\n",
      "\u001b[0;31mKeyboardInterrupt\u001b[0m: "
     ]
    }
   ],
   "source": [
    "# upload census blocks with demographics\n",
    "census2011_shp = gpd.read_file('/Users/lacm/Documents/Stanford/*Capstone Research/Data/SY 2010-11/Census Data/Clean/2010-11 Census Blocks with Demographics.shp')"
   ]
  },
  {
   "cell_type": "code",
   "execution_count": null,
   "id": "447e2e9b",
   "metadata": {},
   "outputs": [],
   "source": [
    "# rename columns\n",
    "census2011_shp = census2011_shp.rename(columns={'gisjoin_ce' : 'gisjoin_census',\n",
    "                                               'count_blac' : 'count_black',\n",
    "                                               'count_nati' : 'count_native',\n",
    "                                               'count_asia' : 'count_asian',\n",
    "                                               'count_hawa': 'count_hawaiianpacific',\n",
    "                                               'count_othe': 'count_other',\n",
    "                                               'count_mult': 'count_multiracial',\n",
    "                                               'count_whit' : 'count_white',\n",
    "                                               'count_hisp': 'count_hispanic_latino',\n",
    "                                               'census_cou' : 'census_count_total'})"
   ]
  },
  {
   "cell_type": "code",
   "execution_count": 12,
   "id": "8c830c9e",
   "metadata": {},
   "outputs": [],
   "source": [
    "census2011_shp = census2011_shp.to_crs('ESRI:54027')"
   ]
  },
  {
   "cell_type": "code",
   "execution_count": 13,
   "id": "6bb903e0",
   "metadata": {},
   "outputs": [],
   "source": [
    "# validate broken geographies\n",
    "census2011_shp.geometry = census2011_shp.apply(lambda row: make_valid(row.geometry) if not row.geometry.is_valid else row.geometry, axis=1)"
   ]
  },
  {
   "cell_type": "code",
   "execution_count": 14,
   "id": "d7dff8ca",
   "metadata": {},
   "outputs": [],
   "source": [
    "# calculate area of census blocks\n",
    "census2011_shp['census_area'] = census2011_shp.area"
   ]
  },
  {
   "cell_type": "code",
   "execution_count": 206,
   "id": "754d99f1",
   "metadata": {},
   "outputs": [
    {
     "name": "stderr",
     "output_type": "stream",
     "text": [
      "/var/folders/f_/y82bl01510z6_6b9mz3cg6br0000gn/T/ipykernel_1226/3241128956.py:2: UserWarning: Column names longer than 10 characters will be truncated when saved to ESRI Shapefile.\n",
      "  census2011_shp.to_file('/Users/lacm/Documents/Stanford/*Capstone Research/Data/SY 2010-11/Census Data/Clean/2010-11 Census Blocks with Demographics.shp',\n"
     ]
    }
   ],
   "source": [
    "# save census to local directory\n",
    "census2011_shp.to_file('/Users/lacm/Documents/Stanford/*Capstone Research/Data/SY 2010-11/Census Data/Clean/2010-11 Census Blocks with Demographics.shp',\n",
    "                       driver='ESRI Shapefile')"
   ]
  },
  {
   "cell_type": "markdown",
   "id": "aa0e9005",
   "metadata": {},
   "source": [
    "_____"
   ]
  },
  {
   "cell_type": "code",
   "execution_count": 15,
   "id": "b9195408",
   "metadata": {},
   "outputs": [],
   "source": [
    "# SABs\n",
    "sabs2011_shp = gpd.read_file('/Users/lacm/Documents/Stanford/*Capstone Research/Data/SY 2010-11/SABS:SABINS/Clean/SABS/3rd Grade Only SABS 2010-2011.shp')"
   ]
  },
  {
   "cell_type": "code",
   "execution_count": 16,
   "id": "a650c5f5",
   "metadata": {},
   "outputs": [],
   "source": [
    "sabs2011_shp.geometry = sabs2011_shp.apply(lambda row: make_valid(row.geometry) if not row.geometry.is_valid else row.geometry, axis=1)"
   ]
  },
  {
   "cell_type": "code",
   "execution_count": 17,
   "id": "1d822ba5",
   "metadata": {},
   "outputs": [],
   "source": [
    "sabs2011_shp = sabs2011_shp[['ncessch', 'schnam', 'leaid', 'geometry']]"
   ]
  },
  {
   "cell_type": "code",
   "execution_count": 274,
   "id": "eac3bb97",
   "metadata": {},
   "outputs": [],
   "source": [
    "# sabs2011_shp.to_file('/Users/lacm/Documents/Stanford/*Capstone Research/Data/SY 2010-11/SABS:SABINS/Clean/SABS/3rd Grade Only SABS 2010-2011.shp',\n",
    "#                        driver='ESRI Shapefile')"
   ]
  },
  {
   "cell_type": "markdown",
   "id": "922037c7",
   "metadata": {},
   "source": [
    "______"
   ]
  },
  {
   "cell_type": "code",
   "execution_count": null,
   "id": "963301ac",
   "metadata": {},
   "outputs": [],
   "source": [
    "# PERFORM UNION BETWEEN CENSUS AND SABS FILES"
   ]
  },
  {
   "cell_type": "code",
   "execution_count": 1012,
   "id": "3b12ab7b",
   "metadata": {},
   "outputs": [],
   "source": [
    "union2011 =  gpd.overlay(sabs2011_shp, census2011_shp, how='intersection', keep_geom_type=False)"
   ]
  },
  {
   "cell_type": "code",
   "execution_count": 1013,
   "id": "f0ce4d7f",
   "metadata": {},
   "outputs": [],
   "source": [
    "# calculate area of union geographies\n",
    "union2011['union_area'] = union2011.area"
   ]
  },
  {
   "cell_type": "code",
   "execution_count": 1014,
   "id": "e3125465",
   "metadata": {},
   "outputs": [],
   "source": [
    "# calculate weight of union area in SAB\n",
    "union2011['weight'] = union2011['union_area']/union2011['census_area']"
   ]
  },
  {
   "cell_type": "code",
   "execution_count": 1015,
   "id": "3dc5404e",
   "metadata": {},
   "outputs": [],
   "source": [
    "# convert census counts to float variables\n",
    "union2011['count_black'] = union2011['count_black'].astype('float')\n",
    "union2011['count_native'] = union2011['count_native'].astype('float')\n",
    "union2011['count_asian'] = union2011['count_asian'].astype('float')\n",
    "union2011['count_hawaiianpacific'] = union2011['count_hawaiianpacific'].astype('float')\n",
    "union2011['count_other'] = union2011['count_other'].astype('float')\n",
    "union2011['count_multiracial'] = union2011['count_multiracial'].astype('float')\n",
    "union2011['count_white'] = union2011['count_white'].astype('float')\n",
    "union2011['count_hispanic_latino'] = union2011['count_hispanic_latino'].astype('float')\n",
    "union2011['census_count_total'] = union2011['census_count_total'].astype('float')"
   ]
  },
  {
   "cell_type": "code",
   "execution_count": 1016,
   "id": "9e56fb26",
   "metadata": {},
   "outputs": [],
   "source": [
    "# calculated weighted populations in each union geography\n",
    "\n",
    "union2011['count_black_weighted'] = union2011['count_black'] * union2011['weight']\n",
    "union2011['count_native_weighted'] = union2011['count_native'] * union2011['weight']\n",
    "union2011['count_asian_weighted'] = union2011['count_asian'] * union2011['weight']\n",
    "union2011['count_hawaiian_weighted'] = union2011['count_hawaiianpacific'] * union2011['weight']\n",
    "union2011['count_other_weighted'] = union2011['count_other'] * union2011['weight']\n",
    "union2011['count_multiracial_weighted'] = union2011['count_multiracial'] * union2011['weight']\n",
    "union2011['count_white_weighted'] = union2011['count_white'] * union2011['weight']\n",
    "union2011['count_hispanic_weighted'] = union2011['count_hispanic_latino'] * union2011['weight']\n",
    "union2011['count_total_weighted'] = union2011['census_count_total'] * union2011['weight']"
   ]
  },
  {
   "cell_type": "code",
   "execution_count": 1017,
   "id": "127ef2a3",
   "metadata": {},
   "outputs": [],
   "source": [
    "# aggregate weighted population counts for each attendance area \n",
    "union2011 = union2011.groupby(['ncessch', 'schnam', 'leaid'])[['count_black_weighted', 'count_native_weighted', 'count_asian_weighted', \n",
    "                                                            'count_hawaiian_weighted', 'count_other_weighted', \n",
    "                                                            'count_multiracial_weighted', 'count_white_weighted',\n",
    "                                                            'count_hispanic_weighted', 'count_total_weighted']].sum()\n",
    "\n",
    "union2011.reset_index(inplace=True)"
   ]
  },
  {
   "cell_type": "markdown",
   "id": "8c25b291",
   "metadata": {},
   "source": [
    "<b>Calculate Segregation Index</b>"
   ]
  },
  {
   "cell_type": "code",
   "execution_count": 1018,
   "id": "530c0dfc",
   "metadata": {},
   "outputs": [],
   "source": [
    "# import ccd schools file to get geoleaids\n",
    "\n",
    "ccdschools2011 = pd.read_csv('/Users/lacm/Documents/Stanford/*Capstone Research/Data/SY 2010-11/CCD Schools 2010-2011.csv')\n",
    "\n",
    "# clean the import errors of ccdschools10\n",
    "\n",
    "# convert variables to correct type\n",
    "ccdschools2011['leaid'] = ccdschools2011['leaid'].astype('str')\n",
    "ccdschools2011['geoleaid'] = ccdschools2011['geoleaid'].astype('str')\n",
    "\n",
    "# strip string columns\n",
    "for column in ccdschools2011.columns:\n",
    "    if ccdschools2011.dtypes[column] == 'object':\n",
    "        ccdschools2011[column] = ccdschools2011[column].str.strip()\n",
    "\n",
    "# add leading 0 to geolea, leaid, and school ids where it was chopped off from incorrect variable type\n",
    "ccdschools2011.loc[ccdschools2011['geoleaid'].str.len() == 6, 'geoleaid'] = '0' + ccdschools2011['geoleaid']\n",
    "ccdschools2011.loc[ccdschools2011['leaid'].str.len() == 6, 'leaid'] = '0' + ccdschools2011['leaid']\n",
    "\n",
    "# drop unncessary columns\n",
    "ccdschools2011 = ccdschools2011[['geoleaid', 'leaid', 'state_name', 'county_name']]\n",
    "\n",
    "\n",
    "# keep only unique leaids\n",
    "ccdschools2011 = ccdschools2011.drop_duplicates(subset=['leaid'])"
   ]
  },
  {
   "cell_type": "code",
   "execution_count": 1019,
   "id": "6dfe2842",
   "metadata": {},
   "outputs": [],
   "source": [
    "# merge ccd school files onto the union file\n",
    "union2011 = union2011.merge(ccdschools2011, how='left', on='leaid')"
   ]
  },
  {
   "cell_type": "code",
   "execution_count": 1020,
   "id": "70d75044",
   "metadata": {},
   "outputs": [],
   "source": [
    "# if no geoleaid value, geoleaid = leaid\n",
    "union2011.geoleaid[pd.isna(union2011.geoleaid)] = union2011['leaid']"
   ]
  },
  {
   "cell_type": "code",
   "execution_count": 1021,
   "id": "01b1c71d",
   "metadata": {},
   "outputs": [],
   "source": [
    "union2011 = union2011.rename(columns={'count_white_weighted' : 'count_white',\n",
    "                                                          'count_black_weighted' : 'count_black',\n",
    "                                                          'count_native_weighted' : 'count_native',\n",
    "                                                          'count_asian_weighted' : 'count_asian',\n",
    "                                                          'count_hawaiian_weighted' : 'count_hawaiianpacific',\n",
    "                                                          'count_other_weighted' : 'count_other', \n",
    "                                                          'count_multiracial_weighted' : 'count_multiracial', \n",
    "                                                          'count_hispanic_weighted' : 'count_hispanic_latino',\n",
    "                                                          'count_total_weighted' : 'census_count_total'})"
   ]
  },
  {
   "cell_type": "code",
   "execution_count": 1022,
   "id": "fd9b6d59",
   "metadata": {},
   "outputs": [
    {
     "name": "stderr",
     "output_type": "stream",
     "text": [
      "/Users/lacm/opt/anaconda3/lib/python3.9/site-packages/pandas/core/arraylike.py:397: RuntimeWarning: divide by zero encountered in log\n",
      "  result = getattr(ufunc, method)(*inputs, **kwargs)\n",
      "/Users/lacm/opt/anaconda3/lib/python3.9/site-packages/pandas/core/arraylike.py:397: RuntimeWarning: divide by zero encountered in log\n",
      "  result = getattr(ufunc, method)(*inputs, **kwargs)\n",
      "/Users/lacm/opt/anaconda3/lib/python3.9/site-packages/pandas/core/arraylike.py:397: RuntimeWarning: divide by zero encountered in log\n",
      "  result = getattr(ufunc, method)(*inputs, **kwargs)\n",
      "/Users/lacm/opt/anaconda3/lib/python3.9/site-packages/pandas/core/arraylike.py:397: RuntimeWarning: divide by zero encountered in log\n",
      "  result = getattr(ufunc, method)(*inputs, **kwargs)\n",
      "/Users/lacm/opt/anaconda3/lib/python3.9/site-packages/pandas/core/arraylike.py:397: RuntimeWarning: divide by zero encountered in log\n",
      "  result = getattr(ufunc, method)(*inputs, **kwargs)\n",
      "/Users/lacm/opt/anaconda3/lib/python3.9/site-packages/pandas/core/arraylike.py:397: RuntimeWarning: divide by zero encountered in log\n",
      "  result = getattr(ufunc, method)(*inputs, **kwargs)\n",
      "/Users/lacm/opt/anaconda3/lib/python3.9/site-packages/pandas/core/arraylike.py:397: RuntimeWarning: divide by zero encountered in log\n",
      "  result = getattr(ufunc, method)(*inputs, **kwargs)\n",
      "/Users/lacm/opt/anaconda3/lib/python3.9/site-packages/pandas/core/arraylike.py:397: RuntimeWarning: divide by zero encountered in log\n",
      "  result = getattr(ufunc, method)(*inputs, **kwargs)\n"
     ]
    }
   ],
   "source": [
    "# calculate SABs' entropies\n",
    "union2011 = entropy(union2011)"
   ]
  },
  {
   "cell_type": "code",
   "execution_count": 1023,
   "id": "68681896",
   "metadata": {},
   "outputs": [],
   "source": [
    "# rename entropy column to sab_entropy to distinguish it from the district entropy values\n",
    "union2011 = union2011.rename(columns={'entropy' : 'sab_entropy'})"
   ]
  },
  {
   "cell_type": "code",
   "execution_count": 1024,
   "id": "a616b5eb",
   "metadata": {},
   "outputs": [],
   "source": [
    "# calculate district entropy\n",
    "\n",
    "# collapse sabs df by geoleaid to get racial counts for total district\n",
    "district_entropy_2011 = union2011.groupby('geoleaid')[['count_white', 'count_black', 'count_native', 'count_asian', \n",
    "                                              'count_hawaiianpacific', 'count_other', 'count_multiracial',\n",
    "                                              'count_hispanic_latino', 'census_count_total', 'naive_count_total']].sum()"
   ]
  },
  {
   "cell_type": "code",
   "execution_count": 1025,
   "id": "533e09f5",
   "metadata": {},
   "outputs": [],
   "source": [
    "# calculate average number of third graders in each AZ per district and add it to the district entropy dataframe\n",
    "avg_az_enrollment11 = union2011.groupby('geoleaid')['census_count_total'].mean()\n",
    "district_entropy_2011 = district_entropy_2011.merge(avg_az_enrollment11, how='left', on='geoleaid')\n",
    "district_entropy_2011 = district_entropy_2011.rename(columns={'census_count_total_x' : 'census_count_total',\n",
    "                                                              'census_count_total_y' : 'district_census_avg_total'})"
   ]
  },
  {
   "cell_type": "code",
   "execution_count": 1026,
   "id": "23e629ca",
   "metadata": {},
   "outputs": [
    {
     "name": "stderr",
     "output_type": "stream",
     "text": [
      "/Users/lacm/opt/anaconda3/lib/python3.9/site-packages/pandas/core/arraylike.py:397: RuntimeWarning: divide by zero encountered in log\n",
      "  result = getattr(ufunc, method)(*inputs, **kwargs)\n",
      "/Users/lacm/opt/anaconda3/lib/python3.9/site-packages/pandas/core/arraylike.py:397: RuntimeWarning: divide by zero encountered in log\n",
      "  result = getattr(ufunc, method)(*inputs, **kwargs)\n",
      "/Users/lacm/opt/anaconda3/lib/python3.9/site-packages/pandas/core/arraylike.py:397: RuntimeWarning: divide by zero encountered in log\n",
      "  result = getattr(ufunc, method)(*inputs, **kwargs)\n",
      "/Users/lacm/opt/anaconda3/lib/python3.9/site-packages/pandas/core/arraylike.py:397: RuntimeWarning: divide by zero encountered in log\n",
      "  result = getattr(ufunc, method)(*inputs, **kwargs)\n",
      "/Users/lacm/opt/anaconda3/lib/python3.9/site-packages/pandas/core/arraylike.py:397: RuntimeWarning: divide by zero encountered in log\n",
      "  result = getattr(ufunc, method)(*inputs, **kwargs)\n",
      "/Users/lacm/opt/anaconda3/lib/python3.9/site-packages/pandas/core/arraylike.py:397: RuntimeWarning: divide by zero encountered in log\n",
      "  result = getattr(ufunc, method)(*inputs, **kwargs)\n",
      "/Users/lacm/opt/anaconda3/lib/python3.9/site-packages/pandas/core/arraylike.py:397: RuntimeWarning: divide by zero encountered in log\n",
      "  result = getattr(ufunc, method)(*inputs, **kwargs)\n",
      "/Users/lacm/opt/anaconda3/lib/python3.9/site-packages/pandas/core/arraylike.py:397: RuntimeWarning: divide by zero encountered in log\n",
      "  result = getattr(ufunc, method)(*inputs, **kwargs)\n"
     ]
    }
   ],
   "source": [
    "# calculate district district entropy\n",
    "district_entropy_2011 = entropy(district_entropy_2011)"
   ]
  },
  {
   "cell_type": "code",
   "execution_count": 1027,
   "id": "bedfdb8b",
   "metadata": {},
   "outputs": [],
   "source": [
    "# rename column names to distinguish them from the sab versions\n",
    "district_entropy_2011 = district_entropy_2011.rename(columns={'entropy' : 'district_entropy',\n",
    "                                                   'census_count_total' : 'district_census_count_total',\n",
    "                                                   'naive_count_total' : 'district_naive_count_total'})"
   ]
  },
  {
   "cell_type": "code",
   "execution_count": 1028,
   "id": "b9e54f6a",
   "metadata": {},
   "outputs": [],
   "source": [
    "# make geoleaid a column instead of index\n",
    "district_entropy_2011.reset_index(inplace=True)"
   ]
  },
  {
   "cell_type": "code",
   "execution_count": 1029,
   "id": "7adedcd1",
   "metadata": {},
   "outputs": [],
   "source": [
    "# keep only relevant columns\n",
    "district_entropy_2011 = district_entropy_2011[['geoleaid', 'district_entropy', 'district_census_count_total', 'district_naive_count_total', 'district_census_avg_total']]"
   ]
  },
  {
   "cell_type": "code",
   "execution_count": 1030,
   "id": "a2161309",
   "metadata": {},
   "outputs": [],
   "source": [
    "# merge district entropy levels onto SAB level entropies so that I can calculate 1 - (sab entropy/district entropy)\n",
    "union2011 = pd.merge(union2011, district_entropy_2011, how='left', on='geoleaid')"
   ]
  },
  {
   "cell_type": "code",
   "execution_count": 1031,
   "id": "b3545915",
   "metadata": {},
   "outputs": [],
   "source": [
    "# calculate information theory index up to the sab level\n",
    "union2011['H_i'] = 1 - (union2011['sab_entropy'] / union2011['district_entropy']) \n",
    "union2011['segregation_index11'] = (union2011['census_count_total'] / union2011['district_census_count_total']) * union2011['H_i']"
   ]
  },
  {
   "cell_type": "code",
   "execution_count": 1032,
   "id": "a0f27458",
   "metadata": {},
   "outputs": [],
   "source": [
    "# finalize calculation of information theory index by summing up sab values from above at the district level\n",
    "union2011['n_attendancezones11'] = 1\n",
    "\n",
    "\n",
    "district_information_index11 = union2011.groupby('geoleaid')[['segregation_index11', 'count_black', 'count_native',\n",
    "                                                              'count_asian', 'count_hawaiianpacific', 'count_other',\n",
    "                                                              'count_multiracial', 'count_white', \n",
    "                                                              'count_hispanic_latino', 'n_attendancezones11']].sum()\n",
    "\n",
    "district_information_index11.reset_index(inplace=True)"
   ]
  },
  {
   "cell_type": "code",
   "execution_count": 1033,
   "id": "f48b9583",
   "metadata": {},
   "outputs": [],
   "source": [
    "# merge district-level features back onto dataset\n",
    "district_information_index11 = pd.merge(district_information_index11, district_entropy_2011, how='left', on='geoleaid')"
   ]
  },
  {
   "cell_type": "code",
   "execution_count": 1034,
   "id": "1deba579",
   "metadata": {},
   "outputs": [],
   "source": [
    "district_information_index11['pblack11'] = district_information_index11['count_black'] / district_information_index11['district_naive_count_total']\n",
    "district_information_index11['pnative11'] = district_information_index11['count_native'] / district_information_index11['district_naive_count_total']\n",
    "district_information_index11['pasian11'] = district_information_index11['count_asian'] / district_information_index11['district_naive_count_total']\n",
    "district_information_index11['phawaiianpacific11'] = district_information_index11['count_hawaiianpacific'] / district_information_index11['district_naive_count_total']\n",
    "district_information_index11['pother11'] = district_information_index11['count_other'] / district_information_index11['district_naive_count_total']\n",
    "district_information_index11['pmultiracial11'] = district_information_index11['count_multiracial'] / district_information_index11['district_naive_count_total']\n",
    "district_information_index11['pwhite11'] = district_information_index11['count_white'] / district_information_index11['district_naive_count_total']\n",
    "district_information_index11['phispaniclatino11'] = district_information_index11['count_hispanic_latino'] / district_information_index11['district_naive_count_total']\n"
   ]
  },
  {
   "cell_type": "code",
   "execution_count": 1035,
   "id": "943ed85b",
   "metadata": {},
   "outputs": [],
   "source": [
    "district_information_index11 = district_information_index11[['geoleaid', 'segregation_index11', 'pblack11', \n",
    "                                                             'pnative11', 'pasian11', 'phawaiianpacific11', \n",
    "                                                             'pother11', 'pmultiracial11', 'pwhite11',\n",
    "                                                             'phispaniclatino11', 'n_attendancezones11', \n",
    "                                                             'district_entropy', 'district_census_count_total', \n",
    "                                                             'district_census_avg_total']]"
   ]
  },
  {
   "cell_type": "code",
   "execution_count": 1036,
   "id": "49bb5107",
   "metadata": {},
   "outputs": [],
   "source": [
    "# give year specific variable names\n",
    "district_information_index11 = district_information_index11.rename(columns={'district_entropy' : 'district_entropy11',\n",
    "                                                                            'district_census_count_total' : 'district_census_count_total11',\n",
    "                                                                            'district_census_avg_total' : 'district_census_avg_total11'})"
   ]
  },
  {
   "cell_type": "markdown",
   "id": "9d99b202",
   "metadata": {},
   "source": [
    "<b>Bias Corrected Segregation Estimates (years with ACS only)</b>"
   ]
  },
  {
   "cell_type": "markdown",
   "id": "d9292ed0",
   "metadata": {},
   "source": [
    "bias-corrected information theory index (segregation) estimates = H - B/2E\n",
    "\n",
    "where:\n",
    "<br>\n",
    "H = biased estimate of information theory index \n",
    "<br>\n",
    "B = (1 - r) / n_bar = (1 - sampling rate of AZs for ACS) / (average number of 3rd graders in district AZs * sampling rate of AZs for ACS)\n",
    "<br>\n",
    "according to sean & anne's paper (https://dup.silverchair-cdn.com/dup/Content_public/Journal/demography/55/6/10.1007_s13524-018-0721-4/3/2129reardon.pdf?Expires=2147483647&Signature=Q9LYYNqSxS3cW5lqyu7yWOyXbLKuyRj~DiYKJXO5fnvTMYiNNn15iR6eVHPy4HGAjM4z2YofwJlD5Aly1V~r2ILK4dnvGTREh7M7NI4UTXg7m5v1mWVOSXn3c9ZoFa-hIW3ii-CMla8HIYvJdqoM9~2DoDLM0Ld2CxXSCIyIWVW5v5RbYI6V7hIPJ7Fe14KJ2jqJCqYyTLCtlINHK~GDAynLLbUsDrdHDe03x6HAJzOj~rc78Pz4U7kc0rKuD~gHxs2YqrCyBmyIdCMl9GhbZqbtEkzEDY7QSSZgBCctvh8TtwWAhpFgeriVmqRSvPxFSp-yablTjaLH50mST83LMA__&Key-Pair-Id=APKAIE5G5CRDK6RD3PGA) sampling rate is approximately 8%"
   ]
  },
  {
   "cell_type": "code",
   "execution_count": 578,
   "id": "b743dd3c",
   "metadata": {},
   "outputs": [],
   "source": [
    "# calculate debiased segregation scores according to above specifications\n",
    "# district_information_index11['H*'] = district_information_index11['segregation_index11'] - ((0.92 / (district_information_index11['district_census_avg_total11'] * 0.08)) / (2 * district_information_index11['district_entropy11']))"
   ]
  },
  {
   "cell_type": "code",
   "execution_count": 587,
   "id": "518af8fa",
   "metadata": {},
   "outputs": [],
   "source": [
    "# any districts who already had segregation scores of 0 or whose debiased scores are below zero --> new debiased score becomes 0\n",
    "# district_information_index11.loc[(district_information_index11['segregation_index11'] == 0)  | (district_information_index11['H*'] < 0), 'H*'] = 0"
   ]
  },
  {
   "cell_type": "code",
   "execution_count": 589,
   "id": "6ee91a23",
   "metadata": {},
   "outputs": [],
   "source": [
    "# drop biased segregation score column and rename new debiased segregation score column\n",
    "# district_information_index11 = district_information_index11.drop('segregation_index11', axis=1)\n",
    "# district_information_index11 = district_information_index11.rename(columns={'H*' : 'segregation_index11'})"
   ]
  },
  {
   "cell_type": "code",
   "execution_count": 1039,
   "id": "e21f9d74",
   "metadata": {},
   "outputs": [],
   "source": [
    "district_information_index11.to_csv('/Users/lacm/Documents/Stanford/*Capstone Research/Data/SY 2010-11/Finalized Files for Paper/2010-11 District Segregation.csv')"
   ]
  },
  {
   "cell_type": "markdown",
   "id": "38d7e554",
   "metadata": {},
   "source": [
    "<b>SCHOOL YEAR 2011-12</b>"
   ]
  },
  {
   "cell_type": "markdown",
   "id": "d0b653e0",
   "metadata": {},
   "source": [
    "<b>Process Shapefiles</b>"
   ]
  },
  {
   "cell_type": "code",
   "execution_count": null,
   "id": "bf8beb79",
   "metadata": {},
   "outputs": [],
   "source": [
    "# CENSUS BLOCKS"
   ]
  },
  {
   "cell_type": "code",
   "execution_count": 806,
   "id": "e4c90d9b",
   "metadata": {},
   "outputs": [],
   "source": [
    "census2012_shp = gpd.read_file('/Users/lacm/Documents/Stanford/*Capstone Research/Data/SY 2011-12/Census Data/Minnesota Census Block Group Demographics/Clean/2011-12 Census Blocks with Demographics.shp')"
   ]
  },
  {
   "cell_type": "code",
   "execution_count": 807,
   "id": "5fd0646e",
   "metadata": {},
   "outputs": [],
   "source": [
    "# rename columns\n",
    "census2012_shp = census2012_shp.rename(columns={'gisjoin_ce' : 'gisjoin_censusblock',\n",
    "                                               'count_blac' : 'count_black',\n",
    "                                               'count_nati' : 'count_native',\n",
    "                                               'count_asia' : 'count_asian',\n",
    "                                               'count_hawa': 'count_hawaiianpacific',\n",
    "                                               'count_othe': 'count_other',\n",
    "                                               'count_mult': 'count_multiracial',\n",
    "                                               'count_whit' : 'count_white',\n",
    "                                               'count_hisp': 'count_hispanic_latino',\n",
    "                                               'census_cou' : 'census_count_total'})"
   ]
  },
  {
   "cell_type": "code",
   "execution_count": 808,
   "id": "0baaf75c",
   "metadata": {},
   "outputs": [],
   "source": [
    "census2012_shp.geometry = census2012_shp.apply(lambda row: make_valid(row.geometry) if not row.geometry.is_valid else row.geometry, axis=1)"
   ]
  },
  {
   "cell_type": "code",
   "execution_count": 809,
   "id": "c5e96c5d",
   "metadata": {},
   "outputs": [],
   "source": [
    "census2012_shp['census_area'] = census2012_shp.area"
   ]
  },
  {
   "cell_type": "code",
   "execution_count": 810,
   "id": "c1bbd34c",
   "metadata": {},
   "outputs": [],
   "source": [
    "# census2012_shp.to_file('/Users/lacm/Documents/Stanford/*Capstone Research/Data/SY 2011-12/Census Data/Minnesota Census Block Group Demographics/Clean/2011-12 Census Blocks with Demographics.shp',\n",
    "#                       driver='ESRI Shapefile')"
   ]
  },
  {
   "cell_type": "markdown",
   "id": "bd364b90",
   "metadata": {},
   "source": [
    "____"
   ]
  },
  {
   "cell_type": "code",
   "execution_count": null,
   "id": "5e55e1c2",
   "metadata": {},
   "outputs": [],
   "source": [
    "# SABs"
   ]
  },
  {
   "cell_type": "code",
   "execution_count": 811,
   "id": "ce582034",
   "metadata": {},
   "outputs": [],
   "source": [
    "sabs2012_shp = gpd.read_file('/Users/lacm/Documents/Stanford/*Capstone Research/Data/SY 2011-12/SABINS/Clean/PY_SABINS_1112_03_US_reprojected - fixed geometries.shp')"
   ]
  },
  {
   "cell_type": "code",
   "execution_count": 812,
   "id": "3e40e441",
   "metadata": {},
   "outputs": [],
   "source": [
    "sabs2012_shp.columns = sabs2012_shp.columns.str.lower()"
   ]
  },
  {
   "cell_type": "code",
   "execution_count": 813,
   "id": "09cbd69e",
   "metadata": {},
   "outputs": [],
   "source": [
    "sabs2012_shp = sabs2012_shp[['sdunia_g', 'gisjoin', 'geometry']]"
   ]
  },
  {
   "cell_type": "code",
   "execution_count": 814,
   "id": "29f7f0cd",
   "metadata": {},
   "outputs": [],
   "source": [
    "sabs2012_shp.geometry = sabs2012_shp.apply(lambda row: make_valid(row.geometry) if not row.geometry.is_valid else row.geometry, axis=1)"
   ]
  },
  {
   "cell_type": "code",
   "execution_count": 58,
   "id": "46d51bee",
   "metadata": {},
   "outputs": [],
   "source": [
    "# sabs2012_shp.to_file(\"/Users/lacm/Documents/Stanford/*Capstone Research/Data/SY 2011-12/SABINS/Clean/PY_SABINS_1112_03_US_reprojected - fixed geometries.shp\",\n",
    "#                        driver='ESRI Shapefile')"
   ]
  },
  {
   "cell_type": "markdown",
   "id": "909829bc",
   "metadata": {},
   "source": [
    "____"
   ]
  },
  {
   "cell_type": "code",
   "execution_count": null,
   "id": "6ac01ada",
   "metadata": {},
   "outputs": [],
   "source": [
    "# PERFORM UNION BETWEEN CENSUS AND SABS FILES"
   ]
  },
  {
   "cell_type": "code",
   "execution_count": 1040,
   "id": "235c80ab",
   "metadata": {},
   "outputs": [],
   "source": [
    "union2012 =  gpd.overlay(sabs2012_shp, census2012_shp, how='intersection', keep_geom_type=False)"
   ]
  },
  {
   "cell_type": "code",
   "execution_count": 1041,
   "id": "abf5f521",
   "metadata": {},
   "outputs": [],
   "source": [
    "# calculate area of union geographies\n",
    "union2012['union_area'] = union2012.area"
   ]
  },
  {
   "cell_type": "code",
   "execution_count": 1042,
   "id": "de526f34",
   "metadata": {},
   "outputs": [],
   "source": [
    "# calculate weight of union area in SAB\n",
    "union2012['weight'] = union2012['union_area']/union2012['census_area']"
   ]
  },
  {
   "cell_type": "code",
   "execution_count": 1043,
   "id": "c6438eb7",
   "metadata": {},
   "outputs": [],
   "source": [
    "# convert census counts to float variables\n",
    "union2012['count_black'] = union2012['count_black'].astype('float')\n",
    "union2012['count_native'] = union2012['count_native'].astype('float')\n",
    "union2012['count_asian'] = union2012['count_asian'].astype('float')\n",
    "union2012['count_hawaiianpacific'] = union2012['count_hawaiianpacific'].astype('float')\n",
    "union2012['count_other'] = union2012['count_other'].astype('float')\n",
    "union2012['count_multiracial'] = union2012['count_multiracial'].astype('float')\n",
    "union2012['count_white'] = union2012['count_white'].astype('float')\n",
    "union2012['count_hispanic_latino'] = union2012['count_hispanic_latino'].astype('float')\n",
    "union2012['census_count_total'] = union2012['census_count_total'].astype('float')"
   ]
  },
  {
   "cell_type": "code",
   "execution_count": 1044,
   "id": "c878faa9",
   "metadata": {},
   "outputs": [],
   "source": [
    "# calculated weighted populations in each union geography\n",
    "\n",
    "union2012['count_black_weighted'] = union2012['count_black'] * union2012['weight']\n",
    "union2012['count_native_weighted'] = union2012['count_native'] * union2012['weight']\n",
    "union2012['count_asian_weighted'] = union2012['count_asian'] * union2012['weight']\n",
    "union2012['count_hawaiian_weighted'] = union2012['count_hawaiianpacific'] * union2012['weight']\n",
    "union2012['count_other_weighted'] = union2012['count_other'] * union2012['weight']\n",
    "union2012['count_multiracial_weighted'] = union2012['count_multiracial'] * union2012['weight']\n",
    "union2012['count_white_weighted'] = union2012['count_white'] * union2012['weight']\n",
    "union2012['count_hispanic_weighted'] = union2012['count_hispanic_latino'] * union2012['weight']\n",
    "union2012['count_total_weighted'] = union2012['census_count_total'] * union2012['weight']"
   ]
  },
  {
   "cell_type": "code",
   "execution_count": 1045,
   "id": "1393f249",
   "metadata": {},
   "outputs": [],
   "source": [
    "# aggregate weighted population counts for each attendance area \n",
    "union2012 = union2012.groupby(['gisjoin', 'sdunia_g'])[['count_black_weighted', 'count_native_weighted', 'count_asian_weighted', \n",
    "                                                            'count_hawaiian_weighted', 'count_other_weighted', \n",
    "                                                            'count_multiracial_weighted', 'count_white_weighted',\n",
    "                                                            'count_hispanic_weighted', 'count_total_weighted']].sum()\n",
    "\n",
    "union2012.reset_index(inplace=True)"
   ]
  },
  {
   "cell_type": "markdown",
   "id": "5a117cab",
   "metadata": {},
   "source": [
    "<b>Calculate Segregation Index</b>"
   ]
  },
  {
   "cell_type": "code",
   "execution_count": 1046,
   "id": "6fcbd27e",
   "metadata": {},
   "outputs": [],
   "source": [
    "# import ccd schools file to get geoleaids\n",
    "\n",
    "ccdschools2012 = pd.read_csv('/Users/lacm/Documents/Stanford/*Capstone Research/Data/SY 2011-12/CCD Schools 2011-2012.csv')\n",
    "\n",
    "# clean the import errors of ccdschools10\n",
    "\n",
    "# convert variables to correct type\n",
    "ccdschools2012['leaid'] = ccdschools2012['leaid'].astype('str')\n",
    "ccdschools2012['geoleaid'] = ccdschools2012['geoleaid'].astype('str')\n",
    "\n",
    "# strip string columns\n",
    "for column in ccdschools2012.columns:\n",
    "    if ccdschools2012.dtypes[column] == 'object':\n",
    "        ccdschools2012[column] = ccdschools2012[column].str.strip()\n",
    "\n",
    "# add leading 0 to geolea, leaid, and school ids where it was chopped off from incorrect variable type\n",
    "ccdschools2012.loc[ccdschools2012['geoleaid'].str.len() == 6, 'geoleaid'] = '0' + ccdschools2012['geoleaid']\n",
    "ccdschools2012.loc[ccdschools2012['leaid'].str.len() == 6, 'leaid'] = '0' + ccdschools2012['leaid']\n",
    "\n",
    "# drop unncessary columns\n",
    "ccdschools2012 = ccdschools2012[['geoleaid', 'leaid', 'state_name', 'county_name']]\n",
    "\n",
    "\n",
    "# keep only unique leaids\n",
    "ccdschools2012 = ccdschools2012.drop_duplicates(subset=['leaid'])"
   ]
  },
  {
   "cell_type": "code",
   "execution_count": 1047,
   "id": "c0af524a",
   "metadata": {},
   "outputs": [],
   "source": [
    "# merge ccd school files onto the union file\n",
    "union2012 = union2012.merge(ccdschools2012, how='left', left_on='sdunia_g',right_on='leaid')"
   ]
  },
  {
   "cell_type": "code",
   "execution_count": 1048,
   "id": "e4b3fa0f",
   "metadata": {},
   "outputs": [],
   "source": [
    "# if no geoleaid value, geoleaid = leaid\n",
    "union2012.geoleaid[pd.isna(union2012.geoleaid)] = union2012['sdunia_g']"
   ]
  },
  {
   "cell_type": "code",
   "execution_count": 1049,
   "id": "4c8fd7b5",
   "metadata": {},
   "outputs": [],
   "source": [
    "union2012 = union2012.rename(columns={'count_white_weighted' : 'count_white',\n",
    "                                                          'count_black_weighted' : 'count_black',\n",
    "                                                          'count_native_weighted' : 'count_native',\n",
    "                                                          'count_asian_weighted' : 'count_asian',\n",
    "                                                          'count_hawaiian_weighted' : 'count_hawaiianpacific',\n",
    "                                                          'count_other_weighted' : 'count_other', \n",
    "                                                          'count_multiracial_weighted' : 'count_multiracial', \n",
    "                                                          'count_hispanic_weighted' : 'count_hispanic_latino',\n",
    "                                                          'count_total_weighted' : 'census_count_total'})"
   ]
  },
  {
   "cell_type": "code",
   "execution_count": 1050,
   "id": "3c199d78",
   "metadata": {},
   "outputs": [
    {
     "name": "stderr",
     "output_type": "stream",
     "text": [
      "/Users/lacm/opt/anaconda3/lib/python3.9/site-packages/pandas/core/arraylike.py:397: RuntimeWarning: divide by zero encountered in log\n",
      "  result = getattr(ufunc, method)(*inputs, **kwargs)\n",
      "/Users/lacm/opt/anaconda3/lib/python3.9/site-packages/pandas/core/arraylike.py:397: RuntimeWarning: divide by zero encountered in log\n",
      "  result = getattr(ufunc, method)(*inputs, **kwargs)\n",
      "/Users/lacm/opt/anaconda3/lib/python3.9/site-packages/pandas/core/arraylike.py:397: RuntimeWarning: divide by zero encountered in log\n",
      "  result = getattr(ufunc, method)(*inputs, **kwargs)\n",
      "/Users/lacm/opt/anaconda3/lib/python3.9/site-packages/pandas/core/arraylike.py:397: RuntimeWarning: divide by zero encountered in log\n",
      "  result = getattr(ufunc, method)(*inputs, **kwargs)\n",
      "/Users/lacm/opt/anaconda3/lib/python3.9/site-packages/pandas/core/arraylike.py:397: RuntimeWarning: divide by zero encountered in log\n",
      "  result = getattr(ufunc, method)(*inputs, **kwargs)\n",
      "/Users/lacm/opt/anaconda3/lib/python3.9/site-packages/pandas/core/arraylike.py:397: RuntimeWarning: divide by zero encountered in log\n",
      "  result = getattr(ufunc, method)(*inputs, **kwargs)\n",
      "/Users/lacm/opt/anaconda3/lib/python3.9/site-packages/pandas/core/arraylike.py:397: RuntimeWarning: divide by zero encountered in log\n",
      "  result = getattr(ufunc, method)(*inputs, **kwargs)\n"
     ]
    }
   ],
   "source": [
    "# calculate SABs' entropies\n",
    "union2012 = entropy(union2012)"
   ]
  },
  {
   "cell_type": "code",
   "execution_count": 1051,
   "id": "c827606f",
   "metadata": {},
   "outputs": [],
   "source": [
    "# rename entropy column to sab_entropy to distinguish it from the district entropy values\n",
    "union2012 = union2012.rename(columns={'entropy' : 'sab_entropy'})"
   ]
  },
  {
   "cell_type": "code",
   "execution_count": 1052,
   "id": "646639fb",
   "metadata": {},
   "outputs": [],
   "source": [
    "# calculate district entropy\n",
    "\n",
    "# collapse sabs df by geoleaid to get racial counts for total district\n",
    "district_entropy_2012 = union2012.groupby('geoleaid')[['count_white', 'count_black', 'count_native', 'count_asian', \n",
    "                                              'count_hawaiianpacific', 'count_other', 'count_multiracial',\n",
    "                                              'count_hispanic_latino', 'census_count_total', 'naive_count_total']].sum()"
   ]
  },
  {
   "cell_type": "code",
   "execution_count": 1053,
   "id": "53874f53",
   "metadata": {},
   "outputs": [],
   "source": [
    "# calculate average number of third graders in each AZ per district and add it to the district entropy dataframe\n",
    "avg_az_enrollment12 = union2012.groupby('geoleaid')['census_count_total'].mean()\n",
    "district_entropy_2012 = district_entropy_2012.merge(avg_az_enrollment12, how='left', on='geoleaid')\n",
    "district_entropy_2012 = district_entropy_2012.rename(columns={'census_count_total_x' : 'census_count_total',\n",
    "                                                              'census_count_total_y' : 'district_census_avg_total'})"
   ]
  },
  {
   "cell_type": "code",
   "execution_count": 1054,
   "id": "3dc43588",
   "metadata": {},
   "outputs": [
    {
     "name": "stderr",
     "output_type": "stream",
     "text": [
      "/Users/lacm/opt/anaconda3/lib/python3.9/site-packages/pandas/core/arraylike.py:397: RuntimeWarning: divide by zero encountered in log\n",
      "  result = getattr(ufunc, method)(*inputs, **kwargs)\n",
      "/Users/lacm/opt/anaconda3/lib/python3.9/site-packages/pandas/core/arraylike.py:397: RuntimeWarning: divide by zero encountered in log\n",
      "  result = getattr(ufunc, method)(*inputs, **kwargs)\n",
      "/Users/lacm/opt/anaconda3/lib/python3.9/site-packages/pandas/core/arraylike.py:397: RuntimeWarning: divide by zero encountered in log\n",
      "  result = getattr(ufunc, method)(*inputs, **kwargs)\n",
      "/Users/lacm/opt/anaconda3/lib/python3.9/site-packages/pandas/core/arraylike.py:397: RuntimeWarning: divide by zero encountered in log\n",
      "  result = getattr(ufunc, method)(*inputs, **kwargs)\n",
      "/Users/lacm/opt/anaconda3/lib/python3.9/site-packages/pandas/core/arraylike.py:397: RuntimeWarning: divide by zero encountered in log\n",
      "  result = getattr(ufunc, method)(*inputs, **kwargs)\n",
      "/Users/lacm/opt/anaconda3/lib/python3.9/site-packages/pandas/core/arraylike.py:397: RuntimeWarning: divide by zero encountered in log\n",
      "  result = getattr(ufunc, method)(*inputs, **kwargs)\n",
      "/Users/lacm/opt/anaconda3/lib/python3.9/site-packages/pandas/core/arraylike.py:397: RuntimeWarning: divide by zero encountered in log\n",
      "  result = getattr(ufunc, method)(*inputs, **kwargs)\n"
     ]
    }
   ],
   "source": [
    "# calculate district district entropy\n",
    "district_entropy_2012 = entropy(district_entropy_2012)"
   ]
  },
  {
   "cell_type": "code",
   "execution_count": 1055,
   "id": "75559618",
   "metadata": {},
   "outputs": [],
   "source": [
    "# rename column names to distinguish them from the sab versions\n",
    "district_entropy_2012 = district_entropy_2012.rename(columns={'entropy' : 'district_entropy',\n",
    "                                                   'census_count_total' : 'district_census_count_total',\n",
    "                                                   'naive_count_total' : 'district_naive_count_total'})"
   ]
  },
  {
   "cell_type": "code",
   "execution_count": 1056,
   "id": "a39669c9",
   "metadata": {},
   "outputs": [],
   "source": [
    "# make geoleaid a column instead of index\n",
    "district_entropy_2012.reset_index(inplace=True)"
   ]
  },
  {
   "cell_type": "code",
   "execution_count": 1057,
   "id": "49d9ffec",
   "metadata": {},
   "outputs": [],
   "source": [
    "# keep only relevant columns\n",
    "district_entropy_2012 = district_entropy_2012[['geoleaid', 'district_entropy', 'district_census_count_total', 'district_naive_count_total', 'district_census_avg_total']]"
   ]
  },
  {
   "cell_type": "code",
   "execution_count": 1058,
   "id": "5ddf7555",
   "metadata": {},
   "outputs": [],
   "source": [
    "# merge district entropy levels onto SAB level entropies so that I can calculate 1 - (sab entropy/district entropy)\n",
    "union2012 = pd.merge(union2012, district_entropy_2012, how='left', on='geoleaid')"
   ]
  },
  {
   "cell_type": "code",
   "execution_count": 1059,
   "id": "77ad95fa",
   "metadata": {},
   "outputs": [],
   "source": [
    "# calculate information theory index up to the sab level\n",
    "union2012['H_i'] = 1 - (union2012['sab_entropy'] / union2012['district_entropy']) \n",
    "union2012['segregation_index12'] = (union2012['census_count_total'] / union2012['district_census_count_total']) * union2012['H_i']"
   ]
  },
  {
   "cell_type": "code",
   "execution_count": 1060,
   "id": "0b6d633e",
   "metadata": {},
   "outputs": [],
   "source": [
    "# finalize calculation of information theory index by summing up sab values from above at the district level\n",
    "union2012['n_attendancezones12'] = 1\n",
    "\n",
    "\n",
    "district_information_index12 = union2012.groupby('geoleaid')[['segregation_index12', 'count_black', 'count_native',\n",
    "                                                              'count_asian', 'count_hawaiianpacific', 'count_other',\n",
    "                                                              'count_multiracial', 'count_white', \n",
    "                                                              'count_hispanic_latino', 'n_attendancezones12']].sum()\n",
    "\n",
    "district_information_index12.reset_index(inplace=True)"
   ]
  },
  {
   "cell_type": "code",
   "execution_count": 1061,
   "id": "90ccc954",
   "metadata": {},
   "outputs": [],
   "source": [
    "# merge district-level features back onto dataset\n",
    "district_information_index12 = pd.merge(district_information_index12, district_entropy_2012, how='left', on='geoleaid')"
   ]
  },
  {
   "cell_type": "code",
   "execution_count": 1062,
   "id": "5e3f9df5",
   "metadata": {},
   "outputs": [],
   "source": [
    "district_information_index12['pblack12'] = district_information_index12['count_black'] / district_information_index12['district_naive_count_total']\n",
    "district_information_index12['pnative12'] = district_information_index12['count_native'] / district_information_index12['district_naive_count_total']\n",
    "district_information_index12['pasian12'] = district_information_index12['count_asian'] / district_information_index12['district_naive_count_total']\n",
    "district_information_index12['phawaiianpacific12'] = district_information_index12['count_hawaiianpacific'] / district_information_index12['district_naive_count_total']\n",
    "district_information_index12['pother12'] = district_information_index12['count_other'] / district_information_index12['district_naive_count_total']\n",
    "district_information_index12['pmultiracial12'] = district_information_index12['count_multiracial'] / district_information_index12['district_naive_count_total']\n",
    "district_information_index12['pwhite12'] = district_information_index12['count_white'] / district_information_index12['district_naive_count_total']\n",
    "district_information_index12['phispaniclatino12'] = district_information_index12['count_hispanic_latino'] / district_information_index12['district_naive_count_total']"
   ]
  },
  {
   "cell_type": "code",
   "execution_count": 1063,
   "id": "944aa056",
   "metadata": {},
   "outputs": [],
   "source": [
    "district_information_index12 = district_information_index12[['geoleaid', 'segregation_index12', 'pblack12', \n",
    "                                                             'pnative12', 'pasian12', 'phawaiianpacific12', \n",
    "                                                             'pother12', 'pmultiracial12', 'pwhite12', \n",
    "                                                             'phispaniclatino12', 'n_attendancezones12', \n",
    "                                                             'district_entropy', 'district_census_count_total', \n",
    "                                                             'district_census_avg_total']]"
   ]
  },
  {
   "cell_type": "code",
   "execution_count": 1064,
   "id": "c46975c2",
   "metadata": {},
   "outputs": [],
   "source": [
    "# give year specific variable names\n",
    "district_information_index12 = district_information_index12.rename(columns={'district_entropy' : 'district_entropy12',\n",
    "                                                                            'district_census_count_total' : 'district_census_count_total12',\n",
    "                                                                            'district_census_avg_total' : 'district_census_avg_total12'})"
   ]
  },
  {
   "cell_type": "markdown",
   "id": "bbc1537e",
   "metadata": {},
   "source": [
    "<b>Bias Corrected Segregation Estimates (years with ACS only)</b>"
   ]
  },
  {
   "cell_type": "markdown",
   "id": "d4e119be",
   "metadata": {},
   "source": [
    "bias-corrected information theory index (segregation) estimates = H - B/2E\n",
    "\n",
    "where:\n",
    "<br>\n",
    "H = biased estimate of information theory index \n",
    "<br>\n",
    "B = (1 - r) / n_bar = (1 - sampling rate of AZs for ACS) / (average number of 3rd graders in district AZs * sampling rate of AZs for ACS)\n",
    "<br>\n",
    "according to sean & anne's paper (https://dup.silverchair-cdn.com/dup/Content_public/Journal/demography/55/6/10.1007_s13524-018-0721-4/3/2129reardon.pdf?Expires=2147483647&Signature=Q9LYYNqSxS3cW5lqyu7yWOyXbLKuyRj~DiYKJXO5fnvTMYiNNn15iR6eVHPy4HGAjM4z2YofwJlD5Aly1V~r2ILK4dnvGTREh7M7NI4UTXg7m5v1mWVOSXn3c9ZoFa-hIW3ii-CMla8HIYvJdqoM9~2DoDLM0Ld2CxXSCIyIWVW5v5RbYI6V7hIPJ7Fe14KJ2jqJCqYyTLCtlINHK~GDAynLLbUsDrdHDe03x6HAJzOj~rc78Pz4U7kc0rKuD~gHxs2YqrCyBmyIdCMl9GhbZqbtEkzEDY7QSSZgBCctvh8TtwWAhpFgeriVmqRSvPxFSp-yablTjaLH50mST83LMA__&Key-Pair-Id=APKAIE5G5CRDK6RD3PGA) sampling rate is approximately 8%"
   ]
  },
  {
   "cell_type": "code",
   "execution_count": 840,
   "id": "a4a31ea8",
   "metadata": {},
   "outputs": [],
   "source": [
    "# calculate debiased segregation scores according to above specifications\n",
    "# district_information_index12['H*'] = district_information_index12['segregation_index12'] - ((0.92 / (district_information_index12['district_census_avg_total12'] * 0.08)) / (2 * district_information_index12['district_entropy12']))"
   ]
  },
  {
   "cell_type": "code",
   "execution_count": 841,
   "id": "d50505f3",
   "metadata": {},
   "outputs": [],
   "source": [
    "# any districts who already had segregation scores of 0 or whose debiased scores are below zero --> new debiased score becomes 0\n",
    "# district_information_index12.loc[(district_information_index12['segregation_index12'] == 0)  | (district_information_index12['H*'] < 0), 'H*'] = 0"
   ]
  },
  {
   "cell_type": "code",
   "execution_count": 842,
   "id": "4d7ba8c2",
   "metadata": {},
   "outputs": [],
   "source": [
    "# drop biased segregation score column and rename new debiased segregation score column\n",
    "# district_information_index12 = district_information_index12.drop('segregation_index12', axis=1)\n",
    "# district_information_index12 = district_information_index12.rename(columns={'H*' : 'segregation_index12'})"
   ]
  },
  {
   "cell_type": "code",
   "execution_count": 1067,
   "id": "d08f23a6",
   "metadata": {},
   "outputs": [],
   "source": [
    "district_information_index12.to_csv('/Users/lacm/Documents/Stanford/*Capstone Research/Data/SY 2011-12/Finalized Files for Paper/2011-12 District Segregation.csv')"
   ]
  },
  {
   "cell_type": "markdown",
   "id": "8b716779",
   "metadata": {},
   "source": [
    "<b>SCHOOL YEAR 2013-2014</b>"
   ]
  },
  {
   "cell_type": "markdown",
   "id": "b20b7869",
   "metadata": {},
   "source": [
    "<b>Process Shapefiles</b>"
   ]
  },
  {
   "cell_type": "code",
   "execution_count": null,
   "id": "b458accb",
   "metadata": {},
   "outputs": [],
   "source": [
    "# CENSUS BLOCKS"
   ]
  },
  {
   "cell_type": "code",
   "execution_count": 46,
   "id": "4deb909f",
   "metadata": {},
   "outputs": [],
   "source": [
    "# upload census blocks with demographics\n",
    "census2014_shp = gpd.read_file('/Users/lacm/Documents/Stanford/*Capstone Research/Data/SY 2013-14/Census Data/Clean/2013-14 Census Blocks with Demographics.shp')"
   ]
  },
  {
   "cell_type": "code",
   "execution_count": 47,
   "id": "306cee4d",
   "metadata": {},
   "outputs": [],
   "source": [
    "# convert column headers to lowercase\n",
    "census2014_shp = census2014_shp.rename(str.lower, axis='columns')\n",
    "\n",
    "\n",
    "census2014_shp = census2014_shp.rename(columns={'gisjoin_ce' : 'gisjoin_census',\n",
    "                                               'count_blac' : 'count_black',\n",
    "                                               'count_nati' : 'count_native',\n",
    "                                               'count_asia' : 'count_asian',\n",
    "                                               'count_hawa': 'count_hawaiianpacific',\n",
    "                                               'count_othe': 'count_other',\n",
    "                                               'count_mult': 'count_multiracial',\n",
    "                                               'count_whit' : 'count_white',\n",
    "                                               'count_hisp': 'count_hispanic_latino',\n",
    "                                               'census_cou' : 'census_count_total'})\n",
    "\n",
    "# keep only relevant columns\n",
    "census2014_shp = census2014_shp[['gisjoin_census', 'count_white', 'count_black', 'count_native', 'count_asian', \n",
    "                                 'count_hawaiianpacific', 'count_other', 'count_multiracial', 'count_hispanic_latino',\n",
    "                                 'census_count_total', 'geometry']]"
   ]
  },
  {
   "cell_type": "code",
   "execution_count": 48,
   "id": "09a21c0c",
   "metadata": {},
   "outputs": [],
   "source": [
    "# fix invalid geometries\n",
    "census2014_shp.geometry = census2014_shp.apply(lambda row: make_valid(row.geometry) if not row.geometry.is_valid else row.geometry, axis=1)"
   ]
  },
  {
   "cell_type": "code",
   "execution_count": 49,
   "id": "b03cf3ab",
   "metadata": {},
   "outputs": [],
   "source": [
    "census2014_shp['census_area'] = census2014_shp.area"
   ]
  },
  {
   "cell_type": "code",
   "execution_count": 727,
   "id": "f829602f",
   "metadata": {},
   "outputs": [
    {
     "name": "stderr",
     "output_type": "stream",
     "text": [
      "/var/folders/f_/y82bl01510z6_6b9mz3cg6br0000gn/T/ipykernel_83125/3926690282.py:1: UserWarning: Column names longer than 10 characters will be truncated when saved to ESRI Shapefile.\n",
      "  census2014_shp.to_file(\"/Users/lacm/Documents/Stanford/*Capstone Research/Data/SY 2013-14/Census Data/Clean/2013-14 Census Blocks with Demographics.shp\",\n"
     ]
    }
   ],
   "source": [
    "# census2014_shp.to_file(\"/Users/lacm/Documents/Stanford/*Capstone Research/Data/SY 2013-14/Census Data/Clean/2013-14 Census Blocks with Demographics.shp\",\n",
    "#                        driver='ESRI Shapefile')"
   ]
  },
  {
   "cell_type": "markdown",
   "id": "bfdfd57f",
   "metadata": {},
   "source": [
    "____"
   ]
  },
  {
   "cell_type": "code",
   "execution_count": null,
   "id": "c8211ac8",
   "metadata": {},
   "outputs": [],
   "source": [
    "# SABs"
   ]
  },
  {
   "cell_type": "code",
   "execution_count": 50,
   "id": "bb4ae241",
   "metadata": {},
   "outputs": [],
   "source": [
    "sabs2014_shp = gpd.read_file('/Users/lacm/Documents/Stanford/*Capstone Research/Data/SY 2013-14/SABS/Clean/3rd Grade Only SABS 2013-2014.shp')"
   ]
  },
  {
   "cell_type": "code",
   "execution_count": 51,
   "id": "1f6c3454",
   "metadata": {},
   "outputs": [],
   "source": [
    "# make column headers lowercase \n",
    "sabs2014_shp.columns = sabs2014_shp.columns.str.lower()"
   ]
  },
  {
   "cell_type": "code",
   "execution_count": 52,
   "id": "3a3e4ca4",
   "metadata": {},
   "outputs": [],
   "source": [
    "# drop unncessary columns\n",
    "sabs2014_shp = sabs2014_shp[['ncessch', 'schnam', 'leaid', 'geometry']]"
   ]
  },
  {
   "cell_type": "code",
   "execution_count": 53,
   "id": "016b862b",
   "metadata": {},
   "outputs": [],
   "source": [
    "sabs2014_shp.geometry = sabs2014_shp.apply(lambda row: make_valid(row.geometry) if not row.geometry.is_valid else row.geometry, axis=1)"
   ]
  },
  {
   "cell_type": "code",
   "execution_count": 732,
   "id": "4127bbd4",
   "metadata": {},
   "outputs": [],
   "source": [
    "# sabs2014_shp.to_file(\"/Users/lacm/Documents/Stanford/*Capstone Research/Data/SY 2013-14/SABS/Clean/3rd Grade Only SABS 2013-2014.shp\",\n",
    "#                        driver='ESRI Shapefile')"
   ]
  },
  {
   "cell_type": "markdown",
   "id": "659ff1c1",
   "metadata": {},
   "source": [
    "____"
   ]
  },
  {
   "cell_type": "code",
   "execution_count": null,
   "id": "df846ead",
   "metadata": {},
   "outputs": [],
   "source": [
    "# PERFORM UNION BETWEEN CENSUS AND SABS FILES"
   ]
  },
  {
   "cell_type": "code",
   "execution_count": 1068,
   "id": "7265643e",
   "metadata": {},
   "outputs": [],
   "source": [
    "union2014 = gpd.overlay(sabs2014_shp, census2014_shp, how='intersection', keep_geom_type=False)"
   ]
  },
  {
   "cell_type": "code",
   "execution_count": 1069,
   "id": "8df557a2",
   "metadata": {},
   "outputs": [],
   "source": [
    "# calculate area of union geographies\n",
    "union2014['union_area'] = union2014.area"
   ]
  },
  {
   "cell_type": "code",
   "execution_count": 1070,
   "id": "6416142c",
   "metadata": {},
   "outputs": [],
   "source": [
    "# calculate weight of union area in SAB\n",
    "union2014['weight'] = union2014['union_area']/union2014['census_area']"
   ]
  },
  {
   "cell_type": "code",
   "execution_count": 1071,
   "id": "a58e8ce2",
   "metadata": {},
   "outputs": [],
   "source": [
    "# convert census counts to float variables\n",
    "union2014['count_black'] = union2014['count_black'].astype('float')\n",
    "union2014['count_native'] = union2014['count_native'].astype('float')\n",
    "union2014['count_asian'] = union2014['count_asian'].astype('float')\n",
    "union2014['count_hawaiianpacific'] = union2014['count_hawaiianpacific'].astype('float')\n",
    "union2014['count_other'] = union2014['count_other'].astype('float')\n",
    "union2014['count_multiracial'] = union2014['count_multiracial'].astype('float')\n",
    "union2014['count_white'] = union2014['count_white'].astype('float')\n",
    "union2014['count_hispanic_latino'] = union2014['count_hispanic_latino'].astype('float')\n",
    "union2014['census_count_total'] = union2014['census_count_total'].astype('float')"
   ]
  },
  {
   "cell_type": "code",
   "execution_count": 1072,
   "id": "de15cb9a",
   "metadata": {},
   "outputs": [],
   "source": [
    "# calculated weighted populations in each union geography\n",
    "\n",
    "union2014['count_black_weighted'] = union2014['count_black'] * union2014['weight']\n",
    "union2014['count_native_weighted'] = union2014['count_native'] * union2014['weight']\n",
    "union2014['count_asian_weighted'] = union2014['count_asian'] * union2014['weight']\n",
    "union2014['count_hawaiian_weighted'] = union2014['count_hawaiianpacific'] * union2014['weight']\n",
    "union2014['count_other_weighted'] = union2014['count_other'] * union2014['weight']\n",
    "union2014['count_multiracial_weighted'] = union2014['count_multiracial'] * union2014['weight']\n",
    "union2014['count_white_weighted'] = union2014['count_white'] * union2014['weight']\n",
    "union2014['count_hispanic_weighted'] = union2014['count_hispanic_latino'] * union2014['weight']\n",
    "union2014['count_total_weighted'] = union2014['census_count_total'] * union2014['weight']"
   ]
  },
  {
   "cell_type": "code",
   "execution_count": 1073,
   "id": "c41051a5",
   "metadata": {},
   "outputs": [],
   "source": [
    "# aggregate weighted population counts for each attendance area \n",
    "union2014 = union2014.groupby(['ncessch', 'schnam', 'leaid'])[['count_black_weighted', 'count_native_weighted', \n",
    "                                                               'count_asian_weighted', \n",
    "                                                            'count_hawaiian_weighted', 'count_other_weighted', \n",
    "                                                            'count_multiracial_weighted', 'count_white_weighted',\n",
    "                                                            'count_hispanic_weighted', 'count_total_weighted']].sum()\n",
    "\n",
    "union2014.reset_index(inplace=True)"
   ]
  },
  {
   "cell_type": "markdown",
   "id": "e171d7e4",
   "metadata": {},
   "source": [
    "<b>Calculate Segregation Index</b>"
   ]
  },
  {
   "cell_type": "code",
   "execution_count": 1074,
   "id": "b6281952",
   "metadata": {},
   "outputs": [],
   "source": [
    "# import ccd schools file to get geoleaids\n",
    "\n",
    "ccdschools2014 = pd.read_csv('/Users/lacm/Documents/Stanford/*Capstone Research/Data/SY 2013-14/CCD Schools 2013-2014.csv')"
   ]
  },
  {
   "cell_type": "code",
   "execution_count": 1075,
   "id": "693a45df",
   "metadata": {},
   "outputs": [],
   "source": [
    "# clean the import errors of ccdschools10\n",
    "\n",
    "# convert variables to correct type\n",
    "ccdschools2014['leaid'] = ccdschools2014['leaid'].astype('str')\n",
    "ccdschools2014['geoleaid'] = ccdschools2014['geoleaid'].astype('str')\n",
    "\n",
    "\n",
    "\n",
    "# strip string columns\n",
    "for column in ccdschools2014.columns:\n",
    "    if ccdschools2014.dtypes[column] == 'object':\n",
    "        ccdschools2014[column] = ccdschools2014[column].str.strip()\n",
    "\n",
    "# add leading 0 to geolea, leaid, and school ids where it was chopped off from incorrect variable type\n",
    "ccdschools2014.loc[ccdschools2014['geoleaid'].str.len() == 6, 'geoleaid'] = '0' + ccdschools2014['geoleaid']\n",
    "ccdschools2014.loc[ccdschools2014['leaid'].str.len() == 6, 'leaid'] = '0' + ccdschools2014['leaid']\n",
    "\n",
    "# drop unncessary columns\n",
    "ccdschools2014 = ccdschools2014[['geoleaid', 'leaid', 'state_name', 'county_name']]\n",
    "\n",
    "\n",
    "# keep only unique leaids\n",
    "ccdschools2014 = ccdschools2014.drop_duplicates(subset=['leaid'])"
   ]
  },
  {
   "cell_type": "code",
   "execution_count": 1076,
   "id": "8adda425",
   "metadata": {},
   "outputs": [],
   "source": [
    "# merge ccd school files onto the union file\n",
    "union2014 = union2014.merge(ccdschools2014, how='left', on='leaid')"
   ]
  },
  {
   "cell_type": "code",
   "execution_count": 1077,
   "id": "a0e3f4ec",
   "metadata": {},
   "outputs": [],
   "source": [
    "# if no geoleaid value, geoleaid = leaid\n",
    "union2014.geoleaid[pd.isna(union2014.geoleaid)] = union2014['leaid']"
   ]
  },
  {
   "cell_type": "code",
   "execution_count": 1078,
   "id": "cff4c450",
   "metadata": {},
   "outputs": [],
   "source": [
    "union2014 = union2014.rename(columns={'count_white_weighted' : 'count_white',\n",
    "                                                          'count_black_weighted' : 'count_black',\n",
    "                                                          'count_native_weighted' : 'count_native',\n",
    "                                                          'count_asian_weighted' : 'count_asian',\n",
    "                                                          'count_hawaiian_weighted' : 'count_hawaiianpacific',\n",
    "                                                          'count_other_weighted' : 'count_other', \n",
    "                                                          'count_multiracial_weighted' : 'count_multiracial', \n",
    "                                                          'count_hispanic_weighted' : 'count_hispanic_latino',\n",
    "                                                          'count_total_weighted' : 'census_count_total'})"
   ]
  },
  {
   "cell_type": "code",
   "execution_count": 1079,
   "id": "26d17b4f",
   "metadata": {},
   "outputs": [
    {
     "name": "stderr",
     "output_type": "stream",
     "text": [
      "/Users/lacm/opt/anaconda3/lib/python3.9/site-packages/pandas/core/arraylike.py:397: RuntimeWarning: divide by zero encountered in log\n",
      "  result = getattr(ufunc, method)(*inputs, **kwargs)\n",
      "/Users/lacm/opt/anaconda3/lib/python3.9/site-packages/pandas/core/arraylike.py:397: RuntimeWarning: divide by zero encountered in log\n",
      "  result = getattr(ufunc, method)(*inputs, **kwargs)\n",
      "/Users/lacm/opt/anaconda3/lib/python3.9/site-packages/pandas/core/arraylike.py:397: RuntimeWarning: divide by zero encountered in log\n",
      "  result = getattr(ufunc, method)(*inputs, **kwargs)\n",
      "/Users/lacm/opt/anaconda3/lib/python3.9/site-packages/pandas/core/arraylike.py:397: RuntimeWarning: divide by zero encountered in log\n",
      "  result = getattr(ufunc, method)(*inputs, **kwargs)\n",
      "/Users/lacm/opt/anaconda3/lib/python3.9/site-packages/pandas/core/arraylike.py:397: RuntimeWarning: divide by zero encountered in log\n",
      "  result = getattr(ufunc, method)(*inputs, **kwargs)\n",
      "/Users/lacm/opt/anaconda3/lib/python3.9/site-packages/pandas/core/arraylike.py:397: RuntimeWarning: divide by zero encountered in log\n",
      "  result = getattr(ufunc, method)(*inputs, **kwargs)\n",
      "/Users/lacm/opt/anaconda3/lib/python3.9/site-packages/pandas/core/arraylike.py:397: RuntimeWarning: divide by zero encountered in log\n",
      "  result = getattr(ufunc, method)(*inputs, **kwargs)\n",
      "/Users/lacm/opt/anaconda3/lib/python3.9/site-packages/pandas/core/arraylike.py:397: RuntimeWarning: divide by zero encountered in log\n",
      "  result = getattr(ufunc, method)(*inputs, **kwargs)\n"
     ]
    }
   ],
   "source": [
    "# calculate SABs' entropies\n",
    "union2014 = entropy(union2014)"
   ]
  },
  {
   "cell_type": "code",
   "execution_count": 1080,
   "id": "3cb7a6c8",
   "metadata": {},
   "outputs": [],
   "source": [
    "# rename entropy column to sab_entropy to distinguish it from the district entropy values\n",
    "union2014 = union2014.rename(columns={'entropy' : 'sab_entropy'})"
   ]
  },
  {
   "cell_type": "code",
   "execution_count": 1081,
   "id": "8d7b97f2",
   "metadata": {},
   "outputs": [],
   "source": [
    "# calculate district entropy\n",
    "\n",
    "# collapse sabs df by geoleaid to get racial counts for total district\n",
    "district_entropy_2014 = union2014.groupby('geoleaid')[['count_white', 'count_black', 'count_native', 'count_asian', \n",
    "                                              'count_hawaiianpacific', 'count_other', 'count_multiracial',\n",
    "                                              'count_hispanic_latino', 'census_count_total', 'naive_count_total']].sum()"
   ]
  },
  {
   "cell_type": "code",
   "execution_count": 1082,
   "id": "d16e2e3e",
   "metadata": {},
   "outputs": [],
   "source": [
    "# calculate average number of third graders in each AZ per district and add it to the district entropy dataframe\n",
    "avg_az_enrollment14 = union2014.groupby('geoleaid')['census_count_total'].mean()\n",
    "district_entropy_2014 = district_entropy_2014.merge(avg_az_enrollment14, how='left', on='geoleaid')\n",
    "district_entropy_2014 = district_entropy_2014.rename(columns={'census_count_total_x' : 'census_count_total',\n",
    "                                                              'census_count_total_y' : 'district_census_avg_total'})"
   ]
  },
  {
   "cell_type": "code",
   "execution_count": 1083,
   "id": "0e17b8bc",
   "metadata": {},
   "outputs": [
    {
     "name": "stderr",
     "output_type": "stream",
     "text": [
      "/Users/lacm/opt/anaconda3/lib/python3.9/site-packages/pandas/core/arraylike.py:397: RuntimeWarning: divide by zero encountered in log\n",
      "  result = getattr(ufunc, method)(*inputs, **kwargs)\n",
      "/Users/lacm/opt/anaconda3/lib/python3.9/site-packages/pandas/core/arraylike.py:397: RuntimeWarning: divide by zero encountered in log\n",
      "  result = getattr(ufunc, method)(*inputs, **kwargs)\n",
      "/Users/lacm/opt/anaconda3/lib/python3.9/site-packages/pandas/core/arraylike.py:397: RuntimeWarning: divide by zero encountered in log\n",
      "  result = getattr(ufunc, method)(*inputs, **kwargs)\n",
      "/Users/lacm/opt/anaconda3/lib/python3.9/site-packages/pandas/core/arraylike.py:397: RuntimeWarning: divide by zero encountered in log\n",
      "  result = getattr(ufunc, method)(*inputs, **kwargs)\n",
      "/Users/lacm/opt/anaconda3/lib/python3.9/site-packages/pandas/core/arraylike.py:397: RuntimeWarning: divide by zero encountered in log\n",
      "  result = getattr(ufunc, method)(*inputs, **kwargs)\n",
      "/Users/lacm/opt/anaconda3/lib/python3.9/site-packages/pandas/core/arraylike.py:397: RuntimeWarning: divide by zero encountered in log\n",
      "  result = getattr(ufunc, method)(*inputs, **kwargs)\n",
      "/Users/lacm/opt/anaconda3/lib/python3.9/site-packages/pandas/core/arraylike.py:397: RuntimeWarning: divide by zero encountered in log\n",
      "  result = getattr(ufunc, method)(*inputs, **kwargs)\n",
      "/Users/lacm/opt/anaconda3/lib/python3.9/site-packages/pandas/core/arraylike.py:397: RuntimeWarning: divide by zero encountered in log\n",
      "  result = getattr(ufunc, method)(*inputs, **kwargs)\n"
     ]
    }
   ],
   "source": [
    "# calculate district district entropy\n",
    "district_entropy_2014 = entropy(district_entropy_2014)"
   ]
  },
  {
   "cell_type": "code",
   "execution_count": 1084,
   "id": "d0b4b1db",
   "metadata": {},
   "outputs": [],
   "source": [
    "# rename column names to distinguish them from the sab versions\n",
    "district_entropy_2014 = district_entropy_2014.rename(columns={'entropy' : 'district_entropy',\n",
    "                                                   'census_count_total' : 'district_census_count_total',\n",
    "                                                   'naive_count_total' : 'district_naive_count_total'})"
   ]
  },
  {
   "cell_type": "code",
   "execution_count": 1085,
   "id": "72d0c3b5",
   "metadata": {},
   "outputs": [],
   "source": [
    "# make geoleaid a column instead of index\n",
    "district_entropy_2014.reset_index(inplace=True)"
   ]
  },
  {
   "cell_type": "code",
   "execution_count": 1086,
   "id": "f50d43f4",
   "metadata": {},
   "outputs": [],
   "source": [
    "# keep only relevant columns\n",
    "district_entropy_2014 = district_entropy_2014[['geoleaid', 'district_entropy', 'district_census_count_total', 'district_naive_count_total', 'district_census_avg_total']]"
   ]
  },
  {
   "cell_type": "code",
   "execution_count": 1087,
   "id": "befc56ee",
   "metadata": {},
   "outputs": [],
   "source": [
    "# merge district entropy levels onto SAB level entropies so that I can calculate 1 - (sab entropy/district entropy)\n",
    "union2014 = pd.merge(union2014, district_entropy_2014, how='left', on='geoleaid')"
   ]
  },
  {
   "cell_type": "code",
   "execution_count": 1088,
   "id": "2efac279",
   "metadata": {},
   "outputs": [],
   "source": [
    "# calculate information theory index up to the sab level\n",
    "union2014['H_i'] = 1 - (union2014['sab_entropy'] / union2014['district_entropy']) \n",
    "union2014['segregation_index14'] = (union2014['census_count_total'] / union2014['district_census_count_total']) * union2014['H_i']"
   ]
  },
  {
   "cell_type": "code",
   "execution_count": 1089,
   "id": "7e96aef5",
   "metadata": {},
   "outputs": [],
   "source": [
    "# finalize calculation of information theory index by summing up sab values from above at the district level\n",
    "union2014['n_attendancezones14'] = 1\n",
    "\n",
    "\n",
    "district_information_index14 = union2014.groupby('geoleaid')[['segregation_index14', 'count_black', 'count_native',\n",
    "                                                              'count_asian', 'count_hawaiianpacific', 'count_other',\n",
    "                                                              'count_multiracial', 'count_white', \n",
    "                                                              'count_hispanic_latino', 'n_attendancezones14']].sum()\n",
    "\n",
    "district_information_index14.reset_index(inplace=True)"
   ]
  },
  {
   "cell_type": "code",
   "execution_count": 1102,
   "id": "fac61439",
   "metadata": {},
   "outputs": [],
   "source": [
    "district_information_index14.loc[district_information_index14['segregation_index14'] < 0, 'segregation_index14'] = 0"
   ]
  },
  {
   "cell_type": "code",
   "execution_count": 1090,
   "id": "0534f8d5",
   "metadata": {},
   "outputs": [],
   "source": [
    "# merge district-level features back onto dataset\n",
    "district_information_index14 = pd.merge(district_information_index14, district_entropy_2014, how='left', on='geoleaid')"
   ]
  },
  {
   "cell_type": "code",
   "execution_count": 1091,
   "id": "2e28aedf",
   "metadata": {},
   "outputs": [],
   "source": [
    "district_information_index14['pblack14'] = district_information_index14['count_black'] / district_information_index14['district_naive_count_total']\n",
    "district_information_index14['pnative14'] = district_information_index14['count_native'] / district_information_index14['district_naive_count_total']\n",
    "district_information_index14['pasian14'] = district_information_index14['count_asian'] / district_information_index14['district_naive_count_total']\n",
    "district_information_index14['phawaiianpacific14'] = district_information_index14['count_hawaiianpacific'] / district_information_index14['district_naive_count_total']\n",
    "district_information_index14['pother14'] = district_information_index14['count_other'] / district_information_index14['district_naive_count_total']\n",
    "district_information_index14['pmultiracial14'] = district_information_index14['count_multiracial'] / district_information_index14['district_naive_count_total']\n",
    "district_information_index14['pwhite14'] = district_information_index14['count_white'] / district_information_index14['district_naive_count_total']\n",
    "district_information_index14['phispaniclatino14'] = district_information_index14['count_hispanic_latino'] / district_information_index14['district_naive_count_total']"
   ]
  },
  {
   "cell_type": "code",
   "execution_count": 1092,
   "id": "13671f90",
   "metadata": {},
   "outputs": [],
   "source": [
    "district_information_index14 = district_information_index14[['geoleaid', 'segregation_index14', 'pblack14', \n",
    "                                                             'pnative14', 'pasian14', 'phawaiianpacific14', \n",
    "                                                             'pother14', 'pmultiracial14', 'pwhite14', \n",
    "                                                             'phispaniclatino14', 'n_attendancezones14', \n",
    "                                                             'district_entropy', 'district_census_count_total', \n",
    "                                                             'district_census_avg_total']]"
   ]
  },
  {
   "cell_type": "code",
   "execution_count": 1093,
   "id": "09aadb18",
   "metadata": {},
   "outputs": [],
   "source": [
    "# give year specific variable names\n",
    "district_information_index14 = district_information_index14.rename(columns={'district_entropy' : 'district_entropy14',\n",
    "                                                                            'district_census_count_total' : 'district_census_count_total14',\n",
    "                                                                            'district_census_avg_total' : 'district_census_avg_total14'})"
   ]
  },
  {
   "cell_type": "markdown",
   "id": "3319c9b5",
   "metadata": {},
   "source": [
    "<b>Bias Corrected Segregation Estimates (years with ACS only)</b>"
   ]
  },
  {
   "cell_type": "markdown",
   "id": "78eab5b0",
   "metadata": {},
   "source": [
    "bias-corrected information theory index (segregation) estimates = H - B/2E\n",
    "\n",
    "where:\n",
    "<br>\n",
    "H = biased estimate of information theory index \n",
    "<br>\n",
    "B = (1 - r) / n_bar = (1 - sampling rate of AZs for ACS) / (average number of 3rd graders in district AZs * sampling rate of AZs for ACS)\n",
    "<br>\n",
    "according to sean & anne's paper (https://dup.silverchair-cdn.com/dup/Content_public/Journal/demography/55/6/10.1007_s13524-018-0721-4/3/2129reardon.pdf?Expires=2147483647&Signature=Q9LYYNqSxS3cW5lqyu7yWOyXbLKuyRj~DiYKJXO5fnvTMYiNNn15iR6eVHPy4HGAjM4z2YofwJlD5Aly1V~r2ILK4dnvGTREh7M7NI4UTXg7m5v1mWVOSXn3c9ZoFa-hIW3ii-CMla8HIYvJdqoM9~2DoDLM0Ld2CxXSCIyIWVW5v5RbYI6V7hIPJ7Fe14KJ2jqJCqYyTLCtlINHK~GDAynLLbUsDrdHDe03x6HAJzOj~rc78Pz4U7kc0rKuD~gHxs2YqrCyBmyIdCMl9GhbZqbtEkzEDY7QSSZgBCctvh8TtwWAhpFgeriVmqRSvPxFSp-yablTjaLH50mST83LMA__&Key-Pair-Id=APKAIE5G5CRDK6RD3PGA) sampling rate is approximately 8%"
   ]
  },
  {
   "cell_type": "code",
   "execution_count": 656,
   "id": "4c703fd9",
   "metadata": {},
   "outputs": [],
   "source": [
    "# calculate debiased segregation scores according to above specifications\n",
    "# district_information_index14['H*'] = district_information_index14['segregation_index14'] - ((0.92 / (district_information_index14['district_census_avg_total14'] * 0.08)) / (2 * district_information_index14['district_entropy14']))"
   ]
  },
  {
   "cell_type": "code",
   "execution_count": 664,
   "id": "68fb8a66",
   "metadata": {},
   "outputs": [],
   "source": [
    "# any districts who already had segregation scores of 0 or whose debiased scores are below zero --> new debiased score becomes 0\n",
    "# district_information_index14.loc[(district_information_index14['segregation_index14'] == 0)  | (district_information_index14['H*'] < 0), 'H*'] = 0"
   ]
  },
  {
   "cell_type": "code",
   "execution_count": 666,
   "id": "f0ceda10",
   "metadata": {},
   "outputs": [],
   "source": [
    "# drop biased segregation score column and rename new debiased segregation score column\n",
    "# district_information_index14 = district_information_index14.drop('segregation_index14', axis=1)\n",
    "# district_information_index14 = district_information_index14.rename(columns={'H*' : 'segregation_index14'})"
   ]
  },
  {
   "cell_type": "code",
   "execution_count": 1104,
   "id": "fa10b96c",
   "metadata": {},
   "outputs": [],
   "source": [
    "district_information_index14.to_csv('/Users/lacm/Documents/Stanford/*Capstone Research/Data/SY 2013-14/Finalized Files for Paper/2013-14 District Segregation.csv')"
   ]
  },
  {
   "cell_type": "markdown",
   "id": "eed2adf1",
   "metadata": {},
   "source": [
    "<b>SCHOOL YEAR 2015-2016</b>"
   ]
  },
  {
   "cell_type": "markdown",
   "id": "b7d76809",
   "metadata": {},
   "source": [
    "<b>Fix Census Block Geometries</b>"
   ]
  },
  {
   "cell_type": "code",
   "execution_count": null,
   "id": "da707d7d",
   "metadata": {},
   "outputs": [],
   "source": [
    "# CENSUS BLOCK GROUPS"
   ]
  },
  {
   "cell_type": "code",
   "execution_count": 65,
   "id": "255126b9",
   "metadata": {},
   "outputs": [],
   "source": [
    "# upload census with demographics\n",
    "census2016_shp = gpd.read_file('/Users/lacm/Documents/Stanford/*Capstone Research/Data/SY 2015-16/Census Data/Clean/2015-16 Census Blocks with Demographics.shp')"
   ]
  },
  {
   "cell_type": "code",
   "execution_count": 66,
   "id": "7d2a4bf1",
   "metadata": {},
   "outputs": [],
   "source": [
    "# convert column headers to lowercase\n",
    "census2016_shp = census2016_shp.rename(str.lower, axis='columns')\n",
    "\n",
    "\n",
    "census2016_shp = census2016_shp.rename(columns={'gisjoin_ce' : 'gisjoin_census',\n",
    "                                               'count_blac' : 'count_black',\n",
    "                                               'count_nati' : 'count_native',\n",
    "                                               'count_asia' : 'count_asian',\n",
    "                                               'count_hawa': 'count_hawaiianpacific',\n",
    "                                               'count_othe': 'count_other',\n",
    "                                               'count_mult': 'count_multiracial',\n",
    "                                               'count_whit' : 'count_white',\n",
    "                                               'count_hisp': 'count_hispanic_latino',\n",
    "                                               'census_cou' : 'census_count_total'})\n",
    "# keep only relevant fields\n",
    "census2016_shp = census2016_shp[['gisjoin_census', 'count_white', 'count_black', 'count_native', 'count_asian', \n",
    "                                 'count_hawaiianpacific', 'count_other', 'count_multiracial', 'count_hispanic_latino',\n",
    "                                 'census_count_total', 'geometry']]\n"
   ]
  },
  {
   "cell_type": "code",
   "execution_count": 67,
   "id": "88ac8964",
   "metadata": {},
   "outputs": [],
   "source": [
    "# fix invalid geometries\n",
    "census2016_shp.geometry = census2016_shp.apply(lambda row: make_valid(row.geometry) if not row.geometry.is_valid else row.geometry, axis=1)"
   ]
  },
  {
   "cell_type": "code",
   "execution_count": 68,
   "id": "a31ea7f9",
   "metadata": {},
   "outputs": [],
   "source": [
    "census2016_shp['census_area'] = census2016_shp.area"
   ]
  },
  {
   "cell_type": "code",
   "execution_count": null,
   "id": "af85fc8d",
   "metadata": {},
   "outputs": [],
   "source": [
    "# census2016_shp.to_file(\"/Users/lacm/Documents/Stanford/*Capstone Research/Data/SY 2015-16/Census Data/Clean/2015-16 Census Blocks with Demographics.shp\",\n",
    "#                        driver='ESRI Shapefile')"
   ]
  },
  {
   "cell_type": "markdown",
   "id": "c66c4cee",
   "metadata": {},
   "source": [
    "_______"
   ]
  },
  {
   "cell_type": "code",
   "execution_count": null,
   "id": "ce85bbf7",
   "metadata": {},
   "outputs": [],
   "source": [
    "# SABs"
   ]
  },
  {
   "cell_type": "code",
   "execution_count": 69,
   "id": "1ca6a857",
   "metadata": {},
   "outputs": [],
   "source": [
    "sabs2016_shp = gpd.read_file('/Users/lacm/Documents/Stanford/*Capstone Research/Data/SY 2015-16/SABS/Clean/3rd Grade Only SABS 2015-2016.shp')"
   ]
  },
  {
   "cell_type": "code",
   "execution_count": 70,
   "id": "e446495c",
   "metadata": {},
   "outputs": [],
   "source": [
    "# convert column headers to lowercase\n",
    "sabs2016_shp = sabs2016_shp.rename(str.lower, axis='columns')"
   ]
  },
  {
   "cell_type": "code",
   "execution_count": 71,
   "id": "f3b7b219",
   "metadata": {},
   "outputs": [],
   "source": [
    "sabs2016_shp.geometry = sabs2016_shp.apply(lambda row: make_valid(row.geometry) if not row.geometry.is_valid else row.geometry, axis=1)"
   ]
  },
  {
   "cell_type": "code",
   "execution_count": 72,
   "id": "9dd5a479",
   "metadata": {},
   "outputs": [],
   "source": [
    "# drop unncessary columns\n",
    "sabs2016_shp = sabs2016_shp[['ncessch', 'schnam', 'leaid', 'geometry']]"
   ]
  },
  {
   "cell_type": "code",
   "execution_count": 98,
   "id": "bc8308d7",
   "metadata": {},
   "outputs": [],
   "source": [
    "# sabs2016_shp.to_file(\"/Users/lacm/Documents/Stanford/*Capstone Research/Data/SY 2015-16/SABS/Clean/3rd Grade Only SABS 2015-2016.shp\",\n",
    "#                        driver='ESRI Shapefile')"
   ]
  },
  {
   "cell_type": "markdown",
   "id": "750ae6c2",
   "metadata": {},
   "source": [
    "______"
   ]
  },
  {
   "cell_type": "code",
   "execution_count": null,
   "id": "0d6e373a",
   "metadata": {},
   "outputs": [],
   "source": [
    "# PERFORM UNION BETWEEN CENSUS AND SABS FILES"
   ]
  },
  {
   "cell_type": "code",
   "execution_count": 1105,
   "id": "1ffeb729",
   "metadata": {},
   "outputs": [],
   "source": [
    "union2016 = gpd.overlay(sabs2016_shp, census2016_shp, how='intersection', keep_geom_type=False)"
   ]
  },
  {
   "cell_type": "code",
   "execution_count": 1106,
   "id": "ba3f67ad",
   "metadata": {},
   "outputs": [],
   "source": [
    "# calculate area of union geographies\n",
    "union2016['union_area'] = union2016.area"
   ]
  },
  {
   "cell_type": "code",
   "execution_count": 1107,
   "id": "8df4474b",
   "metadata": {},
   "outputs": [],
   "source": [
    "# calculate weight of union area in SAB\n",
    "union2016['weight'] = union2016['union_area']/union2016['census_area']"
   ]
  },
  {
   "cell_type": "code",
   "execution_count": 1108,
   "id": "95a4489e",
   "metadata": {},
   "outputs": [],
   "source": [
    "# convert census counts to float variables\n",
    "union2016['count_black'] = union2016['count_black'].astype('float')\n",
    "union2016['count_native'] = union2016['count_native'].astype('float')\n",
    "union2016['count_asian'] = union2016['count_asian'].astype('float')\n",
    "union2016['count_hawaiianpacific'] = union2016['count_hawaiianpacific'].astype('float')\n",
    "union2016['count_other'] = union2016['count_other'].astype('float')\n",
    "union2016['count_multiracial'] = union2016['count_multiracial'].astype('float')\n",
    "union2016['count_white'] = union2016['count_white'].astype('float')\n",
    "union2016['count_hispanic_latino'] = union2016['count_hispanic_latino'].astype('float')\n",
    "union2016['census_count_total'] = union2016['census_count_total'].astype('float')"
   ]
  },
  {
   "cell_type": "code",
   "execution_count": 1109,
   "id": "bc645e46",
   "metadata": {},
   "outputs": [],
   "source": [
    "# calculated weighted populations in each union geography\n",
    "\n",
    "union2016['count_black_weighted'] = union2016['count_black'] * union2016['weight']\n",
    "union2016['count_native_weighted'] = union2016['count_native'] * union2016['weight']\n",
    "union2016['count_asian_weighted'] = union2016['count_asian'] * union2016['weight']\n",
    "union2016['count_hawaiian_weighted'] = union2016['count_hawaiianpacific'] * union2016['weight']\n",
    "union2016['count_other_weighted'] = union2016['count_other'] * union2016['weight']\n",
    "union2016['count_multiracial_weighted'] = union2016['count_multiracial'] * union2016['weight']\n",
    "union2016['count_white_weighted'] = union2016['count_white'] * union2016['weight']\n",
    "union2016['count_hispanic_weighted'] = union2016['count_hispanic_latino'] * union2016['weight']\n",
    "union2016['count_total_weighted'] = union2016['census_count_total'] * union2016['weight']"
   ]
  },
  {
   "cell_type": "code",
   "execution_count": 1110,
   "id": "e6d57533",
   "metadata": {},
   "outputs": [],
   "source": [
    "# aggregate weighted population counts for each attendance area \n",
    "union2016 = union2016.groupby(['ncessch', 'schnam', 'leaid'])[['count_black_weighted', 'count_native_weighted', 'count_asian_weighted', \n",
    "                                                            'count_hawaiian_weighted', 'count_other_weighted', \n",
    "                                                            'count_multiracial_weighted', 'count_white_weighted',\n",
    "                                                            'count_hispanic_weighted', 'count_total_weighted']].sum()\n",
    "\n",
    "union2016.reset_index(inplace=True)"
   ]
  },
  {
   "cell_type": "markdown",
   "id": "8f021b5b",
   "metadata": {},
   "source": [
    "<b>Calculate Segregation Index</b>"
   ]
  },
  {
   "cell_type": "code",
   "execution_count": 1111,
   "id": "5f13fb8a",
   "metadata": {},
   "outputs": [],
   "source": [
    "# import ccd schools file to get geoleaids\n",
    "\n",
    "ccdschools2016 = pd.read_csv('/Users/lacm/Documents/Stanford/*Capstone Research/Data/SY 2015-16/CCD Schools 2015-2016.csv')"
   ]
  },
  {
   "cell_type": "code",
   "execution_count": 1112,
   "id": "f6b05a23",
   "metadata": {},
   "outputs": [],
   "source": [
    "# clean the import errors of ccdschools10\n",
    "\n",
    "# convert variables to correct type\n",
    "ccdschools2016['leaid'] = ccdschools2016['leaid'].astype('str')\n",
    "ccdschools2016['geoleaid'] = ccdschools2016['geoleaid'].astype('str')\n",
    "\n",
    "\n",
    "\n",
    "# strip string columns\n",
    "for column in ccdschools2016.columns:\n",
    "    if ccdschools2016.dtypes[column] == 'object':\n",
    "        ccdschools2016[column] = ccdschools2016[column].str.strip()\n",
    "\n",
    "# add leading 0 to geolea, leaid, and school ids where it was chopped off from incorrect variable type\n",
    "ccdschools2016.loc[ccdschools2016['geoleaid'].str.len() == 6, 'geoleaid'] = '0' + ccdschools2016['geoleaid']\n",
    "ccdschools2016.loc[ccdschools2016['leaid'].str.len() == 6, 'leaid'] = '0' + ccdschools2016['leaid']\n",
    "\n",
    "# drop unncessary columns\n",
    "ccdschools2016 = ccdschools2016[['geoleaid', 'leaid', 'state_name', 'county_name']]\n",
    "\n",
    "\n",
    "# keep only unique leaids\n",
    "ccdschools2016 = ccdschools2016.drop_duplicates(subset=['leaid'])"
   ]
  },
  {
   "cell_type": "code",
   "execution_count": 1113,
   "id": "665d5a10",
   "metadata": {},
   "outputs": [],
   "source": [
    "# merge ccd school files onto the union file\n",
    "union2016 = union2016.merge(ccdschools2016, how='left', on='leaid')"
   ]
  },
  {
   "cell_type": "code",
   "execution_count": 1114,
   "id": "b75225af",
   "metadata": {},
   "outputs": [],
   "source": [
    "# if no geoleaid value, geoleaid = leaid\n",
    "union2016.geoleaid[pd.isna(union2016.geoleaid)] = union2016['leaid']"
   ]
  },
  {
   "cell_type": "code",
   "execution_count": 1115,
   "id": "23bf0e20",
   "metadata": {},
   "outputs": [],
   "source": [
    "union2016 = union2016.rename(columns={'count_white_weighted' : 'count_white',\n",
    "                                                          'count_black_weighted' : 'count_black',\n",
    "                                                          'count_native_weighted' : 'count_native',\n",
    "                                                          'count_asian_weighted' : 'count_asian',\n",
    "                                                          'count_hawaiian_weighted' : 'count_hawaiianpacific',\n",
    "                                                          'count_other_weighted' : 'count_other', \n",
    "                                                          'count_multiracial_weighted' : 'count_multiracial', \n",
    "                                                          'count_hispanic_weighted' : 'count_hispanic_latino',\n",
    "                                                          'count_total_weighted' : 'census_count_total'})"
   ]
  },
  {
   "cell_type": "code",
   "execution_count": 1116,
   "id": "8e177cc2",
   "metadata": {},
   "outputs": [
    {
     "name": "stderr",
     "output_type": "stream",
     "text": [
      "/Users/lacm/opt/anaconda3/lib/python3.9/site-packages/pandas/core/arraylike.py:397: RuntimeWarning: divide by zero encountered in log\n",
      "  result = getattr(ufunc, method)(*inputs, **kwargs)\n",
      "/Users/lacm/opt/anaconda3/lib/python3.9/site-packages/pandas/core/arraylike.py:397: RuntimeWarning: divide by zero encountered in log\n",
      "  result = getattr(ufunc, method)(*inputs, **kwargs)\n",
      "/Users/lacm/opt/anaconda3/lib/python3.9/site-packages/pandas/core/arraylike.py:397: RuntimeWarning: divide by zero encountered in log\n",
      "  result = getattr(ufunc, method)(*inputs, **kwargs)\n",
      "/Users/lacm/opt/anaconda3/lib/python3.9/site-packages/pandas/core/arraylike.py:397: RuntimeWarning: divide by zero encountered in log\n",
      "  result = getattr(ufunc, method)(*inputs, **kwargs)\n",
      "/Users/lacm/opt/anaconda3/lib/python3.9/site-packages/pandas/core/arraylike.py:397: RuntimeWarning: divide by zero encountered in log\n",
      "  result = getattr(ufunc, method)(*inputs, **kwargs)\n",
      "/Users/lacm/opt/anaconda3/lib/python3.9/site-packages/pandas/core/arraylike.py:397: RuntimeWarning: divide by zero encountered in log\n",
      "  result = getattr(ufunc, method)(*inputs, **kwargs)\n",
      "/Users/lacm/opt/anaconda3/lib/python3.9/site-packages/pandas/core/arraylike.py:397: RuntimeWarning: divide by zero encountered in log\n",
      "  result = getattr(ufunc, method)(*inputs, **kwargs)\n",
      "/Users/lacm/opt/anaconda3/lib/python3.9/site-packages/pandas/core/arraylike.py:397: RuntimeWarning: divide by zero encountered in log\n",
      "  result = getattr(ufunc, method)(*inputs, **kwargs)\n"
     ]
    }
   ],
   "source": [
    "# calculate SABs' entropies\n",
    "union2016 = entropy(union2016)"
   ]
  },
  {
   "cell_type": "code",
   "execution_count": 1117,
   "id": "b1e71a0f",
   "metadata": {},
   "outputs": [],
   "source": [
    "# rename entropy column to sab_entropy to distinguish it from the district entropy values\n",
    "union2016 = union2016.rename(columns={'entropy' : 'sab_entropy'})"
   ]
  },
  {
   "cell_type": "code",
   "execution_count": 1118,
   "id": "1989afbe",
   "metadata": {},
   "outputs": [],
   "source": [
    "# calculate district entropy\n",
    "\n",
    "# collapse sabs df by geoleaid to get racial counts for total district\n",
    "district_entropy_2016 = union2016.groupby('geoleaid')[['count_white', 'count_black', 'count_native', 'count_asian', \n",
    "                                              'count_hawaiianpacific', 'count_other', 'count_multiracial',\n",
    "                                              'count_hispanic_latino', 'census_count_total', 'naive_count_total']].sum()"
   ]
  },
  {
   "cell_type": "code",
   "execution_count": 1119,
   "id": "e9b7c473",
   "metadata": {},
   "outputs": [],
   "source": [
    "# calculate average number of third graders in each AZ per district and add it to the district entropy dataframe\n",
    "avg_az_enrollment16 = union2016.groupby('geoleaid')['census_count_total'].mean()\n",
    "district_entropy_2016 = district_entropy_2016.merge(avg_az_enrollment16, how='left', on='geoleaid')\n",
    "district_entropy_2016 = district_entropy_2016.rename(columns={'census_count_total_x' : 'census_count_total',\n",
    "                                                              'census_count_total_y' : 'district_census_avg_total'})"
   ]
  },
  {
   "cell_type": "code",
   "execution_count": 1120,
   "id": "46afa335",
   "metadata": {},
   "outputs": [
    {
     "name": "stderr",
     "output_type": "stream",
     "text": [
      "/Users/lacm/opt/anaconda3/lib/python3.9/site-packages/pandas/core/arraylike.py:397: RuntimeWarning: divide by zero encountered in log\n",
      "  result = getattr(ufunc, method)(*inputs, **kwargs)\n",
      "/Users/lacm/opt/anaconda3/lib/python3.9/site-packages/pandas/core/arraylike.py:397: RuntimeWarning: divide by zero encountered in log\n",
      "  result = getattr(ufunc, method)(*inputs, **kwargs)\n",
      "/Users/lacm/opt/anaconda3/lib/python3.9/site-packages/pandas/core/arraylike.py:397: RuntimeWarning: divide by zero encountered in log\n",
      "  result = getattr(ufunc, method)(*inputs, **kwargs)\n",
      "/Users/lacm/opt/anaconda3/lib/python3.9/site-packages/pandas/core/arraylike.py:397: RuntimeWarning: divide by zero encountered in log\n",
      "  result = getattr(ufunc, method)(*inputs, **kwargs)\n",
      "/Users/lacm/opt/anaconda3/lib/python3.9/site-packages/pandas/core/arraylike.py:397: RuntimeWarning: divide by zero encountered in log\n",
      "  result = getattr(ufunc, method)(*inputs, **kwargs)\n",
      "/Users/lacm/opt/anaconda3/lib/python3.9/site-packages/pandas/core/arraylike.py:397: RuntimeWarning: divide by zero encountered in log\n",
      "  result = getattr(ufunc, method)(*inputs, **kwargs)\n",
      "/Users/lacm/opt/anaconda3/lib/python3.9/site-packages/pandas/core/arraylike.py:397: RuntimeWarning: divide by zero encountered in log\n",
      "  result = getattr(ufunc, method)(*inputs, **kwargs)\n",
      "/Users/lacm/opt/anaconda3/lib/python3.9/site-packages/pandas/core/arraylike.py:397: RuntimeWarning: divide by zero encountered in log\n",
      "  result = getattr(ufunc, method)(*inputs, **kwargs)\n"
     ]
    }
   ],
   "source": [
    "# calculate district district entropy\n",
    "district_entropy_2016 = entropy(district_entropy_2016)"
   ]
  },
  {
   "cell_type": "code",
   "execution_count": 1121,
   "id": "b92b01d0",
   "metadata": {},
   "outputs": [],
   "source": [
    "# rename column names to distinguish them from the sab versions\n",
    "district_entropy_2016 = district_entropy_2016.rename(columns={'entropy' : 'district_entropy',\n",
    "                                                   'census_count_total' : 'district_census_count_total',\n",
    "                                                   'naive_count_total' : 'district_naive_count_total'})"
   ]
  },
  {
   "cell_type": "code",
   "execution_count": 1122,
   "id": "20c3e693",
   "metadata": {},
   "outputs": [],
   "source": [
    "# make geoleaid a column instead of index\n",
    "district_entropy_2016.reset_index(inplace=True)"
   ]
  },
  {
   "cell_type": "code",
   "execution_count": 1123,
   "id": "c1b5d0e8",
   "metadata": {},
   "outputs": [],
   "source": [
    "# keep only relevant columns\n",
    "district_entropy_2016 = district_entropy_2016[['geoleaid', 'district_entropy', 'district_census_count_total', 'district_naive_count_total', 'district_census_avg_total']]"
   ]
  },
  {
   "cell_type": "code",
   "execution_count": 1124,
   "id": "a52b685d",
   "metadata": {},
   "outputs": [],
   "source": [
    "# merge district entropy levels onto SAB level entropies so that I can calculate 1 - (sab entropy/district entropy)\n",
    "union2016 = pd.merge(union2016, district_entropy_2016, how='left', on='geoleaid')"
   ]
  },
  {
   "cell_type": "code",
   "execution_count": 1125,
   "id": "e4cf1733",
   "metadata": {},
   "outputs": [],
   "source": [
    "# calculate information theory index up to the sab level\n",
    "union2016['H_i'] = 1 - (union2016['sab_entropy'] / union2016['district_entropy']) \n",
    "union2016['test'] = union2016['sab_entropy'] / union2016['district_entropy']\n",
    "union2016['segregation_index16'] = (union2016['census_count_total'] / union2016['district_census_count_total']) * union2016['H_i']"
   ]
  },
  {
   "cell_type": "code",
   "execution_count": 1126,
   "id": "d2531f9d",
   "metadata": {},
   "outputs": [],
   "source": [
    "# finalize calculation of information theory index by summing up sab values from above at the district level\n",
    "\n",
    "union2016['n_attendancezones16'] = 1\n",
    "\n",
    "district_information_index16 = union2016.groupby('geoleaid')[['segregation_index16', 'count_black', 'count_native',\n",
    "                                                              'count_asian', 'count_hawaiianpacific', 'count_other',\n",
    "                                                              'count_multiracial', 'count_white', \n",
    "                                                              'count_hispanic_latino', 'n_attendancezones16']].sum()\n",
    "\n",
    "district_information_index16.reset_index(inplace=True)"
   ]
  },
  {
   "cell_type": "code",
   "execution_count": 1132,
   "id": "9ca9fd28",
   "metadata": {},
   "outputs": [],
   "source": [
    "district_information_index16.loc[district_information_index16['segregation_index16'] < 0, 'segregation_index16'] = 0"
   ]
  },
  {
   "cell_type": "code",
   "execution_count": 1127,
   "id": "0461bcd1",
   "metadata": {},
   "outputs": [],
   "source": [
    "# merge district-level features back onto dataset\n",
    "district_information_index16 = pd.merge(district_information_index16, district_entropy_2016, how='left', on='geoleaid')"
   ]
  },
  {
   "cell_type": "code",
   "execution_count": 1128,
   "id": "c00a2437",
   "metadata": {},
   "outputs": [],
   "source": [
    "district_information_index16['pblack16'] = district_information_index16['count_black'] / district_information_index16['district_naive_count_total']\n",
    "district_information_index16['pnative16'] = district_information_index16['count_native'] / district_information_index16['district_naive_count_total']\n",
    "district_information_index16['pasian16'] = district_information_index16['count_asian'] / district_information_index16['district_naive_count_total']\n",
    "district_information_index16['phawaiianpacific16'] = district_information_index16['count_hawaiianpacific'] / district_information_index16['district_naive_count_total']\n",
    "district_information_index16['pother16'] = district_information_index16['count_other'] / district_information_index16['district_naive_count_total']\n",
    "district_information_index16['pmultiracial16'] = district_information_index16['count_multiracial'] / district_information_index16['district_naive_count_total']\n",
    "district_information_index16['pwhite16'] = district_information_index16['count_white'] / district_information_index16['district_naive_count_total']\n",
    "district_information_index16['phispaniclatino16'] = district_information_index16['count_hispanic_latino'] / district_information_index16['district_naive_count_total']"
   ]
  },
  {
   "cell_type": "code",
   "execution_count": 1129,
   "id": "ef826c83",
   "metadata": {},
   "outputs": [],
   "source": [
    "district_information_index16 = district_information_index16[['geoleaid', 'segregation_index16', 'pblack16', \n",
    "                                                             'pnative16', 'pasian16', 'phawaiianpacific16', \n",
    "                                                             'pother16', 'pmultiracial16', 'pwhite16', \n",
    "                                                             'phispaniclatino16', 'n_attendancezones16', \n",
    "                                                             'district_entropy', 'district_census_count_total', \n",
    "                                                             'district_census_avg_total']]"
   ]
  },
  {
   "cell_type": "code",
   "execution_count": 1130,
   "id": "98ea323d",
   "metadata": {},
   "outputs": [],
   "source": [
    "# give year specific variable names\n",
    "district_information_index16 = district_information_index16.rename(columns={'district_entropy' : 'district_entropy16',\n",
    "                                                                            'district_census_count_total' : 'district_census_count_total16',\n",
    "                                                                            'district_census_avg_total' : 'district_census_avg_total16'})"
   ]
  },
  {
   "cell_type": "markdown",
   "id": "10cc9106",
   "metadata": {},
   "source": [
    "<b>Bias Corrected Segregation Estimates (years with ACS only)</b>"
   ]
  },
  {
   "cell_type": "markdown",
   "id": "12e3415c",
   "metadata": {},
   "source": [
    "bias-corrected information theory index (segregation) estimates = H - B/2E\n",
    "\n",
    "where:\n",
    "<br>\n",
    "H = biased estimate of information theory index \n",
    "<br>\n",
    "B = (1 - r) / n_bar = (1 - sampling rate of AZs for ACS) / (average number of 3rd graders in district AZs * sampling rate of AZs for ACS)\n",
    "<br>\n",
    "according to sean & anne's paper (https://dup.silverchair-cdn.com/dup/Content_public/Journal/demography/55/6/10.1007_s13524-018-0721-4/3/2129reardon.pdf?Expires=2147483647&Signature=Q9LYYNqSxS3cW5lqyu7yWOyXbLKuyRj~DiYKJXO5fnvTMYiNNn15iR6eVHPy4HGAjM4z2YofwJlD5Aly1V~r2ILK4dnvGTREh7M7NI4UTXg7m5v1mWVOSXn3c9ZoFa-hIW3ii-CMla8HIYvJdqoM9~2DoDLM0Ld2CxXSCIyIWVW5v5RbYI6V7hIPJ7Fe14KJ2jqJCqYyTLCtlINHK~GDAynLLbUsDrdHDe03x6HAJzOj~rc78Pz4U7kc0rKuD~gHxs2YqrCyBmyIdCMl9GhbZqbtEkzEDY7QSSZgBCctvh8TtwWAhpFgeriVmqRSvPxFSp-yablTjaLH50mST83LMA__&Key-Pair-Id=APKAIE5G5CRDK6RD3PGA) sampling rate is approximately 8%"
   ]
  },
  {
   "cell_type": "code",
   "execution_count": 684,
   "id": "0ba8fa1c",
   "metadata": {},
   "outputs": [],
   "source": [
    "# calculate debiased segregation scores according to above specifications\n",
    "# district_information_index16['H*'] = district_information_index16['segregation_index16'] - ((0.92 / (district_information_index16['district_census_avg_total16'] * 0.08)) / (2 * district_information_index16['district_entropy16']))"
   ]
  },
  {
   "cell_type": "code",
   "execution_count": 692,
   "id": "ec6e5e70",
   "metadata": {},
   "outputs": [],
   "source": [
    "# any districts who already had segregation scores of 0 or whose debiased scores are below zero --> new debiased score becomes 0\n",
    "# district_information_index16.loc[(district_information_index16['segregation_index16'] == 0)  | (district_information_index16['H*'] < 0), 'H*'] = 0"
   ]
  },
  {
   "cell_type": "code",
   "execution_count": 697,
   "id": "28674d9d",
   "metadata": {},
   "outputs": [],
   "source": [
    "# drop biased segregation score column and rename new debiased segregation score column\n",
    "# district_information_index16 = district_information_index16.drop('segregation_index16', axis=1)\n",
    "# district_information_index16 = district_information_index16.rename(columns={'H*' : 'segregation_index16'})"
   ]
  },
  {
   "cell_type": "code",
   "execution_count": 1134,
   "id": "ad6a33a9",
   "metadata": {},
   "outputs": [],
   "source": [
    "district_information_index16.to_csv('/Users/lacm/Documents/Stanford/*Capstone Research/Data/SY 2015-16/Finalized Files for Paper/2015-16 District Segregation.csv')"
   ]
  },
  {
   "cell_type": "markdown",
   "id": "74bcf7a0",
   "metadata": {},
   "source": [
    "\n",
    "# FULL SEGREGATION INDEX DATASET"
   ]
  },
  {
   "cell_type": "code",
   "execution_count": 2,
   "id": "7694cf5b",
   "metadata": {},
   "outputs": [],
   "source": [
    "# full_segregation_index_covariates = pd.read_csv('/Users/lacm/Documents/Stanford/*Capstone Research/Deliverables/Full Segregation Index with Covariates.csv')"
   ]
  },
  {
   "cell_type": "code",
   "execution_count": 16,
   "id": "c9941707",
   "metadata": {},
   "outputs": [],
   "source": [
    "full_segregation_index_long_covars = pd.read_csv('/Users/lacm/Documents/Stanford/*Capstone Research/Deliverables/Full Segregation Index with Covariates - Long.csv')"
   ]
  },
  {
   "cell_type": "markdown",
   "id": "1641f613",
   "metadata": {},
   "source": [
    "<b>Wide Format</b>"
   ]
  },
  {
   "cell_type": "code",
   "execution_count": 1189,
   "id": "cd278752",
   "metadata": {},
   "outputs": [],
   "source": [
    "full_segregation_index = pd.DataFrame()"
   ]
  },
  {
   "cell_type": "code",
   "execution_count": 1190,
   "id": "09aa490b",
   "metadata": {},
   "outputs": [],
   "source": [
    "full_segregation_index = pd.merge(district_information_index00, district_information_index10, how='outer', on='geoleaid')"
   ]
  },
  {
   "cell_type": "code",
   "execution_count": 1192,
   "id": "2901b9a3",
   "metadata": {},
   "outputs": [],
   "source": [
    "# merge datasets\n",
    "full_segregation_index = pd.merge(full_segregation_index, district_information_index11, how='outer', on='geoleaid')\n"
   ]
  },
  {
   "cell_type": "code",
   "execution_count": 1193,
   "id": "e909d65f",
   "metadata": {},
   "outputs": [],
   "source": [
    "full_segregation_index = pd.merge(full_segregation_index, district_information_index12, how='outer', on='geoleaid')"
   ]
  },
  {
   "cell_type": "code",
   "execution_count": 1194,
   "id": "5b205e7a",
   "metadata": {},
   "outputs": [],
   "source": [
    "full_segregation_index = pd.merge(full_segregation_index, district_information_index14, how='outer', on='geoleaid')"
   ]
  },
  {
   "cell_type": "code",
   "execution_count": 1195,
   "id": "4f1c6d80",
   "metadata": {},
   "outputs": [],
   "source": [
    "full_segregation_index = pd.merge(full_segregation_index, district_information_index16, how='outer', on='geoleaid')"
   ]
  },
  {
   "cell_type": "code",
   "execution_count": 1196,
   "id": "e50461d7",
   "metadata": {},
   "outputs": [
    {
     "data": {
      "text/html": [
       "<div>\n",
       "<style scoped>\n",
       "    .dataframe tbody tr th:only-of-type {\n",
       "        vertical-align: middle;\n",
       "    }\n",
       "\n",
       "    .dataframe tbody tr th {\n",
       "        vertical-align: top;\n",
       "    }\n",
       "\n",
       "    .dataframe thead th {\n",
       "        text-align: right;\n",
       "    }\n",
       "</style>\n",
       "<table border=\"1\" class=\"dataframe\">\n",
       "  <thead>\n",
       "    <tr style=\"text-align: right;\">\n",
       "      <th></th>\n",
       "      <th>segregation_index00</th>\n",
       "      <th>segregation_index10</th>\n",
       "      <th>segregation_index11</th>\n",
       "      <th>segregation_index12</th>\n",
       "      <th>segregation_index14</th>\n",
       "      <th>segregation_index16</th>\n",
       "    </tr>\n",
       "  </thead>\n",
       "  <tbody>\n",
       "    <tr>\n",
       "      <th>count</th>\n",
       "      <td>22.000000</td>\n",
       "      <td>5924.000000</td>\n",
       "      <td>7759.000000</td>\n",
       "      <td>337.000000</td>\n",
       "      <td>10758.000000</td>\n",
       "      <td>11304.000000</td>\n",
       "    </tr>\n",
       "    <tr>\n",
       "      <th>mean</th>\n",
       "      <td>0.199789</td>\n",
       "      <td>0.008369</td>\n",
       "      <td>0.017638</td>\n",
       "      <td>0.042220</td>\n",
       "      <td>0.059681</td>\n",
       "      <td>0.065207</td>\n",
       "    </tr>\n",
       "    <tr>\n",
       "      <th>std</th>\n",
       "      <td>0.109181</td>\n",
       "      <td>0.031748</td>\n",
       "      <td>0.071487</td>\n",
       "      <td>0.091357</td>\n",
       "      <td>0.114565</td>\n",
       "      <td>0.120253</td>\n",
       "    </tr>\n",
       "    <tr>\n",
       "      <th>min</th>\n",
       "      <td>0.077417</td>\n",
       "      <td>0.000000</td>\n",
       "      <td>0.000000</td>\n",
       "      <td>0.000000</td>\n",
       "      <td>0.000000</td>\n",
       "      <td>0.000000</td>\n",
       "    </tr>\n",
       "    <tr>\n",
       "      <th>25%</th>\n",
       "      <td>0.114358</td>\n",
       "      <td>0.000000</td>\n",
       "      <td>0.000000</td>\n",
       "      <td>0.000000</td>\n",
       "      <td>0.000000</td>\n",
       "      <td>0.000000</td>\n",
       "    </tr>\n",
       "    <tr>\n",
       "      <th>50%</th>\n",
       "      <td>0.163232</td>\n",
       "      <td>0.000000</td>\n",
       "      <td>0.000000</td>\n",
       "      <td>0.000000</td>\n",
       "      <td>0.000000</td>\n",
       "      <td>0.000000</td>\n",
       "    </tr>\n",
       "    <tr>\n",
       "      <th>75%</th>\n",
       "      <td>0.249695</td>\n",
       "      <td>0.000000</td>\n",
       "      <td>0.000000</td>\n",
       "      <td>0.000000</td>\n",
       "      <td>0.070043</td>\n",
       "      <td>0.092058</td>\n",
       "    </tr>\n",
       "    <tr>\n",
       "      <th>max</th>\n",
       "      <td>0.418573</td>\n",
       "      <td>0.454597</td>\n",
       "      <td>0.629144</td>\n",
       "      <td>0.572832</td>\n",
       "      <td>0.987784</td>\n",
       "      <td>0.949664</td>\n",
       "    </tr>\n",
       "  </tbody>\n",
       "</table>\n",
       "</div>"
      ],
      "text/plain": [
       "       segregation_index00  segregation_index10  segregation_index11  \\\n",
       "count            22.000000          5924.000000          7759.000000   \n",
       "mean              0.199789             0.008369             0.017638   \n",
       "std               0.109181             0.031748             0.071487   \n",
       "min               0.077417             0.000000             0.000000   \n",
       "25%               0.114358             0.000000             0.000000   \n",
       "50%               0.163232             0.000000             0.000000   \n",
       "75%               0.249695             0.000000             0.000000   \n",
       "max               0.418573             0.454597             0.629144   \n",
       "\n",
       "       segregation_index12  segregation_index14  segregation_index16  \n",
       "count           337.000000         10758.000000         11304.000000  \n",
       "mean              0.042220             0.059681             0.065207  \n",
       "std               0.091357             0.114565             0.120253  \n",
       "min               0.000000             0.000000             0.000000  \n",
       "25%               0.000000             0.000000             0.000000  \n",
       "50%               0.000000             0.000000             0.000000  \n",
       "75%               0.000000             0.070043             0.092058  \n",
       "max               0.572832             0.987784             0.949664  "
      ]
     },
     "execution_count": 1196,
     "metadata": {},
     "output_type": "execute_result"
    }
   ],
   "source": [
    "full_segregation_index[['segregation_index00', 'segregation_index10', 'segregation_index11', 'segregation_index12',\n",
    "                       'segregation_index14', 'segregation_index16']].describe()"
   ]
  },
  {
   "cell_type": "code",
   "execution_count": 1200,
   "id": "692aa383",
   "metadata": {},
   "outputs": [
    {
     "data": {
      "text/plain": [
       "count    547.000000\n",
       "mean       0.250187\n",
       "std        0.119687\n",
       "min        0.000000\n",
       "25%        0.172084\n",
       "50%        0.268929\n",
       "75%        0.326402\n",
       "max        0.629144\n",
       "Name: segregation_index11, dtype: float64"
      ]
     },
     "execution_count": 1200,
     "metadata": {},
     "output_type": "execute_result"
    }
   ],
   "source": [
    "full_segregation_index[full_segregation_index.n_attendancezones11 > 1]['segregation_index11'].describe()"
   ]
  },
  {
   "cell_type": "code",
   "execution_count": 1201,
   "id": "f541d72c",
   "metadata": {},
   "outputs": [],
   "source": [
    "full_segregation_index.to_csv('/Users/lacm/Documents/Stanford/*Capstone Research/Deliverables/Full Segregation Index.csv')"
   ]
  },
  {
   "cell_type": "code",
   "execution_count": 1202,
   "id": "48bbf0f7",
   "metadata": {},
   "outputs": [],
   "source": [
    "# import court order data from 2021\n",
    "courtorders2021 = pd.read_excel('/Users/lacm/Documents/Stanford/*Capstone Research/district_court_order_data_feb2021.xlsx', header=0)\n",
    "\n",
    "# convert variables to correct type\n",
    "courtorders2021['leaid'] = courtorders2021['leaid'].astype('str')\n",
    "\n",
    "\n",
    "# strip string columns\n",
    "for column in courtorders2021.columns:\n",
    "    if courtorders2021.dtypes[column] == 'object':\n",
    "        courtorders2021[column] = courtorders2021[column].str.strip()\n",
    "\n",
    "# add leading 0 to geolea, leaid, and school ids where it was chopped off from incorrect variable type\n",
    "courtorders2021.loc[courtorders2021['leaid'].str.len() == 6, 'leaid'] = '0' + courtorders2021['leaid']\n",
    "\n",
    "courtorders2021 = courtorders2021[['leaid','distname', 'countyname', 'region', 'south', 'status_2020', 'yrdiss_2020', \n",
    "                                   'ffall_2020', 'hew_case', 'consent_decree', 'ncases', 'charter', 'tot90', 'blk90',\n",
    "                                   'pblk90', 'leaname', 'coname']]\n"
   ]
  },
  {
   "cell_type": "code",
   "execution_count": 1203,
   "id": "0295d4b4",
   "metadata": {},
   "outputs": [],
   "source": [
    "full_segregation_index_covariates = full_segregation_index.merge(courtorders2021, how='left', left_on='geoleaid', right_on='leaid')"
   ]
  },
  {
   "cell_type": "code",
   "execution_count": 1204,
   "id": "64772300",
   "metadata": {},
   "outputs": [],
   "source": [
    "full_segregation_index_covariates['court_ordered'] = 1\n",
    "full_segregation_index_covariates.court_ordered[((full_segregation_index_covariates['status_2020'] == 'never under order') | (full_segregation_index_covariates['status_2020'] == 'missing status') | pd.isna(full_segregation_index_covariates['status_2020']))] = 0"
   ]
  },
  {
   "cell_type": "code",
   "execution_count": 1205,
   "id": "d50a916e",
   "metadata": {},
   "outputs": [],
   "source": [
    "# if dismissed by 1999-2000 school year\n",
    "full_segregation_index_covariates['disby2000'] = 'never ordered'\n",
    "full_segregation_index_covariates.disby2000[(full_segregation_index_covariates['court_ordered'] == 1) & (full_segregation_index_covariates['ffall_2020'] <= 1999)] = 'released'\n",
    "full_segregation_index_covariates.disby2000[(full_segregation_index_covariates['court_ordered'] == 1) & (full_segregation_index_covariates['ffall_2020'] > 1999)] = 'under order'\n",
    "\n",
    "# if dismissed by 2009-2010 school year\n",
    "full_segregation_index_covariates['disby2010'] = 'never ordered'\n",
    "full_segregation_index_covariates.disby2010[(full_segregation_index_covariates['court_ordered'] == 1) & (full_segregation_index_covariates['ffall_2020'] <= 2009)] = 'released'\n",
    "full_segregation_index_covariates.disby2010[(full_segregation_index_covariates['court_ordered'] == 1) & (full_segregation_index_covariates['ffall_2020'] > 2009)] = 'under order'\n",
    "\n",
    "# if dismissed by 2010-2011 school year\n",
    "full_segregation_index_covariates['disby2011'] = 'never ordered'\n",
    "full_segregation_index_covariates.disby2011[(full_segregation_index_covariates['court_ordered'] == 1) & (full_segregation_index_covariates['ffall_2020'] <= 2010)] = 'released'\n",
    "full_segregation_index_covariates.disby2011[(full_segregation_index_covariates['court_ordered'] == 1) & (full_segregation_index_covariates['ffall_2020'] > 2010)] = 'under order'\n",
    "\n",
    "# if dismissed by 2012-2012 school year\n",
    "full_segregation_index_covariates['disby2012'] = 'never ordered'\n",
    "full_segregation_index_covariates.disby2012[(full_segregation_index_covariates['court_ordered'] == 1) & (full_segregation_index_covariates['ffall_2020'] <= 2011)] = 'released'\n",
    "full_segregation_index_covariates.disby2012[(full_segregation_index_covariates['court_ordered'] == 1) & (full_segregation_index_covariates['ffall_2020'] > 2011)] = 'under order'\n",
    "\n",
    "# if dismissed by 2013-2014 school year\n",
    "full_segregation_index_covariates['disby2014'] = 'never ordered'\n",
    "full_segregation_index_covariates.disby2014[(full_segregation_index_covariates['court_ordered'] == 1) & (full_segregation_index_covariates['ffall_2020'] <= 2013)] = 'released'\n",
    "full_segregation_index_covariates.disby2014[(full_segregation_index_covariates['court_ordered'] == 1) & (full_segregation_index_covariates['ffall_2020'] > 2013)] = 'under order'\n",
    "\n",
    "# if dismissed by 2015-2016 school year\n",
    "full_segregation_index_covariates['disby2016'] = 'never ordered'\n",
    "full_segregation_index_covariates.disby2016[(full_segregation_index_covariates['court_ordered'] == 1) & (full_segregation_index_covariates['ffall_2020'] <= 2015)] = 'released'\n",
    "full_segregation_index_covariates.disby2016[(full_segregation_index_covariates['court_ordered'] == 1) & (full_segregation_index_covariates['ffall_2020'] > 2015)] = 'under order'"
   ]
  },
  {
   "cell_type": "code",
   "execution_count": 1206,
   "id": "fac5c71a",
   "metadata": {},
   "outputs": [],
   "source": [
    "# calculate net change in segregation at the district level\n",
    "full_segregation_index_covariates['first_year'] = full_segregation_index_covariates['segregation_index00']\n",
    "full_segregation_index_covariates.first_year[(pd.isna(full_segregation_index_covariates['first_year'])) & (pd.notna(full_segregation_index_covariates['segregation_index10']))] = full_segregation_index_covariates['segregation_index10']\n",
    "full_segregation_index_covariates.first_year[(pd.isna(full_segregation_index_covariates['first_year'])) & (pd.notna(full_segregation_index_covariates['segregation_index11']))] = full_segregation_index_covariates['segregation_index11']\n",
    "full_segregation_index_covariates.first_year[(pd.isna(full_segregation_index_covariates['first_year'])) & (pd.notna(full_segregation_index_covariates['segregation_index12']))] = full_segregation_index_covariates['segregation_index12']\n",
    "full_segregation_index_covariates.first_year[(pd.isna(full_segregation_index_covariates['first_year'])) & (pd.notna(full_segregation_index_covariates['segregation_index14']))] = full_segregation_index_covariates['segregation_index14']\n",
    "\n",
    "full_segregation_index_covariates['last_year'] = full_segregation_index_covariates['segregation_index16']\n",
    "full_segregation_index_covariates.last_year[(pd.isna(full_segregation_index_covariates['last_year'])) & (pd.notna(full_segregation_index_covariates['segregation_index14']))] = full_segregation_index_covariates['segregation_index14']\n",
    "full_segregation_index_covariates.last_year[(pd.isna(full_segregation_index_covariates['last_year'])) & (pd.notna(full_segregation_index_covariates['segregation_index12']))] = full_segregation_index_covariates['segregation_index12']\n",
    "full_segregation_index_covariates.last_year[(pd.isna(full_segregation_index_covariates['last_year'])) & (pd.notna(full_segregation_index_covariates['segregation_index11']))] = full_segregation_index_covariates['segregation_index11']\n",
    "full_segregation_index_covariates.last_year[(pd.isna(full_segregation_index_covariates['last_year'])) & (pd.notna(full_segregation_index_covariates['segregation_index10']))] = full_segregation_index_covariates['segregation_index10']\n",
    "\n",
    "full_segregation_index_covariates['net_change_segregation'] = full_segregation_index_covariates['first_year'] - full_segregation_index_covariates['last_year']\n"
   ]
  },
  {
   "cell_type": "code",
   "execution_count": 1207,
   "id": "b6af013e",
   "metadata": {},
   "outputs": [],
   "source": [
    "full_segregation_index_covariates = full_segregation_index_covariates.drop(['first_year', 'last_year'], axis=1)\n"
   ]
  },
  {
   "cell_type": "code",
   "execution_count": 1208,
   "id": "ffb408d6",
   "metadata": {},
   "outputs": [],
   "source": [
    "# upload seda covariates\n",
    "seda = pd.read_csv('/Users/lacm/Documents/Stanford/3. Spring 2022/EDS Seminar/EDS Group Project/school-integration-project/data/(COVARIATES) District - Pooled - Cohort.csv', header=0)\n",
    "\n",
    "# convert variables to correct type\n",
    "seda['sedalea'] = seda['sedalea'].astype('str')\n",
    "\n",
    "\n",
    "# strip string columns\n",
    "for column in seda.columns:\n",
    "    if seda.dtypes[column] == 'object':\n",
    "        seda[column] = seda[column].str.strip()\n",
    "\n",
    "# add leading 0 to geolea, leaid, and school ids where it was chopped off from incorrect variable type\n",
    "seda.loc[seda['sedalea'].str.len() == 6, 'sedalea'] = '0' + seda['sedalea']\n",
    "\n",
    "# give proper casing to district names\n",
    "seda['sedaleaname'] = seda['sedaleaname'].str.title() "
   ]
  },
  {
   "cell_type": "code",
   "execution_count": 1209,
   "id": "404dba36",
   "metadata": {},
   "outputs": [],
   "source": [
    "# merge seda data into segregation dataset\n",
    "\n",
    "full_segregation_index_covariates = full_segregation_index_covariates.merge(seda, how='left', left_on='geoleaid', right_on='sedalea')"
   ]
  },
  {
   "cell_type": "code",
   "execution_count": 1210,
   "id": "f6750364",
   "metadata": {},
   "outputs": [],
   "source": [
    "full_segregation_index_covariates.to_csv('/Users/lacm/Documents/Stanford/*Capstone Research/Deliverables/Full Segregation Index with Covariates.csv')"
   ]
  },
  {
   "cell_type": "markdown",
   "id": "b347ae08",
   "metadata": {},
   "source": [
    "<b>Long Format</b>"
   ]
  },
  {
   "cell_type": "code",
   "execution_count": 1211,
   "id": "50cf60ac",
   "metadata": {},
   "outputs": [],
   "source": [
    "district_information_index00_copy = district_information_index00\n",
    "district_information_index10_copy = district_information_index10\n",
    "district_information_index11_copy = district_information_index11\n",
    "district_information_index12_copy = district_information_index12\n",
    "district_information_index14_copy = district_information_index14\n",
    "district_information_index16_copy = district_information_index16"
   ]
  },
  {
   "cell_type": "code",
   "execution_count": 1212,
   "id": "6c19a819",
   "metadata": {},
   "outputs": [
    {
     "name": "stderr",
     "output_type": "stream",
     "text": [
      "/var/folders/f_/y82bl01510z6_6b9mz3cg6br0000gn/T/ipykernel_21509/415174823.py:1: FutureWarning: The default value of regex will change from True to False in a future version.\n",
      "  district_information_index00_copy.columns = district_information_index00_copy.columns.str.replace(r'\\d+', '')\n"
     ]
    }
   ],
   "source": [
    "district_information_index00_copy.columns = district_information_index00_copy.columns.str.replace(r'\\d+', '')\n",
    "district_information_index00_copy['year'] = 2000"
   ]
  },
  {
   "cell_type": "code",
   "execution_count": 1213,
   "id": "a17a259e",
   "metadata": {},
   "outputs": [
    {
     "name": "stderr",
     "output_type": "stream",
     "text": [
      "/var/folders/f_/y82bl01510z6_6b9mz3cg6br0000gn/T/ipykernel_21509/3005818188.py:1: FutureWarning: The default value of regex will change from True to False in a future version.\n",
      "  district_information_index10_copy.columns = district_information_index10_copy.columns.str.replace(r'\\d+', '')\n"
     ]
    }
   ],
   "source": [
    "district_information_index10_copy.columns = district_information_index10_copy.columns.str.replace(r'\\d+', '')\n",
    "district_information_index10_copy['year'] = 2010"
   ]
  },
  {
   "cell_type": "code",
   "execution_count": 1214,
   "id": "892d8748",
   "metadata": {},
   "outputs": [
    {
     "name": "stderr",
     "output_type": "stream",
     "text": [
      "/var/folders/f_/y82bl01510z6_6b9mz3cg6br0000gn/T/ipykernel_21509/4050045241.py:1: FutureWarning: The default value of regex will change from True to False in a future version.\n",
      "  district_information_index11_copy.columns = district_information_index11_copy.columns.str.replace(r'\\d+', '')\n"
     ]
    }
   ],
   "source": [
    "district_information_index11_copy.columns = district_information_index11_copy.columns.str.replace(r'\\d+', '')\n",
    "district_information_index11_copy['year'] = 2011"
   ]
  },
  {
   "cell_type": "code",
   "execution_count": 1215,
   "id": "1cac0a03",
   "metadata": {},
   "outputs": [
    {
     "name": "stderr",
     "output_type": "stream",
     "text": [
      "/var/folders/f_/y82bl01510z6_6b9mz3cg6br0000gn/T/ipykernel_21509/172349762.py:1: FutureWarning: The default value of regex will change from True to False in a future version.\n",
      "  district_information_index12_copy.columns = district_information_index12_copy.columns.str.replace(r'\\d+', '')\n"
     ]
    }
   ],
   "source": [
    "district_information_index12_copy.columns = district_information_index12_copy.columns.str.replace(r'\\d+', '')\n",
    "district_information_index12_copy['year'] = 2012"
   ]
  },
  {
   "cell_type": "code",
   "execution_count": 1216,
   "id": "d19d4184",
   "metadata": {},
   "outputs": [
    {
     "name": "stderr",
     "output_type": "stream",
     "text": [
      "/var/folders/f_/y82bl01510z6_6b9mz3cg6br0000gn/T/ipykernel_21509/2011528966.py:1: FutureWarning: The default value of regex will change from True to False in a future version.\n",
      "  district_information_index14_copy.columns = district_information_index14_copy.columns.str.replace(r'\\d+', '')\n"
     ]
    }
   ],
   "source": [
    "district_information_index14_copy.columns = district_information_index14_copy.columns.str.replace(r'\\d+', '')\n",
    "district_information_index14_copy['year'] = 2014"
   ]
  },
  {
   "cell_type": "code",
   "execution_count": 1217,
   "id": "679c59a4",
   "metadata": {},
   "outputs": [
    {
     "name": "stderr",
     "output_type": "stream",
     "text": [
      "/var/folders/f_/y82bl01510z6_6b9mz3cg6br0000gn/T/ipykernel_21509/785158699.py:1: FutureWarning: The default value of regex will change from True to False in a future version.\n",
      "  district_information_index16_copy.columns = district_information_index16_copy.columns.str.replace(r'\\d+', '')\n"
     ]
    }
   ],
   "source": [
    "district_information_index16_copy.columns = district_information_index16_copy.columns.str.replace(r'\\d+', '')\n",
    "district_information_index16_copy['year'] = 2016"
   ]
  },
  {
   "cell_type": "code",
   "execution_count": 1218,
   "id": "00df746e",
   "metadata": {},
   "outputs": [],
   "source": [
    "full_segregation_index_long = pd.concat([district_information_index00_copy, district_information_index10_copy, \n",
    "                                         district_information_index11_copy, district_information_index12_copy, \n",
    "                                         district_information_index14_copy, district_information_index16_copy])"
   ]
  },
  {
   "cell_type": "code",
   "execution_count": 1220,
   "id": "3a518c8a",
   "metadata": {},
   "outputs": [],
   "source": [
    "full_segregation_index_long = full_segregation_index_long[['geoleaid', 'year', 'n_attendancezones', \n",
    "                                                           'segregation_index', 'pblack', 'pnative', 'pasian', \n",
    "                                                           'phawaiianpacific', 'pother', 'pmultiracial', 'pwhite',\n",
    "                                                           'phispaniclatino', 'district_entropy', \n",
    "                                                           'district_census_count_total', 'district_census_avg_total']]\n",
    "\n"
   ]
  },
  {
   "cell_type": "code",
   "execution_count": 1221,
   "id": "c9d911b9",
   "metadata": {},
   "outputs": [],
   "source": [
    "full_segregation_index_long = full_segregation_index_long.sort_values(by=['geoleaid', 'year'])\n",
    "\n"
   ]
  },
  {
   "cell_type": "code",
   "execution_count": 1222,
   "id": "0ff0e895",
   "metadata": {},
   "outputs": [],
   "source": [
    "full_segregation_index_long.to_csv('/Users/lacm/Documents/Stanford/*Capstone Research/Deliverables/Full Segregation Index - Long.csv')"
   ]
  },
  {
   "cell_type": "code",
   "execution_count": 1223,
   "id": "83c780a4",
   "metadata": {},
   "outputs": [],
   "source": [
    "# merge court order data\n",
    "full_segregation_index_long_covars = full_segregation_index_long.merge(courtorders2021, how='left', left_on='geoleaid', right_on='leaid')"
   ]
  },
  {
   "cell_type": "code",
   "execution_count": 1224,
   "id": "99b6076a",
   "metadata": {},
   "outputs": [],
   "source": [
    "full_segregation_index_long_covars['court_ordered'] = 1\n",
    "full_segregation_index_long_covars.court_ordered[((full_segregation_index_long_covars['status_2020'] == 'never under order') | (full_segregation_index_long_covars['status_2020'] == 'missing status') | pd.isna(full_segregation_index_long_covars['status_2020']))] = 0"
   ]
  },
  {
   "cell_type": "code",
   "execution_count": 1225,
   "id": "a23e34da",
   "metadata": {},
   "outputs": [],
   "source": [
    "full_segregation_index_long_covars['court_status'] = 'never ordered'\n",
    "\n"
   ]
  },
  {
   "cell_type": "code",
   "execution_count": 1226,
   "id": "90c9300f",
   "metadata": {},
   "outputs": [],
   "source": [
    "full_segregation_index_long_covars.court_status[full_segregation_index_long_covars['year'] - 1 >= full_segregation_index_long_covars['ffall_2020']] = 'dismissed'"
   ]
  },
  {
   "cell_type": "code",
   "execution_count": 1227,
   "id": "f8cd7654",
   "metadata": {},
   "outputs": [],
   "source": [
    "full_segregation_index_long_covars.court_status[(full_segregation_index_long_covars['year'] - 1 < full_segregation_index_long_covars['ffall_2020']) | (full_segregation_index_long_covars['status_2020'] == 'not dismissed')] = 'under order'"
   ]
  },
  {
   "cell_type": "code",
   "execution_count": 1228,
   "id": "74d4bae5",
   "metadata": {},
   "outputs": [],
   "source": [
    "full_segregation_index_long_covars = full_segregation_index_long_covars.merge(seda, how='left', left_on='geoleaid', right_on='sedalea')"
   ]
  },
  {
   "cell_type": "code",
   "execution_count": 1229,
   "id": "84c4aac9",
   "metadata": {},
   "outputs": [],
   "source": [
    "full_segregation_index_long_covars.to_csv('/Users/lacm/Documents/Stanford/*Capstone Research/Deliverables/Full Segregation Index with Covariates - Long.csv')"
   ]
  },
  {
   "cell_type": "markdown",
   "id": "4cc0c7dc",
   "metadata": {},
   "source": [
    "<b>Append Segregation Indices to District Shapefiles</b>"
   ]
  },
  {
   "cell_type": "markdown",
   "id": "0798b87d",
   "metadata": {},
   "source": [
    "<b>1999-2000</b>"
   ]
  },
  {
   "cell_type": "code",
   "execution_count": 926,
   "id": "6977be76",
   "metadata": {},
   "outputs": [],
   "source": [
    "districts2000_shp = gpd.read_file('/Users/lacm/Documents/Stanford/*Capstone Research/Data/SY 1999-2000/School Districts (NHGIS)/US_sd_uni_2000_tl10.shp')"
   ]
  },
  {
   "cell_type": "code",
   "execution_count": 928,
   "id": "05ba4aa4",
   "metadata": {},
   "outputs": [],
   "source": [
    "districts2000_shp = districts2000_shp[['GISJOIN', 'STATEFP00', 'UNSDLEA00', 'UNSDIDFP00', 'NAME00', 'LSAD00',\n",
    "       'LOGRADE00', 'HIGRADE00', 'MTFCC00', 'SDTYP00', 'FUNCSTAT00', 'ALAND00',\n",
    "       'AWATER00', 'INTPTLAT00', 'INTPTLON00', 'Shape_Leng', 'Shape_Area',\n",
    "       'geometry']]"
   ]
  },
  {
   "cell_type": "code",
   "execution_count": 929,
   "id": "da22bab6",
   "metadata": {},
   "outputs": [],
   "source": [
    "# fix for district (detroit) with mismatching leaids with file\n",
    "district_information_index00_copy = district_information_index00\n",
    "district_information_index00_copy.geoleaid[district_information_index00_copy['geoleaid'] == '2601103'] = '2612000'"
   ]
  },
  {
   "cell_type": "code",
   "execution_count": 930,
   "id": "44f9b867",
   "metadata": {},
   "outputs": [],
   "source": [
    "districts2000_shp = districts2000_shp.merge(district_information_index00_copy, how='outer', left_on='UNSDIDFP00', right_on='geoleaid')"
   ]
  },
  {
   "cell_type": "code",
   "execution_count": 931,
   "id": "b1ac08a2",
   "metadata": {},
   "outputs": [],
   "source": [
    "districts2000_shp['bin'] = 1\n",
    "districts2000_shp.bin[(districts2000_shp['segregation_index'] >= 0.2500001) & (districts2000_shp['segregation_index'] <= 0.50)] = 2\n",
    "districts2000_shp.bin[(districts2000_shp['segregation_index'] >= 0.5000001) & (districts2000_shp['segregation_index'] <= 0.75)] = 3\n",
    "districts2000_shp.bin[(districts2000_shp['segregation_index'] >= 0.7500001) & (districts2000_shp['segregation_index'] <= 1)] = 4"
   ]
  },
  {
   "cell_type": "code",
   "execution_count": 932,
   "id": "b79ab92f",
   "metadata": {},
   "outputs": [
    {
     "name": "stderr",
     "output_type": "stream",
     "text": [
      "/var/folders/f_/y82bl01510z6_6b9mz3cg6br0000gn/T/ipykernel_21509/4191416123.py:1: UserWarning: Column names longer than 10 characters will be truncated when saved to ESRI Shapefile.\n",
      "  districts2000_shp.to_file('/Users/lacm/Documents/Stanford/*Capstone Research/Data/SY 1999-2000/School Districts (NHGIS)/US_sd_uni_2000_tl10.shp',\n"
     ]
    }
   ],
   "source": [
    "districts2000_shp.to_file('/Users/lacm/Documents/Stanford/*Capstone Research/Data/SY 1999-2000/School Districts (NHGIS)/US_sd_uni_2000_tl10.shp',\n",
    "                       driver='ESRI Shapefile')"
   ]
  },
  {
   "cell_type": "markdown",
   "id": "237e877c",
   "metadata": {},
   "source": [
    "<b>2009-10</b>"
   ]
  },
  {
   "cell_type": "code",
   "execution_count": 1100,
   "id": "f6f07580",
   "metadata": {},
   "outputs": [],
   "source": [
    "districts2010_shp = gpd.read_file('/Users/lacm/Documents/Stanford/*Capstone Research/Data/SY 2009-10/School Districts (NCES)/schooldistrict_sy0910_tl10.shp')"
   ]
  },
  {
   "cell_type": "code",
   "execution_count": 1099,
   "id": "721ef43d",
   "metadata": {},
   "outputs": [],
   "source": [
    "# five districts don't merge.. not fixing\n",
    "districts2010_shp = districts2010_shp.merge(district_information_index10, how='outer', left_on='GEOID10', right_on='geoleaid')\n"
   ]
  },
  {
   "cell_type": "code",
   "execution_count": 1101,
   "id": "9265cb7c",
   "metadata": {},
   "outputs": [],
   "source": [
    "# filter out rows that don't merge\n",
    "districts2010_shp = districts2010_shp[pd.notna(districts2010_shp['GEOID10'])]"
   ]
  },
  {
   "cell_type": "code",
   "execution_count": 1227,
   "id": "dbb2f239",
   "metadata": {},
   "outputs": [],
   "source": [
    "districts2010_shp['bin'] = 1\n",
    "districts2010_shp.bin[(districts2010_shp['segregatio'] >= 0.2500001) & (districts2010_shp['segregatio'] <= 0.50)] = 2\n",
    "districts2010_shp.bin[(districts2010_shp['segregatio'] >= 0.5000001) & (districts2010_shp['segregatio'] <= 0.75)] = 3\n",
    "districts2010_shp.bin[(districts2010_shp['segregatio'] >= 0.7500001) & (districts2010_shp['segregatio'] <= 1)] = 4"
   ]
  },
  {
   "cell_type": "code",
   "execution_count": 1260,
   "id": "c72fa914",
   "metadata": {},
   "outputs": [],
   "source": [
    "districts2010_shp.to_file('/Users/lacm/Documents/Stanford/*Capstone Research/Data/SY 2009-10/School Districts (NCES)/schooldistrict_sy0910_tl10.shp',\n",
    "                       driver='ESRI Shapefile')"
   ]
  },
  {
   "cell_type": "markdown",
   "id": "74867267",
   "metadata": {},
   "source": [
    "<b>2010-11</b>"
   ]
  },
  {
   "cell_type": "code",
   "execution_count": 1230,
   "id": "1b7007be",
   "metadata": {},
   "outputs": [],
   "source": [
    "districts2011_shp = gpd.read_file('/Users/lacm/Documents/Stanford/*Capstone Research/Data/SY 2010-11/School Districts (NHGIS)/US_sd_uni_2011.shp')"
   ]
  },
  {
   "cell_type": "code",
   "execution_count": 1231,
   "id": "d2fe25d5",
   "metadata": {},
   "outputs": [],
   "source": [
    "districts2011_shp = districts2011_shp[['STATEFP', 'UNSDLEA', 'GEOID', 'NAME', 'LSAD', 'LOGRADE', 'HIGRADE',\n",
    "       'MTFCC', 'SDTYP', 'FUNCSTAT', 'ALAND', 'AWATER', 'INTPTLAT', 'INTPTLON',\n",
    "       'GISJOIN', 'Shape_area', 'Shape_len', 'geometry']]"
   ]
  },
  {
   "cell_type": "code",
   "execution_count": 1232,
   "id": "aa2056ab",
   "metadata": {},
   "outputs": [],
   "source": [
    "# strip string columns\n",
    "for column in districts2011_shp.columns:\n",
    "    if districts2011_shp.dtypes[column] == 'object':\n",
    "        districts2011_shp[column] = districts2011_shp[column].str.strip()"
   ]
  },
  {
   "cell_type": "code",
   "execution_count": 1233,
   "id": "bdc3a584",
   "metadata": {},
   "outputs": [],
   "source": [
    "# ugh 1654 districts don't merge\n",
    "districts2011_shp = districts2011_shp.merge(district_information_index11, how='outer', left_on='GEOID', right_on='geoleaid')"
   ]
  },
  {
   "cell_type": "code",
   "execution_count": 1234,
   "id": "569e7ba1",
   "metadata": {},
   "outputs": [],
   "source": [
    "districts2011_shp['bin'] = 1\n",
    "districts2011_shp.bin[(districts2011_shp['segregation_index'] >= 0.2500001) & (districts2011_shp['segregation_index'] <= 0.50)] = 2\n",
    "districts2011_shp.bin[(districts2011_shp['segregation_index'] >= 0.5000001) & (districts2011_shp['segregation_index'] <= 0.75)] = 3\n",
    "districts2011_shp.bin[(districts2011_shp['segregation_index'] >= 0.7500001) & (districts2011_shp['segregation_index'] <= 1)] = 4"
   ]
  },
  {
   "cell_type": "code",
   "execution_count": 1235,
   "id": "80a98ac0",
   "metadata": {
    "scrolled": true
   },
   "outputs": [
    {
     "name": "stderr",
     "output_type": "stream",
     "text": [
      "/var/folders/f_/y82bl01510z6_6b9mz3cg6br0000gn/T/ipykernel_21509/1242089259.py:1: UserWarning: Column names longer than 10 characters will be truncated when saved to ESRI Shapefile.\n",
      "  districts2011_shp.to_file('/Users/lacm/Documents/Stanford/*Capstone Research/Data/SY 2010-11/School Districts (NHGIS)/US_sd_uni_2011.shp',\n"
     ]
    }
   ],
   "source": [
    "districts2011_shp.to_file('/Users/lacm/Documents/Stanford/*Capstone Research/Data/SY 2010-11/School Districts (NHGIS)/US_sd_uni_2011.shp',\n",
    "                       driver='ESRI Shapefile')"
   ]
  },
  {
   "cell_type": "markdown",
   "id": "36008ed8",
   "metadata": {},
   "source": [
    "<b>2011-12</b>"
   ]
  },
  {
   "cell_type": "code",
   "execution_count": 1236,
   "id": "c4f94cad",
   "metadata": {},
   "outputs": [],
   "source": [
    "districts2012_shp = gpd.read_file('/Users/lacm/Documents/Stanford/*Capstone Research/Data/SY 2011-12/School Districts (NCES)/schooldistrict_sy1112_tl13.shp')"
   ]
  },
  {
   "cell_type": "code",
   "execution_count": 1237,
   "id": "66c4f43c",
   "metadata": {},
   "outputs": [],
   "source": [
    "districts2012_shp = gpd.GeoDataFrame(districts2012_shp[['STATEFP', 'SCSDLEA', 'GEOID', 'NAME', 'LSAD', 'LOGRADE', 'HIGRADE',\n",
    "       'MTFCC', 'SDTYP', 'FUNCSTAT', 'ALAND', 'AWATER', 'INTPTLAT', 'INTPTLON',\n",
    "       'ELSDLEA', 'UNSDLEA', 'geometry']])"
   ]
  },
  {
   "cell_type": "code",
   "execution_count": 1238,
   "id": "7c57c0e6",
   "metadata": {},
   "outputs": [],
   "source": [
    "districts2012_shp = districts2012_shp.merge(district_information_index12, how='outer', left_on='GEOID', right_on='geoleaid')"
   ]
  },
  {
   "cell_type": "code",
   "execution_count": 1239,
   "id": "7cdfa654",
   "metadata": {},
   "outputs": [],
   "source": [
    "districts2012_shp['bin'] = 1\n",
    "districts2012_shp.bin[(districts2012_shp['segregation_index'] >= 0.2500001) & (districts2012_shp['segregation_index'] <= 0.50)] = 2\n",
    "districts2012_shp.bin[(districts2012_shp['segregation_index'] >= 0.5000001) & (districts2012_shp['segregation_index'] <= 0.75)] = 3\n",
    "districts2012_shp.bin[(districts2012_shp['segregation_index'] >= 0.7500001) & (districts2012_shp['segregation_index'] <= 1)] = 4"
   ]
  },
  {
   "cell_type": "code",
   "execution_count": 1240,
   "id": "eb532675",
   "metadata": {},
   "outputs": [
    {
     "name": "stderr",
     "output_type": "stream",
     "text": [
      "/var/folders/f_/y82bl01510z6_6b9mz3cg6br0000gn/T/ipykernel_21509/903162909.py:1: UserWarning: Column names longer than 10 characters will be truncated when saved to ESRI Shapefile.\n",
      "  districts2012_shp.to_file('/Users/lacm/Documents/Stanford/*Capstone Research/Data/SY 2011-12/School Districts (NCES)/schooldistrict_sy1112_tl13.shp',\n"
     ]
    }
   ],
   "source": [
    "districts2012_shp.to_file('/Users/lacm/Documents/Stanford/*Capstone Research/Data/SY 2011-12/School Districts (NCES)/schooldistrict_sy1112_tl13.shp',\n",
    "                       driver='ESRI Shapefile')"
   ]
  },
  {
   "cell_type": "markdown",
   "id": "5bb92e86",
   "metadata": {},
   "source": [
    "<b>2013-14</b>"
   ]
  },
  {
   "cell_type": "code",
   "execution_count": 1241,
   "id": "b742fbe4",
   "metadata": {},
   "outputs": [],
   "source": [
    "districts2014_shp = gpd.read_file('/Users/lacm/Documents/Stanford/*Capstone Research/Data/SY 2013-14/School Districts (NCES)/schooldistrict_sy1314_tl15.shp')"
   ]
  },
  {
   "cell_type": "code",
   "execution_count": 1242,
   "id": "4f315735",
   "metadata": {},
   "outputs": [],
   "source": [
    "districts2014_shp = districts2014_shp[['STATEFP', 'SCSDLEA', 'GEOID', 'NAME', 'LSAD', 'LOGRADE', 'HIGRADE',\n",
    "       'MTFCC', 'SDTYP', 'FUNCSTAT', 'ALAND', 'AWATER', 'INTPTLAT', 'INTPTLON',\n",
    "       'ELSDLEA', 'UNSDLEA', 'geometry']]"
   ]
  },
  {
   "cell_type": "code",
   "execution_count": 1243,
   "id": "32e9019a",
   "metadata": {},
   "outputs": [],
   "source": [
    "# 35 don't merge\n",
    "districts2014_shp = districts2014_shp.merge(district_information_index14, how='outer', left_on='GEOID', right_on='geoleaid')"
   ]
  },
  {
   "cell_type": "code",
   "execution_count": 1244,
   "id": "bef492f1",
   "metadata": {},
   "outputs": [],
   "source": [
    "# filter out rows that don't merge\n",
    "districts2014_shp = districts2014_shp[pd.notna(districts2014_shp['GEOID'])]"
   ]
  },
  {
   "cell_type": "code",
   "execution_count": 1245,
   "id": "13b1c450",
   "metadata": {},
   "outputs": [],
   "source": [
    "districts2014_shp['bin'] = 1\n",
    "districts2014_shp.bin[(districts2014_shp['segregation_index'] >= 0.2500001) & (districts2014_shp['segregation_index'] <= 0.50)] = 2\n",
    "districts2014_shp.bin[(districts2014_shp['segregation_index'] >= 0.5000001) & (districts2014_shp['segregation_index'] <= 0.75)] = 3\n",
    "districts2014_shp.bin[(districts2014_shp['segregation_index'] >= 0.7500001) & (districts2014_shp['segregation_index'] <= 1)] = 4"
   ]
  },
  {
   "cell_type": "code",
   "execution_count": 1246,
   "id": "d21e77e2",
   "metadata": {},
   "outputs": [
    {
     "name": "stderr",
     "output_type": "stream",
     "text": [
      "/var/folders/f_/y82bl01510z6_6b9mz3cg6br0000gn/T/ipykernel_21509/955364544.py:1: UserWarning: Column names longer than 10 characters will be truncated when saved to ESRI Shapefile.\n",
      "  districts2014_shp.to_file('/Users/lacm/Documents/Stanford/*Capstone Research/Data/SY 2013-14/School Districts (NCES)/schooldistrict_sy1314_tl15.shp',\n"
     ]
    }
   ],
   "source": [
    "districts2014_shp.to_file('/Users/lacm/Documents/Stanford/*Capstone Research/Data/SY 2013-14/School Districts (NCES)/schooldistrict_sy1314_tl15.shp',\n",
    "                       driver='ESRI Shapefile')"
   ]
  },
  {
   "cell_type": "markdown",
   "id": "32e0d97e",
   "metadata": {},
   "source": [
    "<b>2015-16</b>"
   ]
  },
  {
   "cell_type": "code",
   "execution_count": 1247,
   "id": "c7f060d2",
   "metadata": {},
   "outputs": [],
   "source": [
    "districts2016_shp = gpd.read_file('/Users/lacm/Documents/Stanford/*Capstone Research/Data/SY 2015-16/School Districts (NCES)/schooldistrict_sy1516_tl17.shp')"
   ]
  },
  {
   "cell_type": "code",
   "execution_count": 1248,
   "id": "0c7cc7c7",
   "metadata": {},
   "outputs": [],
   "source": [
    "districts2016_shp = districts2016_shp[['STATEFP', 'GEOID', 'NAME', 'LSAD', 'LOGRADE', 'HIGRADE', 'MTFCC',\n",
    "       'SDTYP', 'FUNCSTAT', 'ALAND', 'AWATER', 'INTPTLAT', 'INTPTLON',\n",
    "       'ELSDLEA', 'UNSDLEA', 'SCSDLEA', 'geometry']]"
   ]
  },
  {
   "cell_type": "code",
   "execution_count": 1249,
   "id": "dd0569ea",
   "metadata": {},
   "outputs": [],
   "source": [
    "# 34 don't merge\n",
    "districts2016_shp = districts2016_shp.merge(district_information_index16, how='outer', left_on='GEOID', right_on='geoleaid')"
   ]
  },
  {
   "cell_type": "code",
   "execution_count": 1250,
   "id": "e90e7d30",
   "metadata": {},
   "outputs": [],
   "source": [
    "# filter out rows that don't merge\n",
    "districts2016_shp = districts2016_shp[pd.notna(districts2016_shp['GEOID'])]"
   ]
  },
  {
   "cell_type": "code",
   "execution_count": 1251,
   "id": "8d434203",
   "metadata": {},
   "outputs": [],
   "source": [
    "districts2016_shp['bin'] = 1\n",
    "districts2016_shp.bin[(districts2016_shp['segregation_index'] >= 0.2500001) & (districts2016_shp['segregation_index'] <= 0.50)] = 2\n",
    "districts2016_shp.bin[(districts2016_shp['segregation_index'] >= 0.5000001) & (districts2016_shp['segregation_index'] <= 0.75)] = 3\n",
    "districts2016_shp.bin[(districts2016_shp['segregation_index'] >= 0.7500001) & (districts2016_shp['segregation_index'] <= 1)] = 4"
   ]
  },
  {
   "cell_type": "code",
   "execution_count": 1252,
   "id": "f25038e5",
   "metadata": {},
   "outputs": [
    {
     "name": "stderr",
     "output_type": "stream",
     "text": [
      "/var/folders/f_/y82bl01510z6_6b9mz3cg6br0000gn/T/ipykernel_21509/3377585400.py:1: UserWarning: Column names longer than 10 characters will be truncated when saved to ESRI Shapefile.\n",
      "  districts2016_shp.to_file('/Users/lacm/Documents/Stanford/*Capstone Research/Data/SY 2015-16/School Districts (NCES)/schooldistrict_sy1516_tl17.shp',\n"
     ]
    }
   ],
   "source": [
    "districts2016_shp.to_file('/Users/lacm/Documents/Stanford/*Capstone Research/Data/SY 2015-16/School Districts (NCES)/schooldistrict_sy1516_tl17.shp',\n",
    "                       driver='ESRI Shapefile')"
   ]
  }
 ],
 "metadata": {
  "kernelspec": {
   "display_name": "Python 3 (ipykernel)",
   "language": "python",
   "name": "python3"
  },
  "language_info": {
   "codemirror_mode": {
    "name": "ipython",
    "version": 3
   },
   "file_extension": ".py",
   "mimetype": "text/x-python",
   "name": "python",
   "nbconvert_exporter": "python",
   "pygments_lexer": "ipython3",
   "version": "3.9.7"
  }
 },
 "nbformat": 4,
 "nbformat_minor": 5
}
